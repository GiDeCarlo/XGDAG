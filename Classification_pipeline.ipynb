{
 "cells": [
  {
   "cell_type": "markdown",
   "metadata": {},
   "source": [
    "# Helper Functions"
   ]
  },
  {
   "cell_type": "markdown",
   "metadata": {},
   "source": [
    "## Packets"
   ]
  },
  {
   "cell_type": "code",
   "execution_count": 2,
   "metadata": {},
   "outputs": [
    {
     "name": "stdout",
     "output_type": "stream",
     "text": [
      "1.11.0\n",
      "2.0.4\n",
      "cuda\n"
     ]
    }
   ],
   "source": [
    "import heapq\n",
    "import random\n",
    "import numpy as np\n",
    "import pandas as pd\n",
    "import seaborn as sn\n",
    "import networkx as nx\n",
    "from tqdm.notebook import tqdm\n",
    "import matplotlib.pyplot as plt\n",
    "\n",
    "import torch\n",
    "import torch.nn as nn\n",
    "import torch.nn.functional as F\n",
    "\n",
    "import torch_geometric\n",
    "from torch_geometric.utils import from_networkx\n",
    "from torch_geometric.data import InMemoryDataset\n",
    "from torch_geometric.nn.models import GNNExplainer\n",
    "from torch_geometric.nn.conv import SAGEConv, GraphConv\n",
    "\n",
    "from sklearn.metrics import confusion_matrix\n",
    "from sklearn.metrics import classification_report\n",
    "from sklearn.model_selection import train_test_split\n",
    "\n",
    "random.seed(42)\n",
    "np.random.seed(42)\n",
    "torch.manual_seed(42)\n",
    "\n",
    "device = 'cuda' if torch.cuda.is_available() else 'cpu'\n",
    "print(torch.__version__)\n",
    "print(torch_geometric.__version__)\n",
    "print(device)"
   ]
  },
  {
   "cell_type": "markdown",
   "metadata": {},
   "source": [
    "## GNNs"
   ]
  },
  {
   "cell_type": "code",
   "execution_count": 3,
   "metadata": {},
   "outputs": [],
   "source": [
    "class GNN7L_Sage (nn.Module):\n",
    "    def __init__(self, data):\n",
    "        super().__init__()\n",
    "        self.conv1 = SAGEConv(data.num_features, 16, aggr='max')\n",
    "        self.conv2 = SAGEConv(16, 16, aggr='max')\n",
    "        self.conv3 = SAGEConv(16, 16, aggr='max')\n",
    "        self.conv4 = SAGEConv(16, 16, aggr='max')\n",
    "        self.conv5 = SAGEConv(16, 16, aggr='max')\n",
    "        self.conv6 = SAGEConv(16, 16, aggr='max')\n",
    "        self.conv7 = SAGEConv(16, int(data.num_classes), aggr='max')\n",
    "\n",
    "    def forward(self, x, edge_index):\n",
    "        # x, edge_index = data.x, data.edge_index\n",
    "\n",
    "        x = F.relu(self.conv1(x, edge_index))\n",
    "        x = F.relu(self.conv2(x, edge_index))\n",
    "        x = F.relu(self.conv3(x, edge_index))\n",
    "        x = F.relu(self.conv4(x, edge_index))\n",
    "        x = F.relu(self.conv5(x, edge_index))\n",
    "        x = F.relu(self.conv6(x, edge_index))\n",
    "        x = F.dropout(x, training=self.training)\n",
    "        x = self.conv7(x, edge_index)\n",
    "\n",
    "        return F.log_softmax(x, dim=1)\n",
    "\n",
    "class GNN7L_GraphConv (nn.Module):\n",
    "    def __init__(self, data):\n",
    "        super().__init__()\n",
    "        self.conv1 = GraphConv(data.num_features, 16, aggr='mean')\n",
    "        self.conv2 = GraphConv(16, 16, aggr='mean')\n",
    "        self.conv3 = GraphConv(16, 16, aggr='mean')\n",
    "        self.conv4 = GraphConv(16, 16, aggr='mean')\n",
    "        self.conv5 = GraphConv(16, 16, aggr='mean')\n",
    "        self.conv6 = GraphConv(16, 16, aggr='mean')\n",
    "        self.conv7 = GraphConv(16, int(data.num_classes), aggr='mean')\n",
    "\n",
    "    def forward(self, x, edge_index):\n",
    "        # x, edge_index = data.x, data.edge_index\n",
    "\n",
    "        x = F.relu(self.conv1(x, edge_index))\n",
    "        x = F.relu(self.conv2(x, edge_index))\n",
    "        x = F.relu(self.conv3(x, edge_index))\n",
    "        x = F.relu(self.conv4(x, edge_index))\n",
    "        x = F.relu(self.conv5(x, edge_index))\n",
    "        x = F.relu(self.conv6(x, edge_index))\n",
    "        x = F.dropout(x, training=self.training)\n",
    "        x = self.conv7(x, edge_index)\n",
    "\n",
    "        return F.log_softmax(x, dim=1)"
   ]
  },
  {
   "cell_type": "markdown",
   "metadata": {},
   "source": [
    "## Dataset Loader"
   ]
  },
  {
   "cell_type": "code",
   "execution_count": 4,
   "metadata": {},
   "outputs": [],
   "source": [
    "# Dataset class: it allows to translate a vector (Graph, Attributes, Labels)\n",
    "# into a dataset compatible with the PyTorch models.\n",
    "# \n",
    "# Parameters:\n",
    "# - G: NetworkX graph\n",
    "# - labels: of the nodes used for classification\n",
    "# - attributes: List of the nodes' attributes\n",
    "# - num_classes: number of classes to classify\n",
    "\n",
    "class MyDataset(InMemoryDataset):\n",
    "  def __init__(self, G, labels, attributes, num_classes=2):\n",
    "    super(MyDataset, self).__init__('.', None, None, None)\n",
    "\n",
    "    # import data from the networkx graph with the attributes of the nodes\n",
    "    data = from_networkx(G, attributes)\n",
    "      \n",
    "    y = torch.from_numpy(labels).type(torch.long)\n",
    "\n",
    "    data.x = data.x.float()\n",
    "    data.y = y.clone().detach()\n",
    "    data.num_classes = num_classes\n",
    "\n",
    "    # Using train_test_split function from sklearn to stratify train/test/val sets\n",
    "    indices = range(G.number_of_nodes())\n",
    "    # Stratified split of train/test/val sets. Returned indices are used to create the masks\n",
    "    X_train, X_test, y_train, y_test, train_idx, test_idx = train_test_split(data.x, data.y, indices, test_size=0.3, stratify=labels, random_state=42)\n",
    "    # To create validation set, test set is splitted in half\n",
    "    X_test, X_val, y_test, y_val, test_idx, val_idx = train_test_split(X_test, y_test, test_idx, test_size=0.5, stratify=y_test, random_state=42)\n",
    "\n",
    "    n_nodes = G.number_of_nodes()\n",
    "    train_mask  = torch.zeros(n_nodes, dtype=torch.bool)\n",
    "    test_mask   = torch.zeros(n_nodes, dtype=torch.bool)\n",
    "    val_mask    = torch.zeros(n_nodes, dtype=torch.bool)\n",
    "    \n",
    "    for idx in train_idx:\n",
    "      train_mask[idx] = True\n",
    "\n",
    "    for idx in test_idx:\n",
    "      test_mask[idx] = True\n",
    "    \n",
    "    for idx in val_idx:\n",
    "      val_mask[idx] = True\n",
    "\n",
    "    data['train_mask']  = train_mask\n",
    "    data['test_mask']   = test_mask\n",
    "    data['val_mask']    = val_mask\n",
    "\n",
    "    self.data, self.slices = self.collate([data])"
   ]
  },
  {
   "cell_type": "markdown",
   "metadata": {},
   "source": [
    "## Classification Function"
   ]
  },
  {
   "cell_type": "code",
   "execution_count": 5,
   "metadata": {},
   "outputs": [],
   "source": [
    "def show_results(data, output, classes):\n",
    "    labels = data.y\n",
    "    test_mask = data.test_mask\n",
    "\n",
    "    print(classification_report(labels[test_mask].to('cpu'), output[test_mask].to('cpu')))\n",
    "\n",
    "    #Confusion Matrix\n",
    "    norms = [None, \"true\"]\n",
    "    for norm in norms:\n",
    "        cm = confusion_matrix(labels[test_mask].to('cpu'), output[test_mask].to('cpu'), normalize=norm)\n",
    "\n",
    "        plt.figure(figsize=(7,7))\n",
    "        \n",
    "        if norm == \"true\":\n",
    "            sn.heatmap(cm, annot=True, fmt=\".3f\", linewidths=.5, square = True, cmap = 'BuPu', xticklabels = classes, yticklabels = classes)\n",
    "        else:\n",
    "            sn.heatmap(cm, annot=True, fmt=\".0f\", linewidths=.5, square = True, cmap = 'BuPu', xticklabels = classes, yticklabels = classes)\n",
    "        plt.ylabel('Actual label')\n",
    "        plt.xlabel('Predicted label')\n",
    "\n",
    "# model_name: 'CONV', 'SAGE'\n",
    "# path: path to the saved model file\n",
    "def GDAClassification(data, model_name, path):\n",
    "    classes = None\n",
    "    if data.num_classes == 2:\n",
    "        classes = ['U', 'P']\n",
    "    elif data.num_classes == 5:\n",
    "        classes=['P', 'LP', 'WN', 'LN', 'RN']\n",
    "    else:\n",
    "        print('[ERR] Wrong number of classes. Number passed:', data.num_classes)\n",
    "        return -1\n",
    "\n",
    "    model = None\n",
    "    if model_name == 'CONV':\n",
    "        model = GNN7L_GraphConv(data).to(device)\n",
    "    elif model_name == 'SAGE':\n",
    "        model = GNN7L_Sage(data).to(device)\n",
    "    else:\n",
    "        print('[ERR] Wrong model name. Name passed:', model_name)\n",
    "        return -1\n",
    "\n",
    "    model.load_state_dict(torch.load(path))\n",
    "    model.eval()\n",
    "    logits = model(data.x, data.edge_index)\n",
    "    output = logits.argmax(1)\n",
    "\n",
    "    show_results(data, output, classes)\n",
    "    \n",
    "    return output, logits, model"
   ]
  },
  {
   "cell_type": "markdown",
   "metadata": {},
   "source": [
    "# GDARanking"
   ]
  },
  {
   "cell_type": "markdown",
   "metadata": {},
   "source": [
    "## Dataset creation function"
   ]
  },
  {
   "cell_type": "code",
   "execution_count": 6,
   "metadata": {},
   "outputs": [],
   "source": [
    "def create_dataset(G, num_classes):\n",
    "\n",
    "    labels = []\n",
    "\n",
    "    if num_classes == 2:\n",
    "        labels_df = pd.read_csv('Datasets/C0006142_Malignant_neoplasm_of_breast_features.csv')\n",
    "        labels_df = dict(zip(labels_df['name'], labels_df['class']))\n",
    "        for node in G:\n",
    "            labels.append(labels_df[node])\n",
    "\n",
    "    elif num_classes == 5:\n",
    "        seed_genes          = pd.read_csv('Datasets/C0006142_Malignant_neoplasm_of_breast_seed_genes.txt', header=None, sep=' ')\n",
    "        seed_genes.columns  = [\"name\", \"GDA Score\"]\n",
    "        seeds_list          = seed_genes[\"name\"].values.tolist()\n",
    "\n",
    "        nedbit_scores = pd.read_csv('Datasets/C0006142_Malignant_neoplasm_of_breast_features_Score.csv')\n",
    "\n",
    "        # Remove seed genes\n",
    "        nedbit_scores_not_seed = nedbit_scores[~nedbit_scores['name'].isin(seeds_list)]\n",
    "\n",
    "        # Sort scores for quartile division\n",
    "        nedbit_scores_not_seed = nedbit_scores_not_seed.sort_values(by = \"out\", ascending = False)\n",
    "        pseudo_labels = pd.qcut(x = nedbit_scores_not_seed[\"out\"], q = 4, labels = [\"RN\", \"LN\", \"WN\", \"LP\"])\n",
    "\n",
    "        nedbit_scores_not_seed['label'] = pseudo_labels\n",
    "\n",
    "        nedbit_scores_seed = nedbit_scores[nedbit_scores['name'].isin(seeds_list)]\n",
    "        nedbit_scores_seed = nedbit_scores_seed.assign(label = 'P')\n",
    "\n",
    "        # Convert dataframe to dict for searching nodes and their labels\n",
    "        not_seed_labels = dict(zip(nedbit_scores_not_seed['name'], nedbit_scores_not_seed['label']))\n",
    "        seed_labels     = dict(zip(nedbit_scores_seed['name'], nedbit_scores_seed['label']))\n",
    "\n",
    "        labels_dict = {'P':0, 'LP': 1, 'WN': 2, 'LN': 3, 'RN': 4}\n",
    "\n",
    "        for node in G:\n",
    "            if node in not_seed_labels:\n",
    "                labels.append(labels_dict[not_seed_labels[node]])\n",
    "            else:\n",
    "                labels.append(labels_dict[seed_labels[node]])\n",
    "\n",
    "    else:\n",
    "        print('[ERR] Wrong number of classes. Number passed:', num_classes)\n",
    "        return -1\n",
    "\n",
    "    attributes = ['degree', 'ring', 'NetRank', 'NetShort', 'HeatDiff', 'InfoDiff']\n",
    "\n",
    "    labels = np.asarray(labels)\n",
    "    \n",
    "    dataset_with_nedbit = MyDataset(G, labels, attributes, num_classes=num_classes)\n",
    "    data_with_nedbit = dataset_with_nedbit[0]\n",
    "\n",
    "    return data_with_nedbit"
   ]
  },
  {
   "cell_type": "code",
   "execution_count": 7,
   "metadata": {},
   "outputs": [],
   "source": [
    "G = nx.read_gml('Graphs/graph_with_normalized_nedbit.gml')"
   ]
  },
  {
   "cell_type": "markdown",
   "metadata": {},
   "source": [
    "## Prediction"
   ]
  },
  {
   "cell_type": "code",
   "execution_count": 9,
   "metadata": {},
   "outputs": [
    {
     "name": "stdout",
     "output_type": "stream",
     "text": [
      "              precision    recall  f1-score   support\n",
      "\n",
      "           0       0.99      0.99      0.99       154\n",
      "           1       0.96      0.98      0.97       703\n",
      "           2       0.88      0.94      0.91       702\n",
      "           3       0.97      0.88      0.92       703\n",
      "           4       0.99      1.00      1.00       702\n",
      "\n",
      "    accuracy                           0.95      2964\n",
      "   macro avg       0.96      0.96      0.96      2964\n",
      "weighted avg       0.95      0.95      0.95      2964\n",
      "\n"
     ]
    },
    {
     "data": {
      "image/png": "[encoded data removed]",
      "text/plain": [
       "<Figure size 504x504 with 2 Axes>"
      ]
     },
     "metadata": {
      "needs_background": "light"
     },
     "output_type": "display_data"
    },
    {
     "data": {
      "image/png": "[encoded data removed]",
      "text/plain": [
       "<Figure size 504x504 with 2 Axes>"
      ]
     },
     "metadata": {
      "needs_background": "light"
     },
     "output_type": "display_data"
    }
   ],
   "source": [
    "multiclass_data = create_dataset(G, 5).to(device)\n",
    "sage_pred_multi, sage_prob_multi, sage_model = GDAClassification(multiclass_data, 'SAGE', 'Models/SAGE7L_multiclass_16HC_v2_max_40000_0_0005')"
   ]
  },
  {
   "cell_type": "markdown",
   "metadata": {},
   "source": [
    "# Explainabilty"
   ]
  },
  {
   "cell_type": "code",
   "execution_count": 10,
   "metadata": {},
   "outputs": [
    {
     "name": "stdout",
     "output_type": "stream",
     "text": [
      "# of predicted positive genes in test mask: 153\n",
      "# of predicted overall likely positive genes: 4729\n"
     ]
    }
   ],
   "source": [
    "# Predicted P(ositive) genes in the test mask\n",
    "# dictionaries with {gene: prob}\n",
    "test_P      = {}\n",
    "overall_LP  = {}\n",
    "\n",
    "test_mask = multiclass_data.test_mask\n",
    "test_preds = sage_pred_multi[test_mask]\n",
    "test_probs = sage_prob_multi[test_mask]\n",
    "\n",
    "test_nodes = []\n",
    "i = 0\n",
    "for node in G.nodes:\n",
    "    if test_mask[i]:\n",
    "        test_nodes.append(node)\n",
    "    if sage_pred_multi[i] == 1 and node not in overall_LP:\n",
    "        overall_LP[node] = sage_prob_multi[i][1].item() # take probability of class 1 (LP)\n",
    "    i += 1\n",
    "\n",
    "i = 0\n",
    "for node in test_nodes:\n",
    "    if test_preds[i] == 0 and node not in test_P: #P\n",
    "        test_P[node] = test_probs[i][0].item() # take probability of class 0 (p)\n",
    "    i += 1\n",
    "\n",
    "print('# of predicted positive genes in test mask:', len(test_P))\n",
    "print('# of predicted overall likely positive genes:', len(overall_LP))"
   ]
  },
  {
   "cell_type": "code",
   "execution_count": 86,
   "metadata": {},
   "outputs": [],
   "source": [
    "k_test_positive_genes   = 16\n",
    "k_explanation_nodes     = 0.25\n",
    "k_candidates_for_seed   = 10\n",
    "\n",
    "top_k_test_P = heapq.nlargest(k_test_positive_genes, test_P, key=test_P.get)\n",
    "\n",
    "# list of positive genes indexes in test_mask\n",
    "top_k_test_P_idx = []\n",
    "\n",
    "for node in top_k_test_P:\n",
    "    i = 0\n",
    "    for n in G.nodes:\n",
    "        if node == n:\n",
    "            top_k_test_P_idx.append(i)\n",
    "            break\n",
    "        i += 1\n",
    "\n",
    "edge_index = multiclass_data.edge_index\n",
    "\n",
    "# dict to store for each index the number of nodes (pos 0)\n",
    "# and edges (pos 1) in the subgraph\n",
    "subg_numnodes_d = {}\n",
    "\n",
    "for i in top_k_test_P_idx:\n",
    "    subg_nodes, subg_edge_index, subg_mapping, subg_edge_mask = torch_geometric.utils.k_hop_subgraph(i, 1, edge_index)\n",
    "    if i not in subg_numnodes_d:\n",
    "        subg_numnodes_d[i] = [len(subg_nodes), subg_edge_index.shape[1]]"
   ]
  },
  {
   "cell_type": "markdown",
   "metadata": {},
   "source": [
    "### 1 Hop"
   ]
  },
  {
   "cell_type": "code",
   "execution_count": null,
   "metadata": {},
   "outputs": [],
   "source": [
    "x = multiclass_data.x\n",
    "y = multiclass_data.y\n",
    "edge_index = multiclass_data.edge_index\n",
    "\n",
    "candidates = {}\n",
    "\n",
    "for i in tqdm(range(len(top_k_test_P_idx))):\n",
    "    nodes_names = list(G.nodes)\n",
    "\n",
    "    idx = top_k_test_P_idx[i]\n",
    "    idx_name = nodes_names[idx]\n",
    "    candidates[idx_name] = {}\n",
    "\n",
    "    mean_mask = torch.zeros(edge_index.shape[1]).to('cpu')\n",
    "\n",
    "    for i in tqdm(range(10)):\n",
    "        explainer = GNNExplainer(sage_model, epochs=200, return_type='log_prob', num_hops=1, log=False)\n",
    "        node_feat_mask, edge_mask = explainer.explain_node(idx, x, edge_index)\n",
    "        mean_mask += edge_mask.to('cpu')\n",
    "\n",
    "    mean_mask = torch.div(mean_mask, 10)\n",
    "\n",
    "    num_nodes = int(round(subg_numnodes_d[idx][0]*k_explanation_nodes))\n",
    "\n",
    "    values, indices = torch.topk(mean_mask, subg_numnodes_d[idx][1]) #take ordered list of all edges\n",
    "\n",
    "    seen_genes = set()\n",
    "\n",
    "    for i in range(len(indices)):\n",
    "        src = edge_index[0][indices[i]]\n",
    "        trgt = edge_index[1][indices[i]]\n",
    "\n",
    "        src_name = nodes_names[src]\n",
    "        trgt_name = nodes_names[trgt]\n",
    "\n",
    "        src_pred = sage_pred_multi[src]\n",
    "        trgt_pred = sage_pred_multi[trgt]\n",
    "\n",
    "        # if gene has not been seen and it is not the explained node\n",
    "        # we add it to the seen genes set\n",
    "        if src_name != idx_name:\n",
    "            seen_genes.add(src_name)\n",
    "        if trgt_name != idx_name:\n",
    "            seen_genes.add(trgt_name)\n",
    "\n",
    "        if src_pred == 1: # LP\n",
    "            if src_name not in candidates[idx_name]:\n",
    "                candidates[idx_name][src_name] = values[i]\n",
    "            else:\n",
    "                candidates[idx_name][src_name] += values[i]\n",
    "\n",
    "        if trgt_pred == 1: # LP\n",
    "\n",
    "            if trgt_name not in candidates[idx_name]:\n",
    "                candidates[idx_name][trgt_name] = values[i]\n",
    "            else:\n",
    "                candidates[idx_name][trgt_name] += values[i]\n",
    "        \n",
    "        # when the seen geens set reaches the num_nodes threshold\n",
    "        # break the loop\n",
    "        if len(seen_genes) >= num_nodes:\n",
    "            break\n",
    "\n",
    "all_top_LP = []\n",
    "for seed in candidates:\n",
    "    all_top_LP += heapq.nlargest(k_candidates_for_seed, candidates[seed], key=candidates[seed].get)\n",
    "\n",
    "all_top_LP = list(set(all_top_LP))"
   ]
  },
  {
   "cell_type": "code",
   "execution_count": 83,
   "metadata": {},
   "outputs": [
    {
     "data": {
      "text/plain": [
       "100"
      ]
     },
     "execution_count": 83,
     "metadata": {},
     "output_type": "execute_result"
    }
   ],
   "source": [
    "len(all_top_LP)"
   ]
  },
  {
   "cell_type": "code",
   "execution_count": 84,
   "metadata": {},
   "outputs": [
    {
     "name": "stdout",
     "output_type": "stream",
     "text": [
      "# of genes found in the extended dataset: 67\n",
      "\n",
      "----\n",
      "SLC9A3R2 CDK9 MCM7 PLD1 XPO1 HSPA1A SLC9A3R1 ITPR1 CSNK2B GNL3 SP1 MAPK14 WDR5 HSPA5 ELAVL1 CBL BRD4 UBC ARRB1 RPS6KA1 LYN CSNK1E IKBKG PML NTRK1 ORC4 KIF14 HSPA8 TPT1 TRIM28 LAMP1 SLC5A6 RPA2 HSPB1 CFTR CSNK2A1 APP PIK3R1 HDAC3 PHB2 ARF6 SQSTM1 MYC ATAD3A KIF23 SMURF1 HDAC2 USP1 RACGAP1 TRIM25 STUB1 TERF2IP LMNA PLCG1 PSMD7 TGFBR1 RAB2A PNO1 RECQL4 BTRC MAP2K1 BAG3 NPM1 NRAS BCL2L1 APEX1 ABCE1 \n",
      "----\n",
      "IARS2 PPP1CC CDC37 CDC14B UQCRC1 FAM83H TCEB2 PKP4 TCEB3 FBXW11 GNB2L1 TEAD2 PSMC5 SPTA1 NDUFV3 PCF11 CCDC96 FARP2 PSMD6 TNIP2 DECR2 SPTBN1 PEX5 PLEKHA4 DPM1 ERC1 PSMD11 HIST1H4A KIAA1429 EFTUD2 RBBP4 ALMS1 PSMD12 \n"
     ]
    }
   ],
   "source": [
    "extended_genes = pd.read_csv('Datasets/all_gene_disease_associations.tsv', sep='\\t')\n",
    "extended_genes = extended_genes[extended_genes['diseaseId'] == 'C0006142']\n",
    "extended_genes_names = set(extended_genes['geneSymbol'].tolist())\n",
    "\n",
    "genes_in_extended       = []\n",
    "genes_not_in_extended   = []\n",
    "\n",
    "for gene in all_top_LP:\n",
    "    if gene in extended_genes_names:\n",
    "        genes_in_extended.append(gene)\n",
    "    else:\n",
    "        genes_not_in_extended.append(gene)\n",
    "\n",
    "print('# of genes found in the extended dataset:', len(genes_in_extended))\n",
    "\n",
    "print('\\n----')\n",
    "for g in genes_in_extended:\n",
    "    print(g, end=' ')\n",
    "print('\\n----')\n",
    "\n",
    "for g in genes_not_in_extended:\n",
    "    print(g, end=' ')\n",
    "print()\n"
   ]
  },
  {
   "cell_type": "markdown",
   "metadata": {},
   "source": [
    "### 2 hops"
   ]
  },
  {
   "cell_type": "code",
   "execution_count": null,
   "metadata": {},
   "outputs": [],
   "source": [
    "edge_index = multiclass_data.edge_index\n",
    "\n",
    "# dict to store for each index the number of nodes (pos 0)\n",
    "# and edges (pos 1) in the subgraph\n",
    "subg_numnodes_d_2hop = {}\n",
    "\n",
    "for i in top_k_test_P_idx:\n",
    "    subg_nodes, subg_edge_index, subg_mapping, subg_edge_mask = torch_geometric.utils.k_hop_subgraph(i, 2, edge_index)\n",
    "    if i not in subg_numnodes_d_2hop:\n",
    "        subg_numnodes_d_2hop[i] = [len(subg_nodes), subg_edge_index.shape[1]]\n",
    "\n",
    "subg_numnodes_d_2hop"
   ]
  },
  {
   "cell_type": "code",
   "execution_count": 87,
   "metadata": {},
   "outputs": [
    {
     "data": {
      "application/vnd.jupyter.widget-view+json": {
       "model_id": "1e49915c9d01408a9df65bc6bf0e1f60",
       "version_major": 2,
       "version_minor": 0
      },
      "text/plain": [
       "  0%|          | 0/16 [00:00<?, ?it/s]"
      ]
     },
     "metadata": {},
     "output_type": "display_data"
    },
    {
     "data": {
      "application/vnd.jupyter.widget-view+json": {
       "model_id": "72b51f5ada7c47b990631369485673f2",
       "version_major": 2,
       "version_minor": 0
      },
      "text/plain": [
       "  0%|          | 0/10 [00:00<?, ?it/s]"
      ]
     },
     "metadata": {},
     "output_type": "display_data"
    },
    {
     "data": {
      "application/vnd.jupyter.widget-view+json": {
       "model_id": "6987e145215845b085c1eb96e862046d",
       "version_major": 2,
       "version_minor": 0
      },
      "text/plain": [
       "  0%|          | 0/10 [00:00<?, ?it/s]"
      ]
     },
     "metadata": {},
     "output_type": "display_data"
    },
    {
     "data": {
      "application/vnd.jupyter.widget-view+json": {
       "model_id": "4fbf7e7e65124df2bba245207b6f297b",
       "version_major": 2,
       "version_minor": 0
      },
      "text/plain": [
       "  0%|          | 0/10 [00:00<?, ?it/s]"
      ]
     },
     "metadata": {},
     "output_type": "display_data"
    },
    {
     "data": {
      "application/vnd.jupyter.widget-view+json": {
       "model_id": "f267487fac7c45058f492a237b9b084f",
       "version_major": 2,
       "version_minor": 0
      },
      "text/plain": [
       "  0%|          | 0/10 [00:00<?, ?it/s]"
      ]
     },
     "metadata": {},
     "output_type": "display_data"
    },
    {
     "data": {
      "application/vnd.jupyter.widget-view+json": {
       "model_id": "6454e0b989f849f5a358baca8460764e",
       "version_major": 2,
       "version_minor": 0
      },
      "text/plain": [
       "  0%|          | 0/10 [00:00<?, ?it/s]"
      ]
     },
     "metadata": {},
     "output_type": "display_data"
    },
    {
     "data": {
      "application/vnd.jupyter.widget-view+json": {
       "model_id": "2ac7d348d19d4b259d3d352e18878dfb",
       "version_major": 2,
       "version_minor": 0
      },
      "text/plain": [
       "  0%|          | 0/10 [00:00<?, ?it/s]"
      ]
     },
     "metadata": {},
     "output_type": "display_data"
    },
    {
     "data": {
      "application/vnd.jupyter.widget-view+json": {
       "model_id": "68e77947c7114314872d33affd05bf93",
       "version_major": 2,
       "version_minor": 0
      },
      "text/plain": [
       "  0%|          | 0/10 [00:00<?, ?it/s]"
      ]
     },
     "metadata": {},
     "output_type": "display_data"
    },
    {
     "data": {
      "application/vnd.jupyter.widget-view+json": {
       "model_id": "49b8e38e51624d9ea5d33b200bf958f0",
       "version_major": 2,
       "version_minor": 0
      },
      "text/plain": [
       "  0%|          | 0/10 [00:00<?, ?it/s]"
      ]
     },
     "metadata": {},
     "output_type": "display_data"
    },
    {
     "data": {
      "application/vnd.jupyter.widget-view+json": {
       "model_id": "57424ca215d44c35870ab73628621d98",
       "version_major": 2,
       "version_minor": 0
      },
      "text/plain": [
       "  0%|          | 0/10 [00:00<?, ?it/s]"
      ]
     },
     "metadata": {},
     "output_type": "display_data"
    },
    {
     "data": {
      "application/vnd.jupyter.widget-view+json": {
       "model_id": "f7e090614fbc47fb9b267d7f4a2a95bf",
       "version_major": 2,
       "version_minor": 0
      },
      "text/plain": [
       "  0%|          | 0/10 [00:00<?, ?it/s]"
      ]
     },
     "metadata": {},
     "output_type": "display_data"
    },
    {
     "data": {
      "application/vnd.jupyter.widget-view+json": {
       "model_id": "0be58d979ea34ab5ace7cf30d1cf7261",
       "version_major": 2,
       "version_minor": 0
      },
      "text/plain": [
       "  0%|          | 0/10 [00:00<?, ?it/s]"
      ]
     },
     "metadata": {},
     "output_type": "display_data"
    },
    {
     "data": {
      "application/vnd.jupyter.widget-view+json": {
       "model_id": "d50f5815eae54937a69d4cb59304178f",
       "version_major": 2,
       "version_minor": 0
      },
      "text/plain": [
       "  0%|          | 0/10 [00:00<?, ?it/s]"
      ]
     },
     "metadata": {},
     "output_type": "display_data"
    },
    {
     "data": {
      "application/vnd.jupyter.widget-view+json": {
       "model_id": "ca4396f9dc0640fa807b7da4841ae7dd",
       "version_major": 2,
       "version_minor": 0
      },
      "text/plain": [
       "  0%|          | 0/10 [00:00<?, ?it/s]"
      ]
     },
     "metadata": {},
     "output_type": "display_data"
    },
    {
     "data": {
      "application/vnd.jupyter.widget-view+json": {
       "model_id": "1b204f748d614340ad4a95fe3f28dbd8",
       "version_major": 2,
       "version_minor": 0
      },
      "text/plain": [
       "  0%|          | 0/10 [00:00<?, ?it/s]"
      ]
     },
     "metadata": {},
     "output_type": "display_data"
    },
    {
     "data": {
      "application/vnd.jupyter.widget-view+json": {
       "model_id": "9b7404015f5e49c9a47f3fb22342372c",
       "version_major": 2,
       "version_minor": 0
      },
      "text/plain": [
       "  0%|          | 0/10 [00:00<?, ?it/s]"
      ]
     },
     "metadata": {},
     "output_type": "display_data"
    },
    {
     "data": {
      "application/vnd.jupyter.widget-view+json": {
       "model_id": "09fe171f388440f8a1a1a6728aef2dda",
       "version_major": 2,
       "version_minor": 0
      },
      "text/plain": [
       "  0%|          | 0/10 [00:00<?, ?it/s]"
      ]
     },
     "metadata": {},
     "output_type": "display_data"
    }
   ],
   "source": [
    "x = multiclass_data.x\n",
    "y = multiclass_data.y\n",
    "\n",
    "edge_index  = multiclass_data.edge_index\n",
    "nodes_names = list(G.nodes)\n",
    "\n",
    "candidates_2hop = {}\n",
    "\n",
    "for i in tqdm(range(len(top_k_test_P_idx))):\n",
    "    \n",
    "    idx = top_k_test_P_idx[i]\n",
    "    idx_name = nodes_names[idx]\n",
    "\n",
    "    # START of explainability\n",
    "    # Compute the mean mask as the mean of the masks returned by\n",
    "    # 10 explanations\n",
    "\n",
    "    mean_mask = torch.zeros(edge_index.shape[1]).to('cpu')\n",
    "\n",
    "    for i in tqdm(range(10)):\n",
    "        explainer = GNNExplainer(sage_model, epochs=200, return_type='log_prob', num_hops=2, log=False)\n",
    "        node_feat_mask, edge_mask = explainer.explain_node(idx, x, edge_index)\n",
    "        mean_mask += edge_mask.to('cpu')\n",
    "\n",
    "    mean_mask = torch.div(mean_mask, 10)\n",
    "\n",
    "    # END of explanaibility\n",
    "\n",
    "    # number of LP nodes to take from the seed gene\n",
    "    num_nodes = int(round(subg_numnodes_d_2hop[idx][0]*k_explanation_nodes))\n",
    "\n",
    "    values, indices = torch.topk(mean_mask, subg_numnodes_d_2hop[idx][1]) #take ordered list of all edges\n",
    "\n",
    "    seen_genes = set()\n",
    "\n",
    "    for i in range(len(indices)):\n",
    "        src = edge_index[0][indices[i]]\n",
    "        trgt = edge_index[1][indices[i]]\n",
    "\n",
    "        src_name = nodes_names[src]\n",
    "        trgt_name = nodes_names[trgt]\n",
    "\n",
    "        src_pred = sage_pred_multi[src]\n",
    "        trgt_pred = sage_pred_multi[trgt]\n",
    "\n",
    "        src_trgt_genes = {src_name: src_pred, trgt_name: trgt_pred}\n",
    "\n",
    "        for g in src_trgt_genes:\n",
    "            # if pred == LP and the gene has not been seen multiple times for the same seed gene\n",
    "            if src_trgt_genes[g] == 1 and g not in seen_genes:\n",
    "                seen_genes.add(g)\n",
    "                if g not in candidates_2hop:\n",
    "                    candidates_2hop[g] = {'counter': 1, 'score': values[i]}\n",
    "                else:\n",
    "                    candidates_2hop[g]['counter'] += 1\n",
    "                    candidates_2hop[g]['score'] += values[i]\n",
    "        \n",
    "        # when the seen geens set reaches the num_nodes threshold\n",
    "        # break the loop\n",
    "        if len(seen_genes) >= num_nodes:\n",
    "            break"
   ]
  },
  {
   "cell_type": "code",
   "execution_count": 88,
   "metadata": {},
   "outputs": [
    {
     "data": {
      "text/plain": [
       "911"
      ]
     },
     "execution_count": 88,
     "metadata": {},
     "output_type": "execute_result"
    }
   ],
   "source": [
    "all_top_LP_2hop = sorted(candidates_2hop.items(), key=lambda x: (x[1]['counter'], x[1]['score'].item()), reverse=True)\n",
    "len(all_top_LP_2hop)"
   ]
  },
  {
   "cell_type": "code",
   "execution_count": 89,
   "metadata": {},
   "outputs": [],
   "source": [
    "all_top_k_2hop = [item[0] for item in all_top_LP_2hop][:100]"
   ]
  },
  {
   "cell_type": "code",
   "execution_count": 90,
   "metadata": {},
   "outputs": [
    {
     "name": "stdout",
     "output_type": "stream",
     "text": [
      "# of genes found in the extended dataset: 68\n",
      "\n",
      "----\n",
      "HSPA8 MYC FZR1 AURKB KIF14 NTRK1 NPM1 HSP90AB1 CFTR ELAVL1 SQSTM1 KIF23 LMNA CIT CYLD TMPO LRRK2 PSMC3 CUL3 ARNT ATAD3A APEX1 APP HSPB1 HEXIM1 JUP PPP1R9B EMD CTBP1 TRAF6 UBE2I EGLN3 HSPA5 RBM39 YWHAE PLCG1 PPP2R1A TRIM28 NR2C2 NRAS PSMD4 UBC ILK GAPDH CCND2 ACTB STUB1 CCNF BRD4 CDK2 PPP1R13B LMNB1 LYN CRK PRKDC RPL13 MAP1LC3B MYH10 CUL4A MAPK1 TTN ARF6 USP9X BLM TRIM25 XRCC5 FAM83B PRKCZ \n",
      "----\n",
      "KIAA1429 PLEKHA4 EFTUD2 CDC37 YWHAQ HIST1H4A TNIP2 TCEB3 OBSL1 METTL14 WWP2 CAND1 RPS5 AP2M1 LMO7 ARHGAP21 PCBP2 FAM83H ATP5A1 TTLL5 SPTBN1 RPS24 RPS11 PLEC NUP107 NOP56 KIAA1671 NUP93 YWHAH ESYT2 PPP1CC ERH \n"
     ]
    }
   ],
   "source": [
    "extended_genes = pd.read_csv('Datasets/all_gene_disease_associations.tsv', sep='\\t')\n",
    "extended_genes = extended_genes[extended_genes['diseaseId'] == 'C0006142']\n",
    "extended_genes_names = set(extended_genes['geneSymbol'].tolist())\n",
    "\n",
    "genes_in_extended       = []\n",
    "genes_not_in_extended   = []\n",
    "\n",
    "for gene in all_top_k_2hop:\n",
    "    if gene in extended_genes_names:\n",
    "        genes_in_extended.append(gene)\n",
    "    else:\n",
    "        genes_not_in_extended.append(gene)\n",
    "\n",
    "print('# of genes found in the extended dataset:', len(genes_in_extended))\n",
    "\n",
    "print('\\n----')\n",
    "for g in genes_in_extended:\n",
    "    print(g, end=' ')\n",
    "print('\\n----')\n",
    "\n",
    "for g in genes_not_in_extended:\n",
    "    print(g, end=' ')\n",
    "print()"
   ]
  }
 ],
 "metadata": {
  "kernelspec": {
   "display_name": "Python 3.10.4 ('pytorch')",
   "language": "python",
   "name": "python3"
  },
  "language_info": {
   "codemirror_mode": {
    "name": "ipython",
    "version": 3
   },
   "file_extension": ".py",
   "mimetype": "text/x-python",
   "name": "python",
   "nbconvert_exporter": "python",
   "pygments_lexer": "ipython3",
   "version": "3.10.4"
  },
  "orig_nbformat": 4,
  "vscode": {
   "interpreter": {
    "hash": "6aeea6fe202f5c7201d5940e4573c0a76b23e4e16f0e3784ac81597546f2b3b3"
   }
  }
 },
 "nbformat": 4,
 "nbformat_minor": 2
}
