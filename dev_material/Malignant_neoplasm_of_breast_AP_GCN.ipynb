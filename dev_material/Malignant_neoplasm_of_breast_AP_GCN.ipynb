{
 "cells": [
  {
   "cell_type": "markdown",
   "metadata": {},
   "source": [
    "## Import packets"
   ]
  },
  {
   "cell_type": "code",
   "execution_count": 1,
   "metadata": {},
   "outputs": [
    {
     "data": {
      "text/plain": [
       "'cuda'"
      ]
     },
     "execution_count": 1,
     "metadata": {},
     "output_type": "execute_result"
    }
   ],
   "source": [
    "# import AP-GCN model\n",
    "from model import APGCN\n",
    "\n",
    "import time\n",
    "import random\n",
    "import numpy as np\n",
    "import pandas as pd\n",
    "import networkx as nx\n",
    "import seaborn as sns\n",
    "from tqdm.notebook import tqdm\n",
    "import matplotlib.pyplot as plt\n",
    "from collections import defaultdict\n",
    "\n",
    "import torch\n",
    "import torch.nn.functional as F\n",
    "from torch.optim import Adam, Optimizer\n",
    "from torch_geometric.utils import from_networkx\n",
    "from torch_geometric.data import Data, InMemoryDataset\n",
    "\n",
    "from sklearn.metrics import confusion_matrix\n",
    "from sklearn.metrics import classification_report\n",
    "from sklearn.model_selection import train_test_split\n",
    "\n",
    "random.seed(42)\n",
    "np.random.seed(42)\n",
    "torch.manual_seed(42)\n",
    "\n",
    "device = 'cuda' if torch.cuda.is_available() else 'cpu'\n",
    "device"
   ]
  },
  {
   "cell_type": "markdown",
   "metadata": {},
   "source": [
    "## Dataset loader"
   ]
  },
  {
   "cell_type": "code",
   "execution_count": 2,
   "metadata": {},
   "outputs": [],
   "source": [
    "# Dataset class: it allows to translate a vector (Graph, Attributes, Labels)\n",
    "# into a dataset compatible with the PyTorch models.\n",
    "# \n",
    "# Parameters:\n",
    "# - G: NetworkX graph\n",
    "# - Labels: of the nodes used for classification\n",
    "# - attributes: List of the nodes' attributes\n",
    "\n",
    "class MyDataset(InMemoryDataset):\n",
    "  def __init__(self, G, labels, attributes = None, num_classes = 2, balance = False, debug = False):\n",
    "    super(MyDataset, self).__init__('.', None, None, None)\n",
    "\n",
    "    # import data from the networkx graph with the attributes of the nodes\n",
    "    data = from_networkx(G, attributes)\n",
    "      \n",
    "    y = torch.from_numpy(labels).type(torch.long)\n",
    "\n",
    "    data.x = data.x.float()\n",
    "    data.y = y.clone().detach()\n",
    "    data.num_classes = num_classes\n",
    "\n",
    "    # Using train_test_split function from sklearn to stratify train/test/val sets\n",
    "    indices = range(G.number_of_nodes())\n",
    "    # Stratified split of train/test/val sets. Returned indices are used to create the masks\n",
    "    X_train, X_test, y_train, y_test, train_idx, test_idx = train_test_split(data.x, data.y, indices, test_size=0.3, stratify=labels)\n",
    "    # To create validation set, test set is splitted in half\n",
    "    X_test, X_val, y_test, y_val, test_idx, val_idx = train_test_split(X_test, y_test, test_idx, test_size=0.5, stratify=y_test)\n",
    "\n",
    "    n_nodes = G.number_of_nodes()\n",
    "    train_mask  = torch.zeros(n_nodes, dtype=torch.bool)\n",
    "    test_mask   = torch.zeros(n_nodes, dtype=torch.bool)\n",
    "    val_mask    = torch.zeros(n_nodes, dtype=torch.bool)\n",
    "\n",
    "    dataframe = pd.read_csv('Datasets/C0006142_Malignant_neoplasm_of_breast_features.csv')\n",
    "    dataframe = dict(zip(dataframe['name'], dataframe['class']))\n",
    "    nodes_list = list(G.nodes)\n",
    "\n",
    "    if not balance:\n",
    "      for idx in train_idx:\n",
    "        train_mask[idx] = True\n",
    "\n",
    "      for idx in test_idx:\n",
    "        test_mask[idx] = True\n",
    "      \n",
    "      for idx in val_idx:\n",
    "        val_mask[idx] = True\n",
    "    else:\n",
    "      # BALANCING THE TRAINING DATASET\n",
    "      # count the positive/negative nodes in the training mask\n",
    "      positive_nodes_in_train = 0\n",
    "      negative_nodes_in_train = 0\n",
    "      for idx in train_idx:\n",
    "        if dataframe[nodes_list[idx]]:\n",
    "          positive_nodes_in_train += 1\n",
    "        else:\n",
    "          negative_nodes_in_train += 1\n",
    "      \n",
    "      positive_nodes_in_test = 0\n",
    "      negative_nodes_in_test = 0\n",
    "      for idx in test_idx:\n",
    "        if dataframe[nodes_list[idx]]:\n",
    "          positive_nodes_in_test += 1\n",
    "        else:\n",
    "          negative_nodes_in_test += 1\n",
    "      \n",
    "      positive_nodes_in_val = 0\n",
    "      negative_nodes_in_val = 0\n",
    "      for idx in val_idx:\n",
    "        if dataframe[nodes_list[idx]]:\n",
    "          positive_nodes_in_val += 1\n",
    "        else:\n",
    "          negative_nodes_in_val += 1\n",
    "\n",
    "      # not adding the first (#negative - #positive) negative samples\n",
    "      n_unbalanced_samples_train = negative_nodes_in_train - positive_nodes_in_train\n",
    "      c = 0\n",
    "\n",
    "      for idx in train_idx:\n",
    "        if dataframe[nodes_list[idx]]:\n",
    "          train_mask[idx] = True\n",
    "        else:\n",
    "          # add to train mask after n_unbalanced_samples_train skipped\n",
    "          if c >= n_unbalanced_samples_train:\n",
    "            train_mask[idx] = True\n",
    "          c += 1\n",
    "      \n",
    "      n_unbalanced_samples_test = negative_nodes_in_test - positive_nodes_in_test\n",
    "      c = 0\n",
    "\n",
    "      for idx in test_idx:\n",
    "        if dataframe[nodes_list[idx]]:\n",
    "          test_mask[idx] = True\n",
    "        else:\n",
    "          # add to test mask after n_unbalanced_samples_test skipped\n",
    "          if c >= n_unbalanced_samples_test:\n",
    "            test_mask[idx] = True\n",
    "          c += 1\n",
    "      \n",
    "      n_unbalanced_samples_val = negative_nodes_in_val - positive_nodes_in_val\n",
    "      c = 0\n",
    "\n",
    "      for idx in val_idx:\n",
    "        if dataframe[nodes_list[idx]]:\n",
    "          val_mask[idx] = True\n",
    "        else:\n",
    "          # add to val mask after n_unbalanced_samples_val skipped\n",
    "          if c >= n_unbalanced_samples_val:\n",
    "            val_mask[idx] = True\n",
    "          c += 1\n",
    "    \n",
    "    # --- for debug purposes ---\n",
    "    if debug:\n",
    "\n",
    "      print('len train_idx:', len(train_idx))\n",
    "      print('len test_idx:', len(test_idx))\n",
    "      print('len val_idx:', len(val_idx))\n",
    "\n",
    "      pos = 0\n",
    "      neg = 0\n",
    "      # let's see if the mask is now balanced\n",
    "      for idx in train_idx:\n",
    "        # if the idx has been added to the training mask\n",
    "        if train_mask[idx]:\n",
    "          if dataframe[nodes_list[idx]]:\n",
    "            pos += 1\n",
    "          else:\n",
    "            neg += 1\n",
    "      \n",
    "      print('pos/neg in train mask:', pos, neg)\n",
    "    \n",
    "      pos = 0\n",
    "      neg = 0\n",
    "      # let's see if the mask is now balanced\n",
    "      for idx in test_idx:\n",
    "        # if the idx has been added to the testing mask\n",
    "        if test_mask[idx]:\n",
    "          if dataframe[nodes_list[idx]]:\n",
    "            pos += 1\n",
    "          else:\n",
    "            neg += 1\n",
    "      \n",
    "      print('pos/neg in test mask:', pos, neg)\n",
    "\n",
    "      pos = 0\n",
    "      neg = 0\n",
    "      # let's see if the mask is now balanced\n",
    "      for idx in val_idx:\n",
    "        # if the idx has been added to the validating mask\n",
    "        if val_mask[idx]:\n",
    "          if dataframe[nodes_list[idx]]:\n",
    "            pos += 1\n",
    "          else:\n",
    "            neg += 1\n",
    "      \n",
    "      print('pos/neg in val mask:', pos, neg)\n",
    "\n",
    "    data['train_mask']  = train_mask\n",
    "    data['test_mask']   = test_mask\n",
    "    data['val_mask']    = val_mask\n",
    "\n",
    "    self.data, self.slices = self.collate([data])"
   ]
  },
  {
   "cell_type": "markdown",
   "metadata": {},
   "source": [
    "## Training Function"
   ]
  },
  {
   "cell_type": "code",
   "execution_count": 3,
   "metadata": {},
   "outputs": [],
   "source": [
    "def summary(results):\n",
    "    report={}\n",
    "    for k, v in results.items():\n",
    "        if k != 'steps' and k != 'probs':\n",
    "            boots_series = sns.algorithms.bootstrap(results[k], func=np.mean, n_boot=1000)\n",
    "            report[k] = np.mean(results[k])\n",
    "            report[f'{k}_ci'] = np.max(np.abs(sns.utils.ci(boots_series, 95) - report[k]))\n",
    "        else:\n",
    "            array = np.array([k.mean().cpu().detach().numpy() for k in results['steps']])\n",
    "            boots_series = sns.algorithms.bootstrap(array, func=np.mean, n_boot=1000)\n",
    "            report[k] = np.mean(array)\n",
    "            report[f'{k}_ci'] = np.max(np.abs(sns.utils.ci(boots_series, 95) - report[k]))\n",
    "    return report\n",
    "\n",
    "def plot_density(results):\n",
    "    fig, ax = plt.subplots()\n",
    "\n",
    "    z =[(x.cpu().numpy()).astype(int) for x in results['steps']]\n",
    "    z = np.vstack(z)\n",
    "    z = np.mean(z,axis=0)\n",
    "\n",
    "    sns.distplot(z, hist = False, kde = True,\n",
    "                 kde_kws = {'shade': True, 'linewidth': 3}, \n",
    "                 ax=ax)\n",
    "    plt.xlabel('Number of Steps')\n",
    "    plt.ylabel('Density')\n",
    "    plt.tight_layout()\n",
    "    plt.show()\n",
    "    return\n",
    "\n",
    "def train(model: torch.nn.Module, optimizer: Optimizer, data: Data, train_halt, weight_decay: float):\n",
    "    model.train()\n",
    "    \n",
    "    for param in model.prop.parameters():\n",
    "        param.requires_grad = train_halt\n",
    "\n",
    "    optimizer.zero_grad()\n",
    "    logits, steps, reminders = model(data)\n",
    "    \n",
    "    loss = F.nll_loss(logits[data.train_mask], data.y[data.train_mask])\n",
    "    l2_reg = sum((torch.sum(param ** 2) for param in model.reg_params))\n",
    "    loss += weight_decay/2 * l2_reg + model.prop_penalty *(\n",
    "            steps[data.train_mask] + reminders[data.train_mask]).mean()\n",
    "    \n",
    "    loss.backward()\n",
    "    optimizer.step()\n",
    "    return logits\n",
    "\n",
    "def evaluate(model: torch.nn.Module, data: Data, test: bool, weight_decay: float):\n",
    "    model.eval()\n",
    "    \n",
    "    with torch.no_grad():\n",
    "        logits, steps, reminders = model(data)\n",
    "        \n",
    "        loss = F.nll_loss(logits[data.train_mask], data.y[data.train_mask])\n",
    "        l2_reg = sum((torch.sum(param ** 2) for param in model.reg_params))\n",
    "        loss += weight_decay/2 * l2_reg + model.prop_penalty *(\n",
    "                steps[data.train_mask] + reminders[data.train_mask]).mean()\n",
    "\n",
    "    eval_dict = {}\n",
    "    keys = ['train','val']\n",
    "    eval_dict['steps'] = steps\n",
    "    for key in keys:\n",
    "        mask = data[f'{key}_mask']\n",
    "        pred = logits[mask].max(1)[1]\n",
    "        acc = pred.eq(data.y[mask]).sum().item() / mask.sum().item()\n",
    "        eval_dict[f'{key}_acc'] = acc\n",
    "    return eval_dict, loss\n",
    "\n",
    "\n",
    "def test_acc(model: torch.nn.Module, data: Data):\n",
    "    model.eval()\n",
    "    \n",
    "    with torch.no_grad():\n",
    "        logits, steps, reminders = model(data)\n",
    "    mask = data['test_mask']\n",
    "    pred = logits[mask].max(1)[1]\n",
    "    acc = pred.eq(data.y[mask]).sum().item() / mask.sum().item()\n",
    "    return acc\n",
    "\n",
    "def run(model, dataset, lr=0.01, test=False, patience=100, max_epochs=1000, weight_decay=0.01):\n",
    "    classes = ['0','1']\n",
    "    logits = None\n",
    "    best_dict = defaultdict(list)\n",
    "\n",
    "    # model = model.reset_parameters()\n",
    "    optimizer = Adam(model.parameters(),lr=lr)\n",
    "\n",
    "    patience_counter = 0\n",
    "    best_loss = 999\n",
    "    tmp_dict = {'val_acc': 0}\n",
    "\n",
    "    start_time = time.perf_counter()\n",
    "    for epoch in tqdm(range(1, max_epochs + 1)):\n",
    "        if patience_counter == patience:\n",
    "            break\n",
    "\n",
    "        logits = train(model, optimizer, dataset.data.to(device), epoch%5==0, weight_decay)\n",
    "        eval_dict, loss = evaluate(model, dataset.data, test, weight_decay)\n",
    "                        \n",
    "        if(eval_dict['val_acc'] > tmp_dict['val_acc']) or (\n",
    "            (eval_dict['val_acc'] == tmp_dict['val_acc']) and loss < best_loss):\n",
    "            patience_counter = 0\n",
    "            tmp_dict['epoch'] = epoch\n",
    "            tmp_dict['runtime'] = time.perf_counter() - start_time\n",
    "            \n",
    "            for k, v in eval_dict.items():\n",
    "                tmp_dict[k] = v\n",
    "\n",
    "            best_state = {key: value.cpu() for key, value\n",
    "                                in model.state_dict().items()}\n",
    "        \n",
    "        else:\n",
    "            patience_counter += 1\n",
    "            \n",
    "        if loss < best_loss:\n",
    "            best_loss = loss\n",
    "            patience_counter = 0\n",
    "                    \n",
    "    model.load_state_dict(best_state)\n",
    "\n",
    "    tmp_dict['test_acc'] = test_acc(model,dataset.data)\n",
    "    print(\"Epoch: {:.1f}\"\" Train: {:.2f}\"\" Val: {:.2f}\"\" Test: {:.2f}\".format(\n",
    "            tmp_dict['epoch'],\n",
    "            tmp_dict['train_acc'] * 100,\n",
    "            tmp_dict['val_acc'] * 100,\n",
    "            tmp_dict['test_acc'] * 100))\n",
    "        \n",
    "    for k, v in tmp_dict.items():\n",
    "        best_dict[k].append(v)\n",
    "\n",
    "    results = dict(best_dict)\n",
    "\n",
    "    report = summary(results)\n",
    "\n",
    "    print(\"FINAL\\n\"\n",
    "        \"Train Accuracy: {:.2f} ± {:.2f}%\\n\"\n",
    "        \"Stopping Accuracy: {:.2f} ± {:.2f}%\\n\"\n",
    "        \"Test     Accuracy: {:.2f} ± {:.2f}%\\n\"\n",
    "        \"Steps: {:.2f} ± {:.2f}\\n\" \n",
    "        \"Epochs:  {:.2f} ± {:.2f}\\n\"\n",
    "        \"Runtime: {:.4f} ± {:.4f}\\n\"\n",
    "        .format(\n",
    "            report['train_acc'] * 100,\n",
    "            report['train_acc_ci'] * 100,\n",
    "            report['val_acc'] * 100,\n",
    "            report['val_acc_ci'] * 100,\n",
    "            report['test_acc']*100,\n",
    "            report['test_acc_ci']*100,\n",
    "            report['steps'],\n",
    "            report['steps_ci'],\n",
    "            report['epoch'],\n",
    "            report['epoch_ci'],\n",
    "            report['runtime'],\n",
    "            report['runtime_ci']))\n",
    "\n",
    "    plot_density(results)\n",
    "\n",
    "    return logits\n",
    "\n",
    "def cm_print(data, logits):\n",
    "    classes     = ['0','1']\n",
    "    test_mask   = data['test_mask']\n",
    "\n",
    "    labels = data.y\n",
    "    output = logits.argmax(1)\n",
    "\n",
    "    print(classification_report(labels[test_mask].to('cpu'), output[test_mask].to('cpu')))\n",
    "\n",
    "    #Confusion Matrix\n",
    "    norms = [None, \"true\"]\n",
    "    for norm in norms:\n",
    "        cm = confusion_matrix(labels[test_mask].to('cpu'), output[test_mask].to('cpu'), normalize=norm)\n",
    "\n",
    "        plt.figure(figsize=(7,7))\n",
    "        \n",
    "        if norm == \"true\":\n",
    "            sns.heatmap(cm, annot=True, fmt=\".3f\", linewidths=.5, square = True, cmap = 'BuPu', xticklabels = classes, yticklabels = classes)\n",
    "        else:\n",
    "            sns.heatmap(cm, annot=True, fmt=\".0f\", linewidths=.5, square = True, cmap = 'BuPu', xticklabels = classes, yticklabels = classes)\n",
    "        plt.ylabel('Actual label')\n",
    "        plt.xlabel('Predicted label')\n"
   ]
  },
  {
   "cell_type": "markdown",
   "metadata": {},
   "source": [
    "## NeDBIT Features"
   ]
  },
  {
   "cell_type": "code",
   "execution_count": 4,
   "metadata": {},
   "outputs": [],
   "source": [
    "G = nx.read_gml('Graphs/graph_nedbit.gml')\n",
    "\n",
    "attributes = ['degree', 'ring', 'NetRank', 'NetShort', 'HeatDiff', 'InfoDiff']\n",
    "# attributes = ['NetRank', 'NetShort', 'HeatDiff', 'InfoDiff']\n",
    "\n",
    "# Take the labels from the class column of the features' file\n",
    "# labels = pd.read_csv('Datasets/C0006142_Malignant_neoplasm_of_breast_features.csv')['class'].tolist()\n",
    "\n",
    "class_dataframe = pd.read_csv('Datasets/C0006142_Malignant_neoplasm_of_breast_features.csv')\n",
    "class_dataframe = dict(zip(class_dataframe['name'], class_dataframe['class']))"
   ]
  },
  {
   "cell_type": "code",
   "execution_count": 5,
   "metadata": {},
   "outputs": [
    {
     "name": "stdout",
     "output_type": "stream",
     "text": [
      "len train_idx: 13832\n",
      "len test_idx: 2964\n",
      "len val_idx: 2965\n",
      "pos/neg in train mask: 717 717\n",
      "pos/neg in test mask: 154 154\n",
      "pos/neg in val mask: 154 154\n"
     ]
    },
    {
     "data": {
      "image/png": "[encoded data removed]",
      "text/plain": [
       "<Figure size 432x288 with 1 Axes>"
      ]
     },
     "metadata": {
      "needs_background": "light"
     },
     "output_type": "display_data"
    }
   ],
   "source": [
    "labels = []\n",
    "\n",
    "for node in G:\n",
    "    labels.append(class_dataframe[node])\n",
    "\n",
    "labels = np.asarray(labels)\n",
    "\n",
    "dataset_with_nedbit = MyDataset(G, labels, attributes, balance = True, debug=True)\n",
    "data_with_nedbit = dataset_with_nedbit[0]\n",
    "\n",
    "plt.hist(labels)\n",
    "plt.show()"
   ]
  },
  {
   "cell_type": "code",
   "execution_count": 8,
   "metadata": {},
   "outputs": [
    {
     "data": {
      "application/vnd.jupyter.widget-view+json": {
       "model_id": "5a56515e6b4741e08dbaed87d7586d45",
       "version_major": 2,
       "version_minor": 0
      },
      "text/plain": [
       "  0%|          | 0/5000 [00:00<?, ?it/s]"
      ]
     },
     "metadata": {},
     "output_type": "display_data"
    },
    {
     "name": "stdout",
     "output_type": "stream",
     "text": [
      "Epoch: 242.0 Train: 51.81 Val: 52.60 Test: 54.22\n",
      "FINAL\n",
      "Train Accuracy: 51.81 ± 0.00%\n",
      "Stopping Accuracy: 52.60 ± 0.00%\n",
      "Test     Accuracy: 54.22 ± 0.00%\n",
      "Steps: 6.64 ± 0.00\n",
      "Epochs:  242.00 ± 0.00\n",
      "Runtime: 14.1928 ± 0.0000\n",
      "\n"
     ]
    },
    {
     "name": "stderr",
     "output_type": "stream",
     "text": [
      "c:\\Users\\pmaur\\miniconda3\\envs\\pytorch\\lib\\site-packages\\seaborn\\distributions.py:2619: FutureWarning: `distplot` is a deprecated function and will be removed in a future version. Please adapt your code to use either `displot` (a figure-level function with similar flexibility) or `kdeplot` (an axes-level function for kernel density plots).\n",
      "  warnings.warn(msg, FutureWarning)\n"
     ]
    },
    {
     "data": {
      "image/png": "[encoded data removed]",
      "text/plain": [
       "<Figure size 432x288 with 1 Axes>"
      ]
     },
     "metadata": {
      "needs_background": "light"
     },
     "output_type": "display_data"
    },
    {
     "name": "stdout",
     "output_type": "stream",
     "text": [
      "              precision    recall  f1-score   support\n",
      "\n",
      "           0       0.54      0.31      0.40       154\n",
      "           1       0.52      0.73      0.61       154\n",
      "\n",
      "    accuracy                           0.52       308\n",
      "   macro avg       0.53      0.52      0.50       308\n",
      "weighted avg       0.53      0.52      0.50       308\n",
      "\n"
     ]
    },
    {
     "data": {
      "image/png": "[encoded data removed]",
      "text/plain": [
       "<Figure size 504x504 with 2 Axes>"
      ]
     },
     "metadata": {
      "needs_background": "light"
     },
     "output_type": "display_data"
    },
    {
     "data": {
      "image/png": "[encoded data removed]",
      "text/plain": [
       "<Figure size 504x504 with 2 Axes>"
      ]
     },
     "metadata": {
      "needs_background": "light"
     },
     "output_type": "display_data"
    }
   ],
   "source": [
    "model = APGCN(dataset_with_nedbit, niter=10, prop_penalty=0.05, dropout=0.5)\n",
    "pred = run(model.to(device), dataset_with_nedbit, test=True, max_epochs=5000, patience=150)\n",
    "cm_print(data_with_nedbit, pred)"
   ]
  }
 ],
 "metadata": {
  "kernelspec": {
   "display_name": "Python 3.10.4 ('pytorch')",
   "language": "python",
   "name": "python3"
  },
  "language_info": {
   "codemirror_mode": {
    "name": "ipython",
    "version": 3
   },
   "file_extension": ".py",
   "mimetype": "text/x-python",
   "name": "python",
   "nbconvert_exporter": "python",
   "pygments_lexer": "ipython3",
   "version": "3.10.4"
  },
  "orig_nbformat": 4,
  "vscode": {
   "interpreter": {
    "hash": "6aeea6fe202f5c7201d5940e4573c0a76b23e4e16f0e3784ac81597546f2b3b3"
   }
  }
 },
 "nbformat": 4,
 "nbformat_minor": 2
}
