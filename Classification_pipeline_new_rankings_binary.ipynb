{
 "cells": [
  {
   "cell_type": "code",
   "execution_count": 1,
   "metadata": {},
   "outputs": [],
   "source": [
    "from GNNTrain import train, predict_from_saved_model\n",
    "from CreateDatasetv2_binary import get_dataset_from_graph\n",
    "from Paths import PATH_TO_GRAPHS, PATH_TO_RANKINGS\n",
    "from GDARanking import get_ranking, get_ranking_from_all_positives, validate_with_extended_dataset\n",
    "from GraphSageModel import GNN7L_Sage\n",
    "\n",
    "import pandas as pd"
   ]
  },
  {
   "cell_type": "code",
   "execution_count": 2,
   "metadata": {},
   "outputs": [],
   "source": [
    "disease_Id  = 'C0006142'\n",
    "classes     = ['P', 'U']\n",
    "model_name  = 'GraphSAGE_' + disease_Id + '_new_rankings_binary'\n",
    "graph_path  = PATH_TO_GRAPHS + 'grafo_nedbit_' + disease_Id + '.gml'"
   ]
  },
  {
   "cell_type": "code",
   "execution_count": 3,
   "metadata": {},
   "outputs": [
    {
     "name": "stdout",
     "output_type": "stream",
     "text": [
      "[+] Reading graph...ok\n",
      "[+] Creating dataset...ok\n",
      "[i] Elapsed time: 28.72\n"
     ]
    }
   ],
   "source": [
    "dataset, G = get_dataset_from_graph(graph_path, disease_Id, quartile=False)"
   ]
  },
  {
   "cell_type": "markdown",
   "metadata": {},
   "source": [
    "### Train"
   ]
  },
  {
   "cell_type": "code",
   "execution_count": 4,
   "metadata": {},
   "outputs": [
    {
     "data": {
      "application/vnd.jupyter.widget-view+json": {
       "model_id": "1e7f99dc921a47d0ba63c66517029117",
       "version_major": 2,
       "version_minor": 0
      },
      "text/plain": [
       "  0%|          | 0/40001 [00:00<?, ?it/s]"
      ]
     },
     "metadata": {},
     "output_type": "display_data"
    },
    {
     "name": "stdout",
     "output_type": "stream",
     "text": [
      "[Epoch: 0000] train loss: 20.7379, train acc: 0.9312, val loss: 9.2713, val acc: 0.9481  (best train acc: 0.9312, best val acc: 0.9481, best train loss: 20.7379  @ epoch 0 )\n",
      "[Epoch: 0020] train loss: 1.6296, train acc: 0.8947, val loss: 0.3517, val acc: 0.9477  (best train acc: 0.9312, best val acc: 0.9481, best train loss: 1.6296  @ epoch 20 )\n",
      "[Epoch: 0040] train loss: 0.6390, train acc: 0.8987, val loss: 0.2481, val acc: 0.9437  (best train acc: 0.9312, best val acc: 0.9481, best train loss: 0.6390  @ epoch 40 )\n",
      "[Epoch: 0060] train loss: 0.4008, train acc: 0.9223, val loss: 0.2355, val acc: 0.9352  (best train acc: 0.9312, best val acc: 0.9481, best train loss: 0.4008  @ epoch 60 )\n",
      "[Epoch: 0080] train loss: 0.3311, train acc: 0.9087, val loss: 0.2213, val acc: 0.9450  (best train acc: 0.9312, best val acc: 0.9481, best train loss: 0.3288  @ epoch 79 )\n",
      "[Epoch: 0100] train loss: 0.2906, train acc: 0.9297, val loss: 0.2249, val acc: 0.9420  (best train acc: 0.9312, best val acc: 0.9481, best train loss: 0.2887  @ epoch 97 )\n",
      "[Epoch: 0120] train loss: 0.2726, train acc: 0.9323, val loss: 0.2191, val acc: 0.9460  (best train acc: 0.9346, best val acc: 0.9481, best train loss: 0.2682  @ epoch 118 )\n",
      "[Epoch: 0140] train loss: 0.2508, train acc: 0.9370, val loss: 0.2211, val acc: 0.9460  (best train acc: 0.9392, best val acc: 0.9481, best train loss: 0.2508  @ epoch 140 )\n",
      "[Epoch: 0160] train loss: 0.2445, train acc: 0.9361, val loss: 0.2179, val acc: 0.9484  (best train acc: 0.9395, best val acc: 0.9497, best train loss: 0.2429  @ epoch 154 )\n",
      "[Epoch: 0180] train loss: 0.2373, train acc: 0.9401, val loss: 0.2131, val acc: 0.9484  (best train acc: 0.9417, best val acc: 0.9497, best train loss: 0.2317  @ epoch 178 )\n",
      "[Epoch: 0200] train loss: 0.2231, train acc: 0.9421, val loss: 0.2130, val acc: 0.9487  (best train acc: 0.9430, best val acc: 0.9497, best train loss: 0.2231  @ epoch 200 )\n",
      "[Epoch: 0220] train loss: 0.2196, train acc: 0.9413, val loss: 0.2092, val acc: 0.9484  (best train acc: 0.9449, best val acc: 0.9497, best train loss: 0.2163  @ epoch 217 )\n",
      "[Epoch: 0240] train loss: 0.2078, train acc: 0.9429, val loss: 0.1948, val acc: 0.9521  (best train acc: 0.9458, best val acc: 0.9521, best train loss: 0.2037  @ epoch 238 )\n",
      "[Epoch: 0260] train loss: 0.1934, train acc: 0.9459, val loss: 0.1900, val acc: 0.9521  (best train acc: 0.9477, best val acc: 0.9535, best train loss: 0.1926  @ epoch 258 )\n",
      "[Epoch: 0280] train loss: 0.1866, train acc: 0.9472, val loss: 0.1830, val acc: 0.9548  (best train acc: 0.9479, best val acc: 0.9548, best train loss: 0.1861  @ epoch 278 )\n",
      "[Epoch: 0300] train loss: 0.1847, train acc: 0.9486, val loss: 0.1688, val acc: 0.9545  (best train acc: 0.9489, best val acc: 0.9551, best train loss: 0.1810  @ epoch 287 )\n",
      "[Epoch: 0320] train loss: 0.1766, train acc: 0.9489, val loss: 0.1725, val acc: 0.9548  (best train acc: 0.9503, best val acc: 0.9555, best train loss: 0.1754  @ epoch 319 )\n",
      "[Epoch: 0340] train loss: 0.1715, train acc: 0.9511, val loss: 0.1700, val acc: 0.9565  (best train acc: 0.9511, best val acc: 0.9585, best train loss: 0.1715  @ epoch 340 )\n",
      "[Epoch: 0360] train loss: 0.1632, train acc: 0.9510, val loss: 0.1656, val acc: 0.9589  (best train acc: 0.9522, best val acc: 0.9602, best train loss: 0.1632  @ epoch 360 )\n",
      "[Epoch: 0380] train loss: 0.1678, train acc: 0.9513, val loss: 0.1620, val acc: 0.9602  (best train acc: 0.9522, best val acc: 0.9602, best train loss: 0.1632  @ epoch 360 )\n",
      "[Epoch: 0400] train loss: 0.1597, train acc: 0.9522, val loss: 0.1586, val acc: 0.9616  (best train acc: 0.9533, best val acc: 0.9619, best train loss: 0.1596  @ epoch 397 )\n",
      "[Epoch: 0420] train loss: 0.1600, train acc: 0.9514, val loss: 0.1537, val acc: 0.9612  (best train acc: 0.9542, best val acc: 0.9619, best train loss: 0.1540  @ epoch 419 )\n",
      "[Epoch: 0440] train loss: 0.1529, train acc: 0.9539, val loss: 0.1470, val acc: 0.9612  (best train acc: 0.9542, best val acc: 0.9642, best train loss: 0.1529  @ epoch 440 )\n",
      "[Epoch: 0460] train loss: 0.1535, train acc: 0.9533, val loss: 0.1464, val acc: 0.9653  (best train acc: 0.9542, best val acc: 0.9653, best train loss: 0.1509  @ epoch 455 )\n",
      "[Epoch: 0480] train loss: 0.1466, train acc: 0.9554, val loss: 0.1427, val acc: 0.9659  (best train acc: 0.9554, best val acc: 0.9659, best train loss: 0.1466  @ epoch 480 )\n",
      "[Epoch: 0500] train loss: 0.1437, train acc: 0.9568, val loss: 0.1368, val acc: 0.9653  (best train acc: 0.9570, best val acc: 0.9669, best train loss: 0.1424  @ epoch 499 )\n",
      "[Epoch: 0520] train loss: 0.1456, train acc: 0.9562, val loss: 0.1337, val acc: 0.9659  (best train acc: 0.9570, best val acc: 0.9669, best train loss: 0.1401  @ epoch 515 )\n",
      "[Epoch: 0540] train loss: 0.1354, train acc: 0.9578, val loss: 0.1297, val acc: 0.9669  (best train acc: 0.9578, best val acc: 0.9676, best train loss: 0.1354  @ epoch 540 )\n",
      "[Epoch: 0560] train loss: 0.1368, train acc: 0.9586, val loss: 0.1340, val acc: 0.9680  (best train acc: 0.9586, best val acc: 0.9693, best train loss: 0.1336  @ epoch 557 )\n",
      "[Epoch: 0580] train loss: 0.1341, train acc: 0.9579, val loss: 0.1238, val acc: 0.9693  (best train acc: 0.9592, best val acc: 0.9700, best train loss: 0.1302  @ epoch 579 )\n",
      "[Epoch: 0600] train loss: 0.1300, train acc: 0.9578, val loss: 0.1216, val acc: 0.9713  (best train acc: 0.9598, best val acc: 0.9717, best train loss: 0.1250  @ epoch 591 )\n",
      "[Epoch: 0620] train loss: 0.1250, train acc: 0.9606, val loss: 0.1194, val acc: 0.9707  (best train acc: 0.9606, best val acc: 0.9730, best train loss: 0.1250  @ epoch 620 )\n",
      "[Epoch: 0640] train loss: 0.1232, train acc: 0.9602, val loss: 0.1103, val acc: 0.9703  (best train acc: 0.9610, best val acc: 0.9740, best train loss: 0.1224  @ epoch 638 )\n",
      "[Epoch: 0660] train loss: 0.1176, train acc: 0.9620, val loss: 0.1088, val acc: 0.9717  (best train acc: 0.9620, best val acc: 0.9740, best train loss: 0.1176  @ epoch 660 )\n",
      "[Epoch: 0680] train loss: 0.1220, train acc: 0.9592, val loss: 0.1061, val acc: 0.9737  (best train acc: 0.9620, best val acc: 0.9747, best train loss: 0.1168  @ epoch 676 )\n",
      "[Epoch: 0700] train loss: 0.1170, train acc: 0.9620, val loss: 0.0999, val acc: 0.9740  (best train acc: 0.9633, best val acc: 0.9747, best train loss: 0.1118  @ epoch 694 )\n",
      "[Epoch: 0720] train loss: 0.1111, train acc: 0.9634, val loss: 0.0959, val acc: 0.9750  (best train acc: 0.9639, best val acc: 0.9761, best train loss: 0.1109  @ epoch 713 )\n",
      "[Epoch: 0740] train loss: 0.1047, train acc: 0.9651, val loss: 0.0918, val acc: 0.9750  (best train acc: 0.9651, best val acc: 0.9764, best train loss: 0.1040  @ epoch 735 )\n",
      "[Epoch: 0760] train loss: 0.1061, train acc: 0.9620, val loss: 0.0880, val acc: 0.9771  (best train acc: 0.9651, best val acc: 0.9777, best train loss: 0.1018  @ epoch 757 )\n",
      "[Epoch: 0780] train loss: 0.1006, train acc: 0.9636, val loss: 0.0808, val acc: 0.9764  (best train acc: 0.9657, best val acc: 0.9794, best train loss: 0.0963  @ epoch 778 )\n",
      "[Epoch: 0800] train loss: 0.0963, train acc: 0.9656, val loss: 0.0770, val acc: 0.9777  (best train acc: 0.9667, best val acc: 0.9798, best train loss: 0.0919  @ epoch 799 )\n",
      "[Epoch: 0820] train loss: 0.0896, train acc: 0.9665, val loss: 0.0704, val acc: 0.9808  (best train acc: 0.9683, best val acc: 0.9808, best train loss: 0.0870  @ epoch 815 )\n",
      "[Epoch: 0840] train loss: 0.0820, train acc: 0.9697, val loss: 0.0648, val acc: 0.9818  (best train acc: 0.9697, best val acc: 0.9818, best train loss: 0.0820  @ epoch 840 )\n",
      "[Epoch: 0860] train loss: 0.0776, train acc: 0.9713, val loss: 0.0588, val acc: 0.9831  (best train acc: 0.9713, best val acc: 0.9838, best train loss: 0.0776  @ epoch 860 )\n"
     ]
    }
   ],
   "source": [
    "lr              = 0.001\n",
    "epochs          = 40000\n",
    "weight_decay    = 0.0005\n",
    "classes         = ['P', 'U']\n",
    "\n",
    "model = GNN7L_Sage(dataset)\n",
    "preds = train(model, dataset, epochs, lr, weight_decay, classes, model_name)"
   ]
  },
  {
   "cell_type": "markdown",
   "metadata": {},
   "source": [
    "### Get predictions from trained model"
   ]
  },
  {
   "cell_type": "code",
   "execution_count": 5,
   "metadata": {},
   "outputs": [
    {
     "name": "stdout",
     "output_type": "stream",
     "text": [
      "              precision    recall  f1-score   support\n",
      "\n",
      "           0       0.95      0.99      0.97       100\n",
      "           1       0.72      0.95      0.82       757\n",
      "           2       0.88      0.59      0.71       757\n",
      "           3       0.87      0.86      0.86       757\n",
      "           4       0.87      0.90      0.88       593\n",
      "\n",
      "    accuracy                           0.83      2964\n",
      "   macro avg       0.86      0.86      0.85      2964\n",
      "weighted avg       0.84      0.83      0.82      2964\n",
      "\n"
     ]
    },
    {
     "data": {
      "image/png": "[encoded data removed]",
      "text/plain": [
       "<Figure size 504x504 with 2 Axes>"
      ]
     },
     "metadata": {
      "needs_background": "light"
     },
     "output_type": "display_data"
    },
    {
     "data": {
      "image/png": "[encoded data removed]",
      "text/plain": [
       "<Figure size 504x504 with 2 Axes>"
      ]
     },
     "metadata": {
      "needs_background": "light"
     },
     "output_type": "display_data"
    }
   ],
   "source": [
    "preds, probs, model = predict_from_saved_model(model_name + '_40000_0_0005', dataset, classes, save_to_file=False)"
   ]
  },
  {
   "cell_type": "markdown",
   "metadata": {},
   "source": [
    "### Ranking"
   ]
  },
  {
   "cell_type": "code",
   "execution_count": 10,
   "metadata": {},
   "outputs": [
    {
     "data": {
      "application/vnd.jupyter.widget-view+json": {
       "model_id": "ad3e417715d34ce8ad701b19feadb755",
       "version_major": 2,
       "version_minor": 0
      },
      "text/plain": [
       "  0%|          | 0/60 [00:00<?, ?it/s]"
      ]
     },
     "metadata": {},
     "output_type": "display_data"
    },
    {
     "name": "stdout",
     "output_type": "stream",
     "text": [
      "[+] Precision on top 25 : 0.72\n",
      "[+] Precision on top 50 : 0.66\n",
      "[+] Precision on top 100 : 0.67\n",
      "[+] Precision on top 200 : 0.625\n",
      "[+] Precision on top 500 : 0.53\n"
     ]
    }
   ],
   "source": [
    "df = pd.read_csv('precision_positive_genes.csv') \n",
    "n_positives = n_positives = df['n_positives'][df[disease_Id].idxmax()]\n",
    "\n",
    "preds, probs, model = predict_from_saved_model(model_name+'_40000_0_0005', dataset, classes, save_to_file=False, plot_results=False)\n",
    "\n",
    "ranking = get_ranking(model, dataset, preds, probs, disease_Id, n_positive=n_positives, explanation_nodes_ratio=1, masks_for_seed=10, G=G)\n",
    "\n",
    "### Save ranking to file\n",
    "filename = PATH_TO_RANKINGS + disease_Id + '_' + str(n_positives) + '_new_rankings.txt'\n",
    "with open(filename, 'w') as f:\n",
    "    for line in ranking:\n",
    "        f.write(line + '\\n')\n",
    "\n",
    "cuts = [25, 50, 100, 200, 500]\n",
    "for k in cuts:\n",
    "    precision = validate_with_extended_dataset(ranking[:k], disease_Id, save_ranking_to_file=False)\n",
    "    print('[+] Precision on top', k, ':', precision/k)"
   ]
  },
  {
   "cell_type": "markdown",
   "metadata": {},
   "source": [
    "### All positive genes"
   ]
  },
  {
   "cell_type": "code",
   "execution_count": 7,
   "metadata": {},
   "outputs": [
    {
     "name": "stdout",
     "output_type": "stream",
     "text": [
      "[+] 672 positive nodes found in the graph\n"
     ]
    },
    {
     "data": {
      "application/vnd.jupyter.widget-view+json": {
       "model_id": "dd130a172fbd4c00b4a6a1f89200cf8f",
       "version_major": 2,
       "version_minor": 0
      },
      "text/plain": [
       "  0%|          | 0/672 [00:00<?, ?it/s]"
      ]
     },
     "metadata": {},
     "output_type": "display_data"
    }
   ],
   "source": [
    "ranking = get_ranking_from_all_positives(model, dataset, preds, disease_Id, explanation_nodes_ratio=1, masks_for_seed=5, G=G)"
   ]
  },
  {
   "cell_type": "code",
   "execution_count": 8,
   "metadata": {},
   "outputs": [],
   "source": [
    "### Save ranking to file\n",
    "filename = PATH_TO_RANKINGS + disease_Id + '_all_positives_new_ranking.txt'\n",
    "with open(filename, 'w') as f:\n",
    "     for line in ranking:\n",
    "        f.write(line + '\\n')"
   ]
  },
  {
   "cell_type": "code",
   "execution_count": 9,
   "metadata": {},
   "outputs": [
    {
     "name": "stdout",
     "output_type": "stream",
     "text": [
      "[+] Precision on top 25 : 0.68\n",
      "[+] Precision on top 50 : 0.72\n",
      "[+] Precision on top 100 : 0.66\n",
      "[+] Precision on top 200 : 0.645\n",
      "[+] Precision on top 500 : 0.574\n"
     ]
    }
   ],
   "source": [
    "cuts = [25, 50, 100, 200, 500]\n",
    "for k in cuts:\n",
    "    precision = validate_with_extended_dataset(ranking[:k], disease_Id, save_ranking_to_file=False)\n",
    "    print('[+] Precision on top', k, ':', precision/k)"
   ]
  }
 ],
 "metadata": {
  "kernelspec": {
   "display_name": "Python 3.10.4 ('xgdag')",
   "language": "python",
   "name": "python3"
  },
  "language_info": {
   "codemirror_mode": {
    "name": "ipython",
    "version": 3
   },
   "file_extension": ".py",
   "mimetype": "text/x-python",
   "name": "python",
   "nbconvert_exporter": "python",
   "pygments_lexer": "ipython3",
   "version": "3.10.4"
  },
  "orig_nbformat": 4,
  "vscode": {
   "interpreter": {
    "hash": "95e74f98ff60f14b2a40b3a815b098ff5be6a65f27ff7ed052a7e49eb675036c"
   }
  }
 },
 "nbformat": 4,
 "nbformat_minor": 2
}
