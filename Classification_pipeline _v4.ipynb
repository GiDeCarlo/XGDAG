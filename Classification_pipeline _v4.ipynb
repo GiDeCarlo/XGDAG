{
 "cells": [
  {
   "cell_type": "markdown",
   "metadata": {},
   "source": [
    "### Packets"
   ]
  },
  {
   "cell_type": "code",
   "execution_count": 1,
   "metadata": {},
   "outputs": [],
   "source": [
    "from GNNTrain import predict_from_saved_model\n",
    "from CreateDataset import get_dataset_from_graph\n",
    "from Paths import PATH_TO_GRAPHS, PATH_TO_RANKINGS\n",
    "from GDARanking import get_ranking, validate_with_extended_dataset\n",
    "\n",
    "import pandas as pd"
   ]
  },
  {
   "cell_type": "markdown",
   "metadata": {},
   "source": [
    "### Scores"
   ]
  },
  {
   "cell_type": "code",
   "execution_count": 2,
   "metadata": {},
   "outputs": [
    {
     "name": "stdout",
     "output_type": "stream",
     "text": [
      "[ C0006142 ] Using 10 positive genes for explainability\n"
     ]
    },
    {
     "data": {
      "application/vnd.jupyter.widget-view+json": {
       "model_id": "6e22fb9ee5b54d0c8b41f368efc61ec7",
       "version_major": 2,
       "version_minor": 0
      },
      "text/plain": [
       "  0%|          | 0/10 [00:00<?, ?it/s]"
      ]
     },
     "metadata": {},
     "output_type": "display_data"
    },
    {
     "name": "stdout",
     "output_type": "stream",
     "text": [
      "[+] Precision on top 25 : 0.88\n",
      "[+] Precision on top 50 : 0.86\n",
      "[+] Precision on top 100 : 0.84\n",
      "[ C0009402 ] Using 60 positive genes for explainability\n"
     ]
    },
    {
     "data": {
      "application/vnd.jupyter.widget-view+json": {
       "model_id": "dafd809ed55d42f7b1e8c8de960f3ad4",
       "version_major": 2,
       "version_minor": 0
      },
      "text/plain": [
       "  0%|          | 0/60 [00:00<?, ?it/s]"
      ]
     },
     "metadata": {},
     "output_type": "display_data"
    },
    {
     "name": "stdout",
     "output_type": "stream",
     "text": [
      "[+] Precision on top 25 : 0.64\n",
      "[+] Precision on top 50 : 0.66\n",
      "[+] Precision on top 100 : 0.63\n",
      "[ C0023893 ] Using 10 positive genes for explainability\n"
     ]
    },
    {
     "data": {
      "application/vnd.jupyter.widget-view+json": {
       "model_id": "0fdd3ea2c9f24bac8b34825fd87bc90c",
       "version_major": 2,
       "version_minor": 0
      },
      "text/plain": [
       "  0%|          | 0/10 [00:00<?, ?it/s]"
      ]
     },
     "metadata": {},
     "output_type": "display_data"
    },
    {
     "name": "stdout",
     "output_type": "stream",
     "text": [
      "[+] Precision on top 25 : 0.08\n",
      "[+] Precision on top 50 : 0.06\n",
      "[+] Precision on top 100 : 0.03\n",
      "[ C0036341 ] Using 50 positive genes for explainability\n"
     ]
    },
    {
     "data": {
      "application/vnd.jupyter.widget-view+json": {
       "model_id": "75bf6edf60c14a9cbbe8985132b1c56b",
       "version_major": 2,
       "version_minor": 0
      },
      "text/plain": [
       "  0%|          | 0/50 [00:00<?, ?it/s]"
      ]
     },
     "metadata": {},
     "output_type": "display_data"
    },
    {
     "name": "stdout",
     "output_type": "stream",
     "text": [
      "[+] Precision on top 25 : 0.28\n",
      "[+] Precision on top 50 : 0.22\n",
      "[+] Precision on top 100 : 0.25\n",
      "[ C0376358 ] Using 10 positive genes for explainability\n"
     ]
    },
    {
     "data": {
      "application/vnd.jupyter.widget-view+json": {
       "model_id": "cd16e3ec1d6840a39528dda912b9f611",
       "version_major": 2,
       "version_minor": 0
      },
      "text/plain": [
       "  0%|          | 0/10 [00:00<?, ?it/s]"
      ]
     },
     "metadata": {},
     "output_type": "display_data"
    },
    {
     "name": "stdout",
     "output_type": "stream",
     "text": [
      "[+] Precision on top 25 : 0.72\n",
      "[+] Precision on top 50 : 0.74\n",
      "[+] Precision on top 100 : 0.7\n"
     ]
    }
   ],
   "source": [
    "disease_Ids = ['C0006142', 'C0009402', 'C0023893', 'C0036341', 'C0376358']\n",
    "\n",
    "df = pd.read_csv('precision_positive_genes.csv')\n",
    "\n",
    "for disease_Id in disease_Ids:\n",
    "    n_positives = df['n_positives'][df[disease_Id].idxmax()]\n",
    "\n",
    "    print('[', disease_Id, '] Using', n_positives, 'positive genes for explainability')\n",
    "\n",
    "    graph_path = PATH_TO_GRAPHS + 'grafo_nedbit_' + disease_Id + '.gml'\n",
    "    dataset, G = get_dataset_from_graph(graph_path, disease_Id, verbose=False)\n",
    "\n",
    "    classes     = ['P', 'LP', 'WN', 'LN', 'RN']\n",
    "    model_name  = 'GraphSAGE_' + disease_Id + '_40000_0_0005'\n",
    "    preds, probs, model = predict_from_saved_model(model_name, dataset, classes, save_to_file=False, plot_results=False)\n",
    "    \n",
    "    ranking = get_ranking(model, dataset, preds, probs, disease_Id, n_positive=n_positives, explanation_nodes_ratio=1, masks_for_seed=10, G=G)\n",
    "\n",
    "    ### Save ranking to file\n",
    "    filename = PATH_TO_RANKINGS + disease_Id + '_' + str(n_positives) + '_best.txt'\n",
    "    with open(filename, 'w') as f:\n",
    "        for line in ranking:\n",
    "            f.write(line + '\\n')\n",
    "\n",
    "    cuts = [25, 50, 100]\n",
    "    for k in cuts:\n",
    "        precision = validate_with_extended_dataset(ranking[:k], disease_Id, save_ranking_to_file=False)\n",
    "        print('[+] Precision on top', k, ':', precision/k)\n"
   ]
  },
  {
   "cell_type": "markdown",
   "metadata": {},
   "source": [
    "### Prediction"
   ]
  },
  {
   "cell_type": "code",
   "execution_count": 4,
   "metadata": {},
   "outputs": [
    {
     "name": "stdout",
     "output_type": "stream",
     "text": [
      "[+] Reading graph...ok\n",
      "[+] Creating dataset...ok\n",
      "[i] Elapsed time: 21.014\n"
     ]
    }
   ],
   "source": [
    "disease_Id = 'C0006142'\n",
    "graph_path = PATH_TO_GRAPHS + 'grafo_nedbit_' + disease_Id + '.gml'\n",
    "\n",
    "dataset, G = get_dataset_from_graph(graph_path, disease_Id)"
   ]
  },
  {
   "cell_type": "code",
   "execution_count": 5,
   "metadata": {},
   "outputs": [
    {
     "name": "stdout",
     "output_type": "stream",
     "text": [
      "              precision    recall  f1-score   support\n",
      "\n",
      "           0       0.99      0.99      0.99       154\n",
      "           1       0.96      0.98      0.97       703\n",
      "           2       0.88      0.94      0.91       702\n",
      "           3       0.97      0.88      0.92       703\n",
      "           4       0.99      1.00      1.00       702\n",
      "\n",
      "    accuracy                           0.95      2964\n",
      "   macro avg       0.96      0.96      0.96      2964\n",
      "weighted avg       0.95      0.95      0.95      2964\n",
      "\n"
     ]
    },
    {
     "data": {
      "image/png": "[encoded data removed]",
      "text/plain": [
       "<Figure size 504x504 with 2 Axes>"
      ]
     },
     "metadata": {
      "needs_background": "light"
     },
     "output_type": "display_data"
    },
    {
     "data": {
      "image/png": "[encoded data removed]",
      "text/plain": [
       "<Figure size 504x504 with 2 Axes>"
      ]
     },
     "metadata": {
      "needs_background": "light"
     },
     "output_type": "display_data"
    }
   ],
   "source": [
    "model_name  = 'GraphSAGE_' + disease_Id + '_40000_0_0005'\n",
    "classes     = ['P', 'LP', 'WN', 'LN', 'RN']\n",
    "\n",
    "preds, probs, model = predict_from_saved_model(model_name, dataset, classes, save_to_file=False)"
   ]
  },
  {
   "cell_type": "markdown",
   "metadata": {},
   "source": [
    "### Explainabilty"
   ]
  },
  {
   "cell_type": "code",
   "execution_count": 6,
   "metadata": {},
   "outputs": [
    {
     "data": {
      "application/vnd.jupyter.widget-view+json": {
       "model_id": "61e7dfe5a2034a2da2013c2ce7932656",
       "version_major": 2,
       "version_minor": 0
      },
      "text/plain": [
       "  0%|          | 0/10 [00:00<?, ?it/s]"
      ]
     },
     "metadata": {},
     "output_type": "display_data"
    }
   ],
   "source": [
    "ranking = get_ranking(model, dataset, preds, probs, disease_Id, n_positive=10, explanation_nodes_ratio=1, masks_for_seed=10, G=G)"
   ]
  },
  {
   "cell_type": "code",
   "execution_count": 11,
   "metadata": {},
   "outputs": [
    {
     "name": "stdout",
     "output_type": "stream",
     "text": [
      "0.84\n"
     ]
    }
   ],
   "source": [
    "k = 100\n",
    "precision = validate_with_extended_dataset(ranking[:k], disease_Id, save_ranking_to_file=False)\n",
    "print(precision/k)"
   ]
  }
 ],
 "metadata": {
  "kernelspec": {
   "display_name": "Python 3.10.4 ('pytorch')",
   "language": "python",
   "name": "python3"
  },
  "language_info": {
   "codemirror_mode": {
    "name": "ipython",
    "version": 3
   },
   "file_extension": ".py",
   "mimetype": "text/x-python",
   "name": "python",
   "nbconvert_exporter": "python",
   "pygments_lexer": "ipython3",
   "version": "3.10.4"
  },
  "orig_nbformat": 4,
  "vscode": {
   "interpreter": {
    "hash": "6aeea6fe202f5c7201d5940e4573c0a76b23e4e16f0e3784ac81597546f2b3b3"
   }
  }
 },
 "nbformat": 4,
 "nbformat_minor": 2
}
