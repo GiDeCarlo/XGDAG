{
 "cells": [
  {
   "cell_type": "code",
   "execution_count": 1,
   "metadata": {},
   "outputs": [
    {
     "ename": "KeyboardInterrupt",
     "evalue": "",
     "output_type": "error",
     "traceback": [
      "\u001b[1;31m---------------------------------------------------------------------------\u001b[0m",
      "\u001b[1;31mKeyboardInterrupt\u001b[0m                         Traceback (most recent call last)",
      "\u001b[1;32mc:\\Repositories\\XGDAG\\Classification_pipeline_new_rankings.ipynb Cell 1\u001b[0m in \u001b[0;36m<cell line: 4>\u001b[1;34m()\u001b[0m\n\u001b[0;32m      <a href='vscode-notebook-cell:/c%3A/Repositories/XGDAG/Classification_pipeline_new_rankings.ipynb#W0sZmlsZQ%3D%3D?line=1'>2</a>\u001b[0m \u001b[39mfrom\u001b[39;00m \u001b[39mCreateDatasetv2\u001b[39;00m \u001b[39mimport\u001b[39;00m get_dataset_from_graph\n\u001b[0;32m      <a href='vscode-notebook-cell:/c%3A/Repositories/XGDAG/Classification_pipeline_new_rankings.ipynb#W0sZmlsZQ%3D%3D?line=2'>3</a>\u001b[0m \u001b[39mfrom\u001b[39;00m \u001b[39mPaths\u001b[39;00m \u001b[39mimport\u001b[39;00m PATH_TO_GRAPHS, PATH_TO_RANKINGS\n\u001b[1;32m----> <a href='vscode-notebook-cell:/c%3A/Repositories/XGDAG/Classification_pipeline_new_rankings.ipynb#W0sZmlsZQ%3D%3D?line=3'>4</a>\u001b[0m \u001b[39mfrom\u001b[39;00m \u001b[39mGDARanking\u001b[39;00m \u001b[39mimport\u001b[39;00m predict_candidate_genes\n",
      "File \u001b[1;32m<frozen importlib._bootstrap>:1027\u001b[0m, in \u001b[0;36m_find_and_load\u001b[1;34m(name, import_)\u001b[0m\n",
      "File \u001b[1;32m<frozen importlib._bootstrap>:1006\u001b[0m, in \u001b[0;36m_find_and_load_unlocked\u001b[1;34m(name, import_)\u001b[0m\n",
      "File \u001b[1;32m<frozen importlib._bootstrap>:688\u001b[0m, in \u001b[0;36m_load_unlocked\u001b[1;34m(spec)\u001b[0m\n",
      "File \u001b[1;32m<frozen importlib._bootstrap_external>:879\u001b[0m, in \u001b[0;36mexec_module\u001b[1;34m(self, module)\u001b[0m\n",
      "File \u001b[1;32m<frozen importlib._bootstrap_external>:1016\u001b[0m, in \u001b[0;36mget_code\u001b[1;34m(self, fullname)\u001b[0m\n",
      "File \u001b[1;32m<frozen importlib._bootstrap_external>:1074\u001b[0m, in \u001b[0;36mget_data\u001b[1;34m(self, path)\u001b[0m\n",
      "\u001b[1;31mKeyboardInterrupt\u001b[0m: "
     ]
    }
   ],
   "source": [
    "from GNNTrain import predict_from_saved_model\n",
    "from CreateDatasetv2 import get_dataset_from_graph\n",
    "from Paths import PATH_TO_GRAPHS, PATH_TO_RANKINGS\n",
    "from GDARanking import predict_candidate_genes"
   ]
  },
  {
   "cell_type": "code",
   "execution_count": null,
   "metadata": {},
   "outputs": [],
   "source": [
    "disease_Id  = 'C0036341'\n",
    "classes     = ['P', 'LP', 'WN', 'LN', 'RN']\n",
    "METHOD     = 'GraphSVX'\n",
    "model_name  = 'GraphSAGE_' + disease_Id + '_new_rankings'\n",
    "graph_path  = PATH_TO_GRAPHS + 'grafo_nedbit_' + disease_Id + '.gml'"
   ]
  },
  {
   "cell_type": "code",
   "execution_count": null,
   "metadata": {},
   "outputs": [
    {
     "name": "stdout",
     "output_type": "stream",
     "text": [
      "[+] Reading graph...ok\n",
      "[+] Creating dataset...ok\n",
      "[i] Elapsed time: 32.866\n"
     ]
    }
   ],
   "source": [
    "dataset, G = get_dataset_from_graph(graph_path, disease_Id, quartile=False)"
   ]
  },
  {
   "cell_type": "markdown",
   "metadata": {},
   "source": [
    "### Train"
   ]
  },
  {
   "cell_type": "code",
   "execution_count": null,
   "metadata": {},
   "outputs": [],
   "source": [
    "# lr              = 0.001\n",
    "# epochs          = 40000\n",
    "# weight_decay    = 0.0005\n",
    "# classes         = ['P', 'LP', 'WN', 'LN', 'RN']\n",
    "\n",
    "# model = GNN7L_Sage(dataset)\n",
    "# preds = train(model, dataset, epochs, lr, weight_decay, classes, model_name)"
   ]
  },
  {
   "cell_type": "markdown",
   "metadata": {},
   "source": [
    "### Get predictions from trained model"
   ]
  },
  {
   "cell_type": "code",
   "execution_count": null,
   "metadata": {},
   "outputs": [
    {
     "name": "stdout",
     "output_type": "stream",
     "text": [
      "              precision    recall  f1-score   support\n",
      "\n",
      "           0       0.95      1.00      0.97       124\n",
      "           1       0.82      0.95      0.88       749\n",
      "           2       0.87      0.74      0.80       749\n",
      "           3       0.82      0.82      0.82       749\n",
      "           4       0.85      0.84      0.85       593\n",
      "\n",
      "    accuracy                           0.84      2964\n",
      "   macro avg       0.86      0.87      0.86      2964\n",
      "weighted avg       0.85      0.84      0.84      2964\n",
      "\n"
     ]
    }
   ],
   "source": [
    "preds, probs, model = predict_from_saved_model(model_name + '_40000_0_0005', dataset, classes, save_to_file=False)"
   ]
  },
  {
   "cell_type": "markdown",
   "metadata": {},
   "source": [
    "### Ranking"
   ]
  },
  {
   "cell_type": "code",
   "execution_count": null,
   "metadata": {},
   "outputs": [],
   "source": [
    "# df = pd.read_csv('precision_positive_genes.csv') \n",
    "# n_positives = n_positives = df['n_positives'][df[disease_Id].idxmax()]\n",
    "\n",
    "# preds, probs, model = predict_from_saved_model(model_name+'_40000_0_0005', dataset, classes, save_to_file=False, plot_results=False)\n",
    "\n",
    "# ranking = get_ranking(model, dataset, preds, probs, disease_Id, n_positive=n_positives, explanation_nodes_ratio=1, masks_for_seed=10, G=G)\n",
    "\n",
    "# ### Save ranking to file\n",
    "# filename = PATH_TO_RANKINGS + disease_Id + '_' + str(n_positives) + '_new_rankings.txt'\n",
    "# with open(filename, 'w') as f:\n",
    "#     for line in ranking:\n",
    "#         f.write(line + '\\n')\n",
    "\n",
    "# cuts = [25, 50, 100, 200, 500]\n",
    "# for k in cuts:\n",
    "#     precision = validate_with_extended_dataset(ranking[:k], disease_Id, save_ranking_to_file=False)\n",
    "#     print('[+] Precision on top', k, ':', precision/k)"
   ]
  },
  {
   "cell_type": "markdown",
   "metadata": {},
   "source": [
    "### All positive genes"
   ]
  },
  {
   "cell_type": "code",
   "execution_count": null,
   "metadata": {},
   "outputs": [
    {
     "data": {
      "application/vnd.jupyter.widget-view+json": {
       "model_id": "f5f62c2d46c74eb7b464256ea0ad2e22",
       "version_major": 2,
       "version_minor": 0
      },
      "text/plain": [
       "  0%|          | 0/832 [00:00<?, ?it/s]"
      ]
     },
     "metadata": {},
     "output_type": "display_data"
    },
    {
     "name": "stdout",
     "output_type": "stream",
     "text": [
      "tensor(1, device='cuda:0')\n",
      "tensor(1, device='cuda:0')\n"
     ]
    }
   ],
   "source": [
    "ranking = predict_candidate_genes(model,\n",
    "                                  dataset,\n",
    "                                  preds,\n",
    "                                  explainability_method='subgraphx',\n",
    "                                  disease_Id=None,\n",
    "                                  explanation_nodes_ratio=1,\n",
    "                                  num_hops=1,\n",
    "                                  G=G,\n",
    "                                  num_pos=\"all\")"
   ]
  },
  {
   "cell_type": "code",
   "execution_count": null,
   "metadata": {},
   "outputs": [
    {
     "ename": "TypeError",
     "evalue": "can only concatenate list (not \"str\") to list",
     "output_type": "error",
     "traceback": [
      "\u001b[1;31m---------------------------------------------------------------------------\u001b[0m",
      "\u001b[1;31mTypeError\u001b[0m                                 Traceback (most recent call last)",
      "\u001b[1;32mc:\\Repositories\\XGDAG\\Classification_pipeline_new_rankings.ipynb Cell 15\u001b[0m in \u001b[0;36m<cell line: 3>\u001b[1;34m()\u001b[0m\n\u001b[0;32m      <a href='vscode-notebook-cell:/c%3A/Repositories/XGDAG/Classification_pipeline_new_rankings.ipynb#X14sZmlsZQ%3D%3D?line=2'>3</a>\u001b[0m \u001b[39mwith\u001b[39;00m \u001b[39mopen\u001b[39m(filename, \u001b[39m'\u001b[39m\u001b[39mw\u001b[39m\u001b[39m'\u001b[39m) \u001b[39mas\u001b[39;00m f:\n\u001b[0;32m      <a href='vscode-notebook-cell:/c%3A/Repositories/XGDAG/Classification_pipeline_new_rankings.ipynb#X14sZmlsZQ%3D%3D?line=3'>4</a>\u001b[0m      \u001b[39mfor\u001b[39;00m line \u001b[39min\u001b[39;00m ranking:\n\u001b[1;32m----> <a href='vscode-notebook-cell:/c%3A/Repositories/XGDAG/Classification_pipeline_new_rankings.ipynb#X14sZmlsZQ%3D%3D?line=4'>5</a>\u001b[0m         f\u001b[39m.\u001b[39mwrite(line \u001b[39m+\u001b[39;49m \u001b[39m'\u001b[39;49m\u001b[39m\\n\u001b[39;49;00m\u001b[39m'\u001b[39;49m)\n",
      "\u001b[1;31mTypeError\u001b[0m: can only concatenate list (not \"str\") to list"
     ]
    }
   ],
   "source": [
    "### Save ranking to file\n",
    "filename = PATH_TO_RANKINGS + disease_Id + '_all_positives_new_ranking_xgdag_' + METHOD.lower() + '.txt'\n",
    "with open(filename, 'w') as f:\n",
    "     for line in ranking:\n",
    "        f.write(line + '\\n')"
   ]
  },
  {
   "cell_type": "code",
   "execution_count": null,
   "metadata": {},
   "outputs": [],
   "source": [
    "# cuts = [25, 50, 100, 200, 500]\n",
    "# for k in cuts:\n",
    "#     precision = validate_with_extended_dataset(ranking[:k], disease_Id, save_ranking_to_file=False)\n",
    "#     print('[+] Precision on top', k, ':', precision/k)"
   ]
  }
 ],
 "metadata": {
  "kernelspec": {
   "display_name": "Python 3.10.4 ('xgdag')",
   "language": "python",
   "name": "python3"
  },
  "language_info": {
   "codemirror_mode": {
    "name": "ipython",
    "version": 3
   },
   "file_extension": ".py",
   "mimetype": "text/x-python",
   "name": "python",
   "nbconvert_exporter": "python",
   "pygments_lexer": "ipython3",
   "version": "3.10.4"
  },
  "orig_nbformat": 4,
  "vscode": {
   "interpreter": {
    "hash": "95e74f98ff60f14b2a40b3a815b098ff5be6a65f27ff7ed052a7e49eb675036c"
   }
  }
 },
 "nbformat": 4,
 "nbformat_minor": 2
}
