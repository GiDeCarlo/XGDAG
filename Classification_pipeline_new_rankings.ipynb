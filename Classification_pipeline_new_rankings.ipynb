{
 "cells": [
  {
   "cell_type": "code",
   "execution_count": 1,
   "metadata": {},
   "outputs": [],
   "source": [
    "from GNNTrain import predict_from_saved_model\n",
    "from CreateDatasetv2 import get_dataset_from_graph\n",
    "from Paths import PATH_TO_GRAPHS, PATH_TO_RANKINGS\n",
    "from GDARanking import predict_candidate_genes"
   ]
  },
  {
   "cell_type": "code",
   "execution_count": 2,
   "metadata": {},
   "outputs": [],
   "source": [
    "disease_Id  = 'C0036341'\n",
    "classes     = ['P', 'LP', 'WN', 'LN', 'RN']\n",
    "METHOD     = 'subgraphx'\n",
    "model_name  = 'GraphSAGE_' + disease_Id + '_new_rankings'\n",
    "graph_path  = PATH_TO_GRAPHS + 'grafo_nedbit_' + disease_Id + '.gml'"
   ]
  },
  {
   "cell_type": "code",
   "execution_count": 3,
   "metadata": {},
   "outputs": [
    {
     "name": "stdout",
     "output_type": "stream",
     "text": [
      "[+] Reading graph...ok\n",
      "[+] Creating dataset...ok\n",
      "[i] Elapsed time: 20.33\n"
     ]
    }
   ],
   "source": [
    "dataset, G = get_dataset_from_graph(graph_path, disease_Id, quartile=False)"
   ]
  },
  {
   "cell_type": "code",
   "execution_count": 9,
   "metadata": {},
   "outputs": [
    {
     "data": {
      "text/plain": [
       "{'degree': 7,\n",
       " 'ring': 3,\n",
       " 'NetRank': 2.952002,\n",
       " 'NetShort': 242.8374,\n",
       " 'HeatDiff': 0.000586259,\n",
       " 'InfoDiff': 0.0008129991}"
      ]
     },
     "execution_count": 9,
     "metadata": {},
     "output_type": "execute_result"
    }
   ],
   "source": [
    "G.nodes['MTTP']"
   ]
  },
  {
   "cell_type": "markdown",
   "metadata": {},
   "source": [
    "### Train"
   ]
  },
  {
   "cell_type": "code",
   "execution_count": 4,
   "metadata": {},
   "outputs": [],
   "source": [
    "# lr              = 0.001\n",
    "# epochs          = 40000\n",
    "# weight_decay    = 0.0005\n",
    "# classes         = ['P', 'LP', 'WN', 'LN', 'RN']\n",
    "\n",
    "# model = GNN7L_Sage(dataset)\n",
    "# preds = train(model, dataset, epochs, lr, weight_decay, classes, model_name)"
   ]
  },
  {
   "cell_type": "markdown",
   "metadata": {},
   "source": [
    "### Get predictions from trained model"
   ]
  },
  {
   "cell_type": "code",
   "execution_count": 5,
   "metadata": {},
   "outputs": [
    {
     "name": "stdout",
     "output_type": "stream",
     "text": [
      "              precision    recall  f1-score   support\n",
      "\n",
      "           0       0.95      1.00      0.97       124\n",
      "           1       0.82      0.95      0.88       749\n",
      "           2       0.87      0.74      0.80       749\n",
      "           3       0.82      0.82      0.82       749\n",
      "           4       0.85      0.84      0.85       593\n",
      "\n",
      "    accuracy                           0.84      2964\n",
      "   macro avg       0.86      0.87      0.86      2964\n",
      "weighted avg       0.85      0.84      0.84      2964\n",
      "\n"
     ]
    }
   ],
   "source": [
    "preds, probs, model = predict_from_saved_model(model_name + '_40000_0_0005', dataset, classes, save_to_file=False)"
   ]
  },
  {
   "cell_type": "markdown",
   "metadata": {},
   "source": [
    "### Ranking"
   ]
  },
  {
   "cell_type": "code",
   "execution_count": 6,
   "metadata": {},
   "outputs": [],
   "source": [
    "# df = pd.read_csv('precision_positive_genes.csv') \n",
    "# n_positives = n_positives = df['n_positives'][df[disease_Id].idxmax()]\n",
    "\n",
    "# preds, probs, model = predict_from_saved_model(model_name+'_40000_0_0005', dataset, classes, save_to_file=False, plot_results=False)\n",
    "\n",
    "# ranking = get_ranking(model, dataset, preds, probs, disease_Id, n_positive=n_positives, explanation_nodes_ratio=1, masks_for_seed=10, G=G)\n",
    "\n",
    "# ### Save ranking to file\n",
    "# filename = PATH_TO_RANKINGS + disease_Id + '_' + str(n_positives) + '_new_rankings.txt'\n",
    "# with open(filename, 'w') as f:\n",
    "#     for line in ranking:\n",
    "#         f.write(line + '\\n')\n",
    "\n",
    "# cuts = [25, 50, 100, 200, 500]\n",
    "# for k in cuts:\n",
    "#     precision = validate_with_extended_dataset(ranking[:k], disease_Id, save_ranking_to_file=False)\n",
    "#     print('[+] Precision on top', k, ':', precision/k)"
   ]
  },
  {
   "cell_type": "markdown",
   "metadata": {},
   "source": [
    "### All positive genes"
   ]
  },
  {
   "cell_type": "code",
   "execution_count": 7,
   "metadata": {},
   "outputs": [
    {
     "data": {
      "application/vnd.jupyter.widget-view+json": {
       "model_id": "8652e75fda5843d592ad2fc32396a78a",
       "version_major": 2,
       "version_minor": 0
      },
      "text/plain": [
       "  0%|          | 0/832 [00:00<?, ?it/s]"
      ]
     },
     "metadata": {},
     "output_type": "display_data"
    },
    {
     "ename": "KeyboardInterrupt",
     "evalue": "",
     "output_type": "error",
     "traceback": [
      "\u001b[1;31m---------------------------------------------------------------------------\u001b[0m",
      "\u001b[1;31mKeyboardInterrupt\u001b[0m                         Traceback (most recent call last)",
      "\u001b[1;32mc:\\Repositories\\XGDAG\\Classification_pipeline_new_rankings.ipynb Cell 11\u001b[0m in \u001b[0;36m<cell line: 1>\u001b[1;34m()\u001b[0m\n\u001b[1;32m----> <a href='vscode-notebook-cell:/c%3A/Repositories/XGDAG/Classification_pipeline_new_rankings.ipynb#X13sZmlsZQ%3D%3D?line=0'>1</a>\u001b[0m ranking \u001b[39m=\u001b[39m predict_candidate_genes(model,\n\u001b[0;32m      <a href='vscode-notebook-cell:/c%3A/Repositories/XGDAG/Classification_pipeline_new_rankings.ipynb#X13sZmlsZQ%3D%3D?line=1'>2</a>\u001b[0m                                   dataset,\n\u001b[0;32m      <a href='vscode-notebook-cell:/c%3A/Repositories/XGDAG/Classification_pipeline_new_rankings.ipynb#X13sZmlsZQ%3D%3D?line=2'>3</a>\u001b[0m                                   preds,\n\u001b[0;32m      <a href='vscode-notebook-cell:/c%3A/Repositories/XGDAG/Classification_pipeline_new_rankings.ipynb#X13sZmlsZQ%3D%3D?line=3'>4</a>\u001b[0m                                   explainability_method\u001b[39m=\u001b[39;49mMETHOD,\n\u001b[0;32m      <a href='vscode-notebook-cell:/c%3A/Repositories/XGDAG/Classification_pipeline_new_rankings.ipynb#X13sZmlsZQ%3D%3D?line=4'>5</a>\u001b[0m                                   disease_Id\u001b[39m=\u001b[39;49m\u001b[39mNone\u001b[39;49;00m,\n\u001b[0;32m      <a href='vscode-notebook-cell:/c%3A/Repositories/XGDAG/Classification_pipeline_new_rankings.ipynb#X13sZmlsZQ%3D%3D?line=5'>6</a>\u001b[0m                                   explanation_nodes_ratio\u001b[39m=\u001b[39;49m\u001b[39m1\u001b[39;49m,\n\u001b[0;32m      <a href='vscode-notebook-cell:/c%3A/Repositories/XGDAG/Classification_pipeline_new_rankings.ipynb#X13sZmlsZQ%3D%3D?line=6'>7</a>\u001b[0m                                   num_hops\u001b[39m=\u001b[39;49m\u001b[39m1\u001b[39;49m,\n\u001b[0;32m      <a href='vscode-notebook-cell:/c%3A/Repositories/XGDAG/Classification_pipeline_new_rankings.ipynb#X13sZmlsZQ%3D%3D?line=7'>8</a>\u001b[0m                                   G\u001b[39m=\u001b[39;49mG,\n\u001b[0;32m      <a href='vscode-notebook-cell:/c%3A/Repositories/XGDAG/Classification_pipeline_new_rankings.ipynb#X13sZmlsZQ%3D%3D?line=8'>9</a>\u001b[0m                                   num_pos\u001b[39m=\u001b[39;49m\u001b[39m\"\u001b[39;49m\u001b[39mall\u001b[39;49m\u001b[39m\"\u001b[39;49m)\n",
      "File \u001b[1;32mc:\\Repositories\\XGDAG\\GDARanking.py:72\u001b[0m, in \u001b[0;36mpredict_candidate_genes\u001b[1;34m(model, dataset, predictions, disease_Id, explainability_method, explanation_nodes_ratio, masks_for_seed, num_hops, G, num_pos, threshold)\u001b[0m\n\u001b[0;32m     59\u001b[0m     \u001b[39mreturn\u001b[39;00m predict_candidate_genes_graphsvx_only(model,\n\u001b[0;32m     60\u001b[0m                                                  dataset,\n\u001b[0;32m     61\u001b[0m                                                  predictions,\n\u001b[1;32m   (...)\u001b[0m\n\u001b[0;32m     68\u001b[0m                                                  threshold \u001b[39m=\u001b[39m \u001b[39mTrue\u001b[39;00m\n\u001b[0;32m     69\u001b[0m                                                 )\n\u001b[0;32m     71\u001b[0m \u001b[39melif\u001b[39;00m explainability_method\u001b[39m.\u001b[39mlower() \u001b[39m==\u001b[39m \u001b[39m\"\u001b[39m\u001b[39msubgraphx\u001b[39m\u001b[39m\"\u001b[39m:\n\u001b[1;32m---> 72\u001b[0m     \u001b[39mreturn\u001b[39;00m predict_candidate_genes_subgraphx(model,\n\u001b[0;32m     73\u001b[0m                                              dataset,\n\u001b[0;32m     74\u001b[0m                                              predictions,\n\u001b[0;32m     75\u001b[0m                                              explanation_nodes_ratio,\n\u001b[0;32m     76\u001b[0m                                              num_hops,\n\u001b[0;32m     77\u001b[0m                                              G,\n\u001b[0;32m     78\u001b[0m                                              num_pos \u001b[39m=\u001b[39;49m num_pos\n\u001b[0;32m     79\u001b[0m                                             ) \n\u001b[0;32m     80\u001b[0m \u001b[39m# elif explainability_method.lower() == \"edgeshaper\":\u001b[39;00m\n\u001b[0;32m     81\u001b[0m \u001b[39m#     return predict_candidate_genes_edgeshaper(model, dataset, predictions, disease_Id, explanation_nodes_ratio, masks_for_seed,num_hops, G)\u001b[39;00m\n\u001b[0;32m     82\u001b[0m \u001b[39melse\u001b[39;00m:\n\u001b[0;32m     83\u001b[0m     \u001b[39mprint\u001b[39m(\u001b[39m\"\u001b[39m\u001b[39mInvalid explainability method - not implemented.\u001b[39m\u001b[39m\"\u001b[39m)\n",
      "File \u001b[1;32mc:\\Repositories\\XGDAG\\GDARanking.py:627\u001b[0m, in \u001b[0;36mpredict_candidate_genes_subgraphx\u001b[1;34m(model, dataset, predictions, explanation_nodes_ratio, num_hops, G, num_pos)\u001b[0m\n\u001b[0;32m    620\u001b[0m original_mapping, _, _, _ \u001b[39m=\u001b[39m SubgraphX\u001b[39m.\u001b[39mk_hop_subgraph_with_default_whole_graph(\n\u001b[0;32m    621\u001b[0m         edge_index\u001b[39m=\u001b[39mdataset\u001b[39m.\u001b[39medge_index,\n\u001b[0;32m    622\u001b[0m         node_idx\u001b[39m=\u001b[39midx,\n\u001b[0;32m    623\u001b[0m         num_hops\u001b[39m=\u001b[39m\u001b[39m1\u001b[39m,\n\u001b[0;32m    624\u001b[0m     )\n\u001b[0;32m    625\u001b[0m max_nodes \u001b[39m=\u001b[39m \u001b[39mint\u001b[39m(\u001b[39mround\u001b[39m(\u001b[39mlen\u001b[39m(original_mapping) \u001b[39m*\u001b[39m explanation_nodes_ratio))\n\u001b[1;32m--> 627\u001b[0m _, explanation_results, _ \u001b[39m=\u001b[39m explainer(dataset\u001b[39m.\u001b[39;49mx, dataset\u001b[39m.\u001b[39;49medge_index, node_idx\u001b[39m=\u001b[39;49midx, max_nodes\u001b[39m=\u001b[39;49mmax_nodes)\n\u001b[0;32m    629\u001b[0m best_coalition \u001b[39m=\u001b[39m SubgraphX\u001b[39m.\u001b[39mfind_closest_node_result_fixed_nodes(explanation_results[prediction], max_nodes\u001b[39m=\u001b[39mmax_nodes)\n\u001b[0;32m    630\u001b[0m \u001b[39m# Get score computed by SubgraphX for the entire subgraph\u001b[39;00m\n",
      "File \u001b[1;32mc:\\Repositories\\XGDAG\\SubgraphX.py:897\u001b[0m, in \u001b[0;36mSubgraphX.__call__\u001b[1;34m(self, x, edge_index, **kwargs)\u001b[0m\n\u001b[0;32m    894\u001b[0m         saved_results \u001b[39m=\u001b[39m torch\u001b[39m.\u001b[39mload(os\u001b[39m.\u001b[39mpath\u001b[39m.\u001b[39mjoin(\u001b[39mself\u001b[39m\u001b[39m.\u001b[39msave_dir, \u001b[39mf\u001b[39m\u001b[39m\"\u001b[39m\u001b[39m{\u001b[39;00m\u001b[39mself\u001b[39m\u001b[39m.\u001b[39mfilename\u001b[39m}\u001b[39;00m\u001b[39m.pt\u001b[39m\u001b[39m\"\u001b[39m))\n\u001b[0;32m    896\u001b[0m \u001b[39mfor\u001b[39;00m label_idx, label \u001b[39min\u001b[39;00m \u001b[39menumerate\u001b[39m(ex_labels):\n\u001b[1;32m--> 897\u001b[0m     results, related_pred \u001b[39m=\u001b[39m \u001b[39mself\u001b[39;49m\u001b[39m.\u001b[39;49mexplain(x, edge_index,\n\u001b[0;32m    898\u001b[0m                                          label\u001b[39m=\u001b[39;49mlabel,\n\u001b[0;32m    899\u001b[0m                                          max_nodes\u001b[39m=\u001b[39;49mmax_nodes,\n\u001b[0;32m    900\u001b[0m                                          node_idx\u001b[39m=\u001b[39;49mnode_idx,\n\u001b[0;32m    901\u001b[0m                                          saved_MCTSInfo_list\u001b[39m=\u001b[39;49msaved_results)\n\u001b[0;32m    902\u001b[0m     related_preds\u001b[39m.\u001b[39mappend(related_pred)\n\u001b[0;32m    903\u001b[0m     explanation_results\u001b[39m.\u001b[39mappend(results)\n",
      "File \u001b[1;32mc:\\Repositories\\XGDAG\\SubgraphX.py:821\u001b[0m, in \u001b[0;36mSubgraphX.explain\u001b[1;34m(self, x, edge_index, label, max_nodes, node_idx, saved_MCTSInfo_list)\u001b[0m\n\u001b[0;32m    818\u001b[0m \u001b[39mif\u001b[39;00m saved_MCTSInfo_list:\n\u001b[0;32m    819\u001b[0m     results \u001b[39m=\u001b[39m \u001b[39mself\u001b[39m\u001b[39m.\u001b[39mread_from_MCTSInfo_list(saved_MCTSInfo_list)\n\u001b[1;32m--> 821\u001b[0m \u001b[39mself\u001b[39m\u001b[39m.\u001b[39mmcts_state_map \u001b[39m=\u001b[39m \u001b[39mself\u001b[39;49m\u001b[39m.\u001b[39;49mget_mcts_class(x, edge_index, node_idx\u001b[39m=\u001b[39;49mnode_idx)\n\u001b[0;32m    822\u001b[0m \u001b[39mself\u001b[39m\u001b[39m.\u001b[39mnew_node_idx \u001b[39m=\u001b[39m \u001b[39mself\u001b[39m\u001b[39m.\u001b[39mmcts_state_map\u001b[39m.\u001b[39mnew_node_idx\n\u001b[0;32m    823\u001b[0m \u001b[39m# mcts will extract the subgraph and relabel the nodes\u001b[39;00m\n",
      "File \u001b[1;32mc:\\Repositories\\XGDAG\\SubgraphX.py:732\u001b[0m, in \u001b[0;36mSubgraphX.get_mcts_class\u001b[1;34m(self, x, edge_index, node_idx, score_func)\u001b[0m\n\u001b[0;32m    730\u001b[0m \u001b[39melse\u001b[39;00m:\n\u001b[0;32m    731\u001b[0m     \u001b[39massert\u001b[39;00m node_idx \u001b[39mis\u001b[39;00m \u001b[39mnot\u001b[39;00m \u001b[39mNone\u001b[39;00m\n\u001b[1;32m--> 732\u001b[0m \u001b[39mreturn\u001b[39;00m MCTS(x, edge_index,\n\u001b[0;32m    733\u001b[0m             node_idx\u001b[39m=\u001b[39;49mnode_idx,\n\u001b[0;32m    734\u001b[0m             device\u001b[39m=\u001b[39;49m\u001b[39mself\u001b[39;49m\u001b[39m.\u001b[39;49mdevice,\n\u001b[0;32m    735\u001b[0m             score_func\u001b[39m=\u001b[39;49mscore_func,\n\u001b[0;32m    736\u001b[0m             num_hops\u001b[39m=\u001b[39;49m\u001b[39mself\u001b[39;49m\u001b[39m.\u001b[39;49mnum_hops,\n\u001b[0;32m    737\u001b[0m             n_rollout\u001b[39m=\u001b[39;49m\u001b[39mself\u001b[39;49m\u001b[39m.\u001b[39;49mrollout,\n\u001b[0;32m    738\u001b[0m             min_atoms\u001b[39m=\u001b[39;49m\u001b[39mself\u001b[39;49m\u001b[39m.\u001b[39;49mmin_atoms,\n\u001b[0;32m    739\u001b[0m             c_puct\u001b[39m=\u001b[39;49m\u001b[39mself\u001b[39;49m\u001b[39m.\u001b[39;49mc_puct,\n\u001b[0;32m    740\u001b[0m             expand_atoms\u001b[39m=\u001b[39;49m\u001b[39mself\u001b[39;49m\u001b[39m.\u001b[39;49mexpand_atoms,\n\u001b[0;32m    741\u001b[0m             high2low\u001b[39m=\u001b[39;49m\u001b[39mself\u001b[39;49m\u001b[39m.\u001b[39;49mhigh2low)\n",
      "File \u001b[1;32mc:\\Repositories\\XGDAG\\SubgraphX.py:501\u001b[0m, in \u001b[0;36mMCTS.__init__\u001b[1;34m(self, X, edge_index, num_hops, n_rollout, min_atoms, c_puct, expand_atoms, high2low, node_idx, score_func, device)\u001b[0m\n\u001b[0;32m    499\u001b[0m \u001b[39mself\u001b[39m\u001b[39m.\u001b[39mdata \u001b[39m=\u001b[39m Data(x\u001b[39m=\u001b[39m\u001b[39mself\u001b[39m\u001b[39m.\u001b[39mX, edge_index\u001b[39m=\u001b[39m\u001b[39mself\u001b[39m\u001b[39m.\u001b[39medge_index)\n\u001b[0;32m    500\u001b[0m graph_data \u001b[39m=\u001b[39m Data(x\u001b[39m=\u001b[39m\u001b[39mself\u001b[39m\u001b[39m.\u001b[39mX, edge_index\u001b[39m=\u001b[39mremove_self_loops(\u001b[39mself\u001b[39m\u001b[39m.\u001b[39medge_index)[\u001b[39m0\u001b[39m])\n\u001b[1;32m--> 501\u001b[0m \u001b[39mself\u001b[39m\u001b[39m.\u001b[39mgraph \u001b[39m=\u001b[39m to_networkx(graph_data, to_undirected\u001b[39m=\u001b[39;49m\u001b[39mTrue\u001b[39;49;00m)\n\u001b[0;32m    502\u001b[0m \u001b[39mself\u001b[39m\u001b[39m.\u001b[39mdata \u001b[39m=\u001b[39m Batch\u001b[39m.\u001b[39mfrom_data_list([\u001b[39mself\u001b[39m\u001b[39m.\u001b[39mdata])\n\u001b[0;32m    503\u001b[0m \u001b[39mself\u001b[39m\u001b[39m.\u001b[39mnum_nodes \u001b[39m=\u001b[39m \u001b[39mself\u001b[39m\u001b[39m.\u001b[39mgraph\u001b[39m.\u001b[39mnumber_of_nodes()\n",
      "File \u001b[1;32mc:\\Users\\Mastro\\anaconda3\\envs\\xgdag\\lib\\site-packages\\torch_geometric\\utils\\convert.py:103\u001b[0m, in \u001b[0;36mto_networkx\u001b[1;34m(data, node_attrs, edge_attrs, to_undirected, remove_self_loops)\u001b[0m\n\u001b[0;32m    101\u001b[0m \u001b[39mif\u001b[39;00m to_undirected_upper \u001b[39mand\u001b[39;00m u \u001b[39m>\u001b[39m v:\n\u001b[0;32m    102\u001b[0m     \u001b[39mcontinue\u001b[39;00m\n\u001b[1;32m--> 103\u001b[0m \u001b[39melif\u001b[39;00m to_undirected_lower \u001b[39mand\u001b[39;00m u \u001b[39m<\u001b[39m v:\n\u001b[0;32m    104\u001b[0m     \u001b[39mcontinue\u001b[39;00m\n\u001b[0;32m    106\u001b[0m \u001b[39mif\u001b[39;00m remove_self_loops \u001b[39mand\u001b[39;00m u \u001b[39m==\u001b[39m v:\n",
      "\u001b[1;31mKeyboardInterrupt\u001b[0m: "
     ]
    }
   ],
   "source": [
    "ranking = predict_candidate_genes(model,\n",
    "                                  dataset,\n",
    "                                  preds,\n",
    "                                  explainability_method=METHOD,\n",
    "                                  disease_Id=None,\n",
    "                                  explanation_nodes_ratio=1,\n",
    "                                  num_hops=1,\n",
    "                                  G=G,\n",
    "                                  num_pos=\"all\")"
   ]
  },
  {
   "cell_type": "code",
   "execution_count": null,
   "metadata": {},
   "outputs": [
    {
     "ename": "TypeError",
     "evalue": "can only concatenate list (not \"str\") to list",
     "output_type": "error",
     "traceback": [
      "\u001b[1;31m---------------------------------------------------------------------------\u001b[0m",
      "\u001b[1;31mTypeError\u001b[0m                                 Traceback (most recent call last)",
      "\u001b[1;32mc:\\Repositories\\XGDAG\\Classification_pipeline_new_rankings.ipynb Cell 15\u001b[0m in \u001b[0;36m<cell line: 3>\u001b[1;34m()\u001b[0m\n\u001b[0;32m      <a href='vscode-notebook-cell:/c%3A/Repositories/XGDAG/Classification_pipeline_new_rankings.ipynb#X14sZmlsZQ%3D%3D?line=2'>3</a>\u001b[0m \u001b[39mwith\u001b[39;00m \u001b[39mopen\u001b[39m(filename, \u001b[39m'\u001b[39m\u001b[39mw\u001b[39m\u001b[39m'\u001b[39m) \u001b[39mas\u001b[39;00m f:\n\u001b[0;32m      <a href='vscode-notebook-cell:/c%3A/Repositories/XGDAG/Classification_pipeline_new_rankings.ipynb#X14sZmlsZQ%3D%3D?line=3'>4</a>\u001b[0m      \u001b[39mfor\u001b[39;00m line \u001b[39min\u001b[39;00m ranking:\n\u001b[1;32m----> <a href='vscode-notebook-cell:/c%3A/Repositories/XGDAG/Classification_pipeline_new_rankings.ipynb#X14sZmlsZQ%3D%3D?line=4'>5</a>\u001b[0m         f\u001b[39m.\u001b[39mwrite(line \u001b[39m+\u001b[39;49m \u001b[39m'\u001b[39;49m\u001b[39m\\n\u001b[39;49;00m\u001b[39m'\u001b[39;49m)\n",
      "\u001b[1;31mTypeError\u001b[0m: can only concatenate list (not \"str\") to list"
     ]
    }
   ],
   "source": [
    "### Save ranking to file\n",
    "filename = PATH_TO_RANKINGS + disease_Id + '_all_positives_new_ranking_xgdag_' + METHOD.lower() + '.txt'\n",
    "with open(filename, 'w') as f:\n",
    "     for line in ranking:\n",
    "        f.write(line + '\\n')"
   ]
  },
  {
   "cell_type": "code",
   "execution_count": null,
   "metadata": {},
   "outputs": [],
   "source": [
    "# cuts = [25, 50, 100, 200, 500]\n",
    "# for k in cuts:\n",
    "#     precision = validate_with_extended_dataset(ranking[:k], disease_Id, save_ranking_to_file=False)\n",
    "#     print('[+] Precision on top', k, ':', precision/k)"
   ]
  }
 ],
 "metadata": {
  "kernelspec": {
   "display_name": "Python 3.9.10 ('base')",
   "language": "python",
   "name": "python3"
  },
  "language_info": {
   "codemirror_mode": {
    "name": "ipython",
    "version": 3
   },
   "file_extension": ".py",
   "mimetype": "text/x-python",
   "name": "python",
   "nbconvert_exporter": "python",
   "pygments_lexer": "ipython3",
   "version": "3.9.10"
  },
  "orig_nbformat": 4,
  "vscode": {
   "interpreter": {
    "hash": "6be87094300d2fd0b14f70b1fe8798b4c48d70f4967b41c52e40ae094b87f126"
   }
  }
 },
 "nbformat": 4,
 "nbformat_minor": 2
}
