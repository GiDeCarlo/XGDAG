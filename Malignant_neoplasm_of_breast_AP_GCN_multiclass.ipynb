{
 "cells": [
  {
   "cell_type": "markdown",
   "metadata": {},
   "source": [
    "## Import packets"
   ]
  },
  {
   "cell_type": "code",
   "execution_count": 1,
   "metadata": {},
   "outputs": [
    {
     "data": {
      "text/plain": [
       "'cuda'"
      ]
     },
     "execution_count": 1,
     "metadata": {},
     "output_type": "execute_result"
    }
   ],
   "source": [
    "# import AP-GCN model\n",
    "from APGCNmodel import APGCN\n",
    "\n",
    "import time\n",
    "import random\n",
    "import numpy as np\n",
    "import pandas as pd\n",
    "import networkx as nx\n",
    "import seaborn as sns\n",
    "from tqdm.notebook import tqdm\n",
    "import matplotlib.pyplot as plt\n",
    "from collections import defaultdict\n",
    "\n",
    "import torch\n",
    "import torch.nn.functional as F\n",
    "from torch.optim import Adam, Optimizer\n",
    "from torch_geometric.utils import from_networkx\n",
    "from torch_geometric.data import Data, InMemoryDataset\n",
    "\n",
    "from sklearn.metrics import confusion_matrix\n",
    "from sklearn.metrics import classification_report\n",
    "from sklearn.model_selection import train_test_split\n",
    "\n",
    "random.seed(42)\n",
    "np.random.seed(42)\n",
    "torch.manual_seed(42)\n",
    "\n",
    "device = 'cuda' if torch.cuda.is_available() else 'cpu'\n",
    "device"
   ]
  },
  {
   "cell_type": "markdown",
   "metadata": {},
   "source": [
    "## Dataset loader"
   ]
  },
  {
   "cell_type": "code",
   "execution_count": 2,
   "metadata": {},
   "outputs": [],
   "source": [
    "# Dataset class: it allows to translate a vector (Graph, Attributes, Labels)\n",
    "# into a dataset compatible with the PyTorch models.\n",
    "# \n",
    "# Parameters:\n",
    "# - G: NetworkX graph\n",
    "# - Labels: of the nodes used for classification\n",
    "# - attributes: List of the nodes' attributes\n",
    "\n",
    "class MyDataset(InMemoryDataset):\n",
    "  def __init__(self, G, labels, attributes = None, num_classes = 2):\n",
    "    super(MyDataset, self).__init__('.', None, None, None)\n",
    "\n",
    "    # import data from the networkx graph with the attributes of the nodes\n",
    "    data = from_networkx(G, attributes)\n",
    "      \n",
    "    y = torch.from_numpy(labels).type(torch.long)\n",
    "\n",
    "    data.x = data.x.float()\n",
    "    data.y = y.clone().detach()\n",
    "    data.num_classes = num_classes\n",
    "\n",
    "    # Using train_test_split function from sklearn to stratify train/test/val sets\n",
    "    indices = range(G.number_of_nodes())\n",
    "    # Stratified split of train/test/val sets. Returned indices are used to create the masks\n",
    "    X_train, X_test, y_train, y_test, train_idx, test_idx = train_test_split(data.x, data.y, indices, test_size=0.3, stratify=labels)\n",
    "    # To create validation set, test set is splitted in half\n",
    "    X_test, X_val, y_test, y_val, test_idx, val_idx = train_test_split(X_test, y_test, test_idx, test_size=0.5, stratify=y_test)\n",
    "\n",
    "    n_nodes = G.number_of_nodes()\n",
    "    train_mask  = torch.zeros(n_nodes, dtype=torch.bool)\n",
    "    test_mask   = torch.zeros(n_nodes, dtype=torch.bool)\n",
    "    val_mask    = torch.zeros(n_nodes, dtype=torch.bool)\n",
    "\n",
    "    for idx in train_idx:\n",
    "      train_mask[idx] = True\n",
    "\n",
    "    for idx in test_idx:\n",
    "      test_mask[idx] = True\n",
    "    \n",
    "    for idx in val_idx:\n",
    "      val_mask[idx] = True\n",
    "\n",
    "    data['train_mask']  = train_mask\n",
    "    data['test_mask']   = test_mask\n",
    "    data['val_mask']    = val_mask\n",
    "\n",
    "    self.data, self.slices = self.collate([data])"
   ]
  },
  {
   "cell_type": "markdown",
   "metadata": {},
   "source": [
    "## Training Function"
   ]
  },
  {
   "cell_type": "code",
   "execution_count": 3,
   "metadata": {},
   "outputs": [],
   "source": [
    "def summary(results):\n",
    "    report={}\n",
    "    for k, v in results.items():\n",
    "        if k != 'steps' and k != 'probs':\n",
    "            boots_series = sns.algorithms.bootstrap(results[k], func=np.mean, n_boot=1000)\n",
    "            report[k] = np.mean(results[k])\n",
    "            report[f'{k}_ci'] = np.max(np.abs(sns.utils.ci(boots_series, 95) - report[k]))\n",
    "        else:\n",
    "            array = np.array([k.mean().cpu().detach().numpy() for k in results['steps']])\n",
    "            boots_series = sns.algorithms.bootstrap(array, func=np.mean, n_boot=1000)\n",
    "            report[k] = np.mean(array)\n",
    "            report[f'{k}_ci'] = np.max(np.abs(sns.utils.ci(boots_series, 95) - report[k]))\n",
    "    return report\n",
    "\n",
    "def plot_density(results):\n",
    "    fig, ax = plt.subplots()\n",
    "\n",
    "    z =[(x.cpu().numpy()).astype(int) for x in results['steps']]\n",
    "    z = np.vstack(z)\n",
    "    z = np.mean(z,axis=0)\n",
    "\n",
    "    sns.distplot(z, hist = False, kde = True,\n",
    "                 kde_kws = {'shade': True, 'linewidth': 3}, \n",
    "                 ax=ax)\n",
    "    plt.xlabel('Number of Steps')\n",
    "    plt.ylabel('Density')\n",
    "    plt.tight_layout()\n",
    "    plt.show()\n",
    "    return\n",
    "\n",
    "def train(model: torch.nn.Module, optimizer: Optimizer, data: Data, train_halt, weight_decay: float):\n",
    "    model.train()\n",
    "    \n",
    "    for param in model.prop.parameters():\n",
    "        param.requires_grad = train_halt\n",
    "\n",
    "    optimizer.zero_grad()\n",
    "    logits, steps, reminders = model(data)\n",
    "    \n",
    "    loss = F.nll_loss(logits[data.train_mask], data.y[data.train_mask])\n",
    "    l2_reg = sum((torch.sum(param ** 2) for param in model.reg_params))\n",
    "    loss += weight_decay/2 * l2_reg + model.prop_penalty *(\n",
    "            steps[data.train_mask] + reminders[data.train_mask]).mean()\n",
    "    \n",
    "    loss.backward()\n",
    "    optimizer.step()\n",
    "    return logits\n",
    "\n",
    "def evaluate(model: torch.nn.Module, data: Data, test: bool, weight_decay: float):\n",
    "    model.eval()\n",
    "    \n",
    "    with torch.no_grad():\n",
    "        logits, steps, reminders = model(data)\n",
    "        \n",
    "        loss = F.nll_loss(logits[data.train_mask], data.y[data.train_mask])\n",
    "        l2_reg = sum((torch.sum(param ** 2) for param in model.reg_params))\n",
    "        loss += weight_decay/2 * l2_reg + model.prop_penalty *(\n",
    "                steps[data.train_mask] + reminders[data.train_mask]).mean()\n",
    "\n",
    "    eval_dict = {}\n",
    "    keys = ['train','val']\n",
    "    eval_dict['steps'] = steps\n",
    "    for key in keys:\n",
    "        mask = data[f'{key}_mask']\n",
    "        pred = logits[mask].max(1)[1]\n",
    "        acc = pred.eq(data.y[mask]).sum().item() / mask.sum().item()\n",
    "        eval_dict[f'{key}_acc'] = acc\n",
    "    return eval_dict, loss\n",
    "\n",
    "\n",
    "def test_acc(model: torch.nn.Module, data: Data):\n",
    "    model.eval()\n",
    "    \n",
    "    with torch.no_grad():\n",
    "        logits, steps, reminders = model(data)\n",
    "    mask = data['test_mask']\n",
    "    pred = logits[mask].max(1)[1]\n",
    "    acc = pred.eq(data.y[mask]).sum().item() / mask.sum().item()\n",
    "    return acc\n",
    "\n",
    "def run(model, dataset, lr=0.01, test=False, patience=100, max_epochs=1000, weight_decay=0.01):\n",
    "    logits = None\n",
    "    best_dict = defaultdict(list)\n",
    "\n",
    "    # model = model.reset_parameters()\n",
    "    optimizer = Adam(model.parameters(),lr=lr)\n",
    "\n",
    "    patience_counter = 0\n",
    "    best_loss = 999\n",
    "    tmp_dict = {'val_acc': 0}\n",
    "\n",
    "    start_time = time.perf_counter()\n",
    "    for epoch in tqdm(range(1, max_epochs + 1)):\n",
    "        if patience_counter == patience:\n",
    "            break\n",
    "\n",
    "        logits = train(model, optimizer, dataset.data.to(device), epoch%5==0, weight_decay)\n",
    "        eval_dict, loss = evaluate(model, dataset.data, test, weight_decay)\n",
    "                        \n",
    "        if(eval_dict['val_acc'] > tmp_dict['val_acc']) or (\n",
    "            (eval_dict['val_acc'] == tmp_dict['val_acc']) and loss < best_loss):\n",
    "            patience_counter = 0\n",
    "            tmp_dict['epoch'] = epoch\n",
    "            tmp_dict['runtime'] = time.perf_counter() - start_time\n",
    "            \n",
    "            for k, v in eval_dict.items():\n",
    "                tmp_dict[k] = v\n",
    "\n",
    "            best_state = {key: value.cpu() for key, value\n",
    "                                in model.state_dict().items()}\n",
    "        \n",
    "        else:\n",
    "            patience_counter += 1\n",
    "            \n",
    "        if loss < best_loss:\n",
    "            best_loss = loss\n",
    "            patience_counter = 0\n",
    "                    \n",
    "    model.load_state_dict(best_state)\n",
    "\n",
    "    tmp_dict['test_acc'] = test_acc(model,dataset.data)\n",
    "    print(\"Epoch: {:.1f}\"\" Train: {:.2f}\"\" Val: {:.2f}\"\" Test: {:.2f}\".format(\n",
    "            tmp_dict['epoch'],\n",
    "            tmp_dict['train_acc'] * 100,\n",
    "            tmp_dict['val_acc'] * 100,\n",
    "            tmp_dict['test_acc'] * 100))\n",
    "        \n",
    "    for k, v in tmp_dict.items():\n",
    "        best_dict[k].append(v)\n",
    "\n",
    "    results = dict(best_dict)\n",
    "\n",
    "    report = summary(results)\n",
    "\n",
    "    print(\"FINAL\\n\"\n",
    "        \"Train Accuracy: {:.2f} ± {:.2f}%\\n\"\n",
    "        \"Stopping Accuracy: {:.2f} ± {:.2f}%\\n\"\n",
    "        \"Test     Accuracy: {:.2f} ± {:.2f}%\\n\"\n",
    "        \"Steps: {:.2f} ± {:.2f}\\n\" \n",
    "        \"Epochs:  {:.2f} ± {:.2f}\\n\"\n",
    "        \"Runtime: {:.4f} ± {:.4f}\\n\"\n",
    "        .format(\n",
    "            report['train_acc'] * 100,\n",
    "            report['train_acc_ci'] * 100,\n",
    "            report['val_acc'] * 100,\n",
    "            report['val_acc_ci'] * 100,\n",
    "            report['test_acc']*100,\n",
    "            report['test_acc_ci']*100,\n",
    "            report['steps'],\n",
    "            report['steps_ci'],\n",
    "            report['epoch'],\n",
    "            report['epoch_ci'],\n",
    "            report['runtime'],\n",
    "            report['runtime_ci']))\n",
    "\n",
    "    plot_density(results)\n",
    "\n",
    "    return logits\n",
    "\n",
    "def cm_print(data, logits, classes = ['0','1'], title = 'AP-GCN'):\n",
    "    test_mask   = data['test_mask']\n",
    "\n",
    "    labels = data.y\n",
    "    output = logits.argmax(1)\n",
    "\n",
    "    print(classification_report(labels[test_mask].to('cpu'), output[test_mask].to('cpu')))\n",
    "\n",
    "    #Confusion Matrix\n",
    "    norms = [None, \"true\"]\n",
    "    for norm in norms:\n",
    "        cm = confusion_matrix(labels[test_mask].to('cpu'), output[test_mask].to('cpu'), normalize=norm)\n",
    "\n",
    "        plt.figure(figsize=(7,7))\n",
    "        \n",
    "        if norm == \"true\":\n",
    "            sns.heatmap(cm, annot=True, fmt=\".3f\", linewidths=.5, square = True, cmap = 'BuPu', xticklabels = classes, yticklabels = classes)\n",
    "        else:\n",
    "            sns.heatmap(cm, annot=True, fmt=\".0f\", linewidths=.5, square = True, cmap = 'BuPu', xticklabels = classes, yticklabels = classes)\n",
    "        plt.title(title)\n",
    "        plt.ylabel('Actual label')\n",
    "        plt.xlabel('Predicted label')\n"
   ]
  },
  {
   "cell_type": "markdown",
   "metadata": {},
   "source": [
    "## NeDBIT Features"
   ]
  },
  {
   "cell_type": "code",
   "execution_count": 4,
   "metadata": {},
   "outputs": [
    {
     "name": "stdout",
     "output_type": "stream",
     "text": [
      "(18736, 2)\n"
     ]
    },
    {
     "data": {
      "image/png": "[encoded data removed]",
      "text/plain": [
       "<Figure size 432x288 with 1 Axes>"
      ]
     },
     "metadata": {
      "needs_background": "light"
     },
     "output_type": "display_data"
    }
   ],
   "source": [
    "G = nx.read_gml('Graphs/graph_with_nedbit.gml')\n",
    "\n",
    "seed_genes          = pd.read_csv('Datasets/C0006142_Malignant_neoplasm_of_breast_seed_genes.txt', header=None, sep=' ')\n",
    "seed_genes.columns  = [\"name\", \"GDA Score\"]\n",
    "seeds_list          = seed_genes[\"name\"].values.tolist()\n",
    "\n",
    "nedbit_scores = pd.read_csv('Datasets/C0006142_Malignant_neoplasm_of_breast_features_Score.csv')\n",
    "\n",
    "# Remove seed genes\n",
    "nedbit_scores_not_seed = nedbit_scores[~nedbit_scores['name'].isin(seeds_list)]\n",
    "print(nedbit_scores_not_seed.shape)\n",
    "\n",
    "# Sort scores for quartile division\n",
    "nedbit_scores_not_seed = nedbit_scores_not_seed.sort_values(by = \"out\", ascending = False)\n",
    "pseudo_labels = pd.qcut(x = nedbit_scores_not_seed[\"out\"], q = 4, labels = [\"RN\", \"LN\", \"WN\", \"LP\"])\n",
    "\n",
    "plt.hist(pseudo_labels)\n",
    "plt.show()"
   ]
  },
  {
   "cell_type": "code",
   "execution_count": 5,
   "metadata": {},
   "outputs": [
    {
     "data": {
      "text/plain": [
       "19761"
      ]
     },
     "execution_count": 5,
     "metadata": {},
     "output_type": "execute_result"
    }
   ],
   "source": [
    "nedbit_scores_not_seed['label'] = pseudo_labels\n",
    "\n",
    "nedbit_scores_seed = nedbit_scores[nedbit_scores['name'].isin(seeds_list)]\n",
    "nedbit_scores_seed = nedbit_scores_seed.assign(label = 'P')\n",
    "\n",
    "# Convert dataframe to dict for searching nodes and their labels\n",
    "not_seed_labels = dict(zip(nedbit_scores_not_seed['name'], nedbit_scores_not_seed['label']))\n",
    "seed_labels     = dict(zip(nedbit_scores_seed['name'], nedbit_scores_seed['label']))\n",
    "\n",
    "labels_dict = {'P':0, 'LP': 1, 'WN': 2, 'LN': 3, 'RN': 4}\n",
    "labels = []\n",
    "\n",
    "for node in G:\n",
    "    if node in not_seed_labels:\n",
    "        labels.append(labels_dict[not_seed_labels[node]])\n",
    "    else:\n",
    "        labels.append(labels_dict[seed_labels[node]])\n",
    "\n",
    "labels = np.asarray(labels)\n",
    "len(labels)"
   ]
  },
  {
   "cell_type": "code",
   "execution_count": 6,
   "metadata": {},
   "outputs": [
    {
     "data": {
      "image/png": "[encoded data removed]",
      "text/plain": [
       "<Figure size 432x288 with 1 Axes>"
      ]
     },
     "metadata": {
      "needs_background": "light"
     },
     "output_type": "display_data"
    }
   ],
   "source": [
    "attributes = ['degree', 'ring', 'NetRank', 'NetShort', 'HeatDiff', 'InfoDiff']\n",
    "\n",
    "dataset_with_nedbit = MyDataset(G, labels, attributes, num_classes=5)\n",
    "data_with_nedbit = dataset_with_nedbit[0]\n",
    "\n",
    "plt.hist(labels)\n",
    "plt.show()"
   ]
  },
  {
   "cell_type": "code",
   "execution_count": 17,
   "metadata": {},
   "outputs": [
    {
     "data": {
      "application/vnd.jupyter.widget-view+json": {
       "model_id": "5f410e606cd5421a9c71fe3d8d199cc9",
       "version_major": 2,
       "version_minor": 0
      },
      "text/plain": [
       "  0%|          | 0/5000 [00:00<?, ?it/s]"
      ]
     },
     "metadata": {},
     "output_type": "display_data"
    },
    {
     "name": "stdout",
     "output_type": "stream",
     "text": [
      "Epoch: 145.0 Train: 27.96 Val: 27.89 Test: 28.07\n",
      "FINAL\n",
      "Train Accuracy: 27.96 ± 0.00%\n",
      "Stopping Accuracy: 27.89 ± 0.00%\n",
      "Test     Accuracy: 28.07 ± 0.00%\n",
      "Steps: 7.17 ± 0.00\n",
      "Epochs:  145.00 ± 0.00\n",
      "Runtime: 9.3602 ± 0.0000\n",
      "\n"
     ]
    },
    {
     "name": "stderr",
     "output_type": "stream",
     "text": [
      "c:\\Users\\pmaur\\miniconda3\\envs\\pytorch\\lib\\site-packages\\seaborn\\distributions.py:2619: FutureWarning: `distplot` is a deprecated function and will be removed in a future version. Please adapt your code to use either `displot` (a figure-level function with similar flexibility) or `kdeplot` (an axes-level function for kernel density plots).\n",
      "  warnings.warn(msg, FutureWarning)\n"
     ]
    },
    {
     "data": {
      "image/png": "[encoded data removed]",
      "text/plain": [
       "<Figure size 432x288 with 1 Axes>"
      ]
     },
     "metadata": {
      "needs_background": "light"
     },
     "output_type": "display_data"
    },
    {
     "name": "stdout",
     "output_type": "stream",
     "text": [
      "              precision    recall  f1-score   support\n",
      "\n",
      "           0       0.05      0.25      0.08       154\n",
      "           1       0.29      0.65      0.40       703\n",
      "           2       0.22      0.08      0.12       702\n",
      "           3       0.22      0.03      0.05       703\n",
      "           4       0.55      0.19      0.28       702\n",
      "\n",
      "    accuracy                           0.24      2964\n",
      "   macro avg       0.26      0.24      0.19      2964\n",
      "weighted avg       0.30      0.24      0.21      2964\n",
      "\n"
     ]
    },
    {
     "data": {
      "image/png": "[encoded data removed]",
      "text/plain": [
       "<Figure size 504x504 with 2 Axes>"
      ]
     },
     "metadata": {
      "needs_background": "light"
     },
     "output_type": "display_data"
    },
    {
     "data": {
      "image/png": "[encoded data removed]",
      "text/plain": [
       "<Figure size 504x504 with 2 Axes>"
      ]
     },
     "metadata": {
      "needs_background": "light"
     },
     "output_type": "display_data"
    }
   ],
   "source": [
    "model = APGCN(dataset_with_nedbit, niter=10, prop_penalty=0.05, dropout=0.5)\n",
    "pred = run(model.to(device), dataset_with_nedbit, test=True, max_epochs=5000, patience=100)\n",
    "cm_print(data_with_nedbit, pred, title='AP-GCN, multiclass', classes=['P', 'LP', 'WN', 'LN', 'RN'])"
   ]
  }
 ],
 "metadata": {
  "kernelspec": {
   "display_name": "Python 3.10.4 ('pytorch')",
   "language": "python",
   "name": "python3"
  },
  "language_info": {
   "codemirror_mode": {
    "name": "ipython",
    "version": 3
   },
   "file_extension": ".py",
   "mimetype": "text/x-python",
   "name": "python",
   "nbconvert_exporter": "python",
   "pygments_lexer": "ipython3",
   "version": "3.10.4"
  },
  "orig_nbformat": 4,
  "vscode": {
   "interpreter": {
    "hash": "6aeea6fe202f5c7201d5940e4573c0a76b23e4e16f0e3784ac81597546f2b3b3"
   }
  }
 },
 "nbformat": 4,
 "nbformat_minor": 2
}
