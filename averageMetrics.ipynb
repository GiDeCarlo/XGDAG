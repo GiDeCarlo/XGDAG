{
 "cells": [
  {
   "attachments": {},
   "cell_type": "markdown",
   "metadata": {},
   "source": [
    "This notebook is used to average the metics and generate the table reported in the paper"
   ]
  },
  {
   "cell_type": "code",
   "execution_count": null,
   "metadata": {},
   "outputs": [],
   "source": [
    "import json\n",
    "import pandas as pd\n",
    "from tqdm.notebook import tqdm"
   ]
  },
  {
   "cell_type": "code",
   "execution_count": null,
   "metadata": {},
   "outputs": [],
   "source": [
    "diseaseIDs = []\n",
    "\n",
    "for id in diseaseIDs:\n",
    "    with open('Reports/GraphSAGE_'+id+'new_rankings_40000_0_0005.csv') as report:\n",
    "        for line in report.readlines():\n",
    "            print(line)"
   ]
  },
  {
   "cell_type": "code",
   "execution_count": 2,
   "metadata": {},
   "outputs": [],
   "source": [
    "DISEASE_NAMES = ['C0006142', 'C0009402', 'C0036341', 'C0023893', \\\n",
    "                'C0376358', 'C0005586', 'C0011581', 'C0860207', \\\n",
    "                'C0001973', 'C3714756']"
   ]
  },
  {
   "cell_type": "code",
   "execution_count": null,
   "metadata": {},
   "outputs": [],
   "source": [
    "dataframes = []\n",
    "for DISEASE_NAME in tqdm(DISEASE_NAMES):\n",
    "    scores = pd.read_csv(\"Reports/GraphSAGE_\" + DISEASE_NAME + \"_new_rankings_40000_0_0005.csv\").transpose()\n",
    "    scores.reset_index(inplace=True)\n",
    "    new_header = scores.iloc[0]\n",
    "    scores.columns = [\"label\", \"precision\", \"recall\", \"f1-score\", \"support\"]\n",
    "    scores = scores[1:]\n",
    "\n",
    "    display(scores)\n",
    "    dataframes.append(scores)\n",
    "\n",
    "scores_kfold_df = pd.concat(dataframes)\n",
    "\n",
    "scores_kfold_df = scores_kfold_df.groupby(\"label\")\n",
    "\n",
    "scores_kfold_mean = scores_kfold_df.mean().round(3).astype(str)\n",
    "\n",
    "scores_kfold_std_dev = scores_kfold_df.std().round(3).astype(str)\n",
    "\n",
    "\n",
    "scores_kfold_mean_std_dev = scores_kfold_mean + \" \\u00B1 \" + scores_kfold_std_dev\n",
    "\n",
    "scores_kfold_mean_std_dev.to_csv(\"Reports/\" + 'All_diseases_avg.csv')"
   ]
  },
  {
   "cell_type": "code",
   "execution_count": 55,
   "metadata": {},
   "outputs": [
    {
     "data": {
      "text/html": [
       "<div>\n",
       "<style scoped>\n",
       "    .dataframe tbody tr th:only-of-type {\n",
       "        vertical-align: middle;\n",
       "    }\n",
       "\n",
       "    .dataframe tbody tr th {\n",
       "        vertical-align: top;\n",
       "    }\n",
       "\n",
       "    .dataframe thead th {\n",
       "        text-align: right;\n",
       "    }\n",
       "</style>\n",
       "<table border=\"1\" class=\"dataframe\">\n",
       "  <thead>\n",
       "    <tr style=\"text-align: right;\">\n",
       "      <th></th>\n",
       "      <th>label</th>\n",
       "      <th>precision</th>\n",
       "      <th>recall</th>\n",
       "      <th>f1-score</th>\n",
       "      <th>support</th>\n",
       "    </tr>\n",
       "  </thead>\n",
       "  <tbody>\n",
       "    <tr>\n",
       "      <th>0</th>\n",
       "      <td>0</td>\n",
       "      <td>0.956 ± 0.033</td>\n",
       "      <td>0.962 ± 0.064</td>\n",
       "      <td>0.958 ± 0.04</td>\n",
       "      <td>84.0 ± 38.664</td>\n",
       "    </tr>\n",
       "    <tr>\n",
       "      <th>1</th>\n",
       "      <td>1</td>\n",
       "      <td>0.876 ± 0.082</td>\n",
       "      <td>0.911 ± 0.077</td>\n",
       "      <td>0.888 ± 0.046</td>\n",
       "      <td>758.9 ± 22.108</td>\n",
       "    </tr>\n",
       "    <tr>\n",
       "      <th>2</th>\n",
       "      <td>2</td>\n",
       "      <td>0.861 ± 0.068</td>\n",
       "      <td>0.815 ± 0.11</td>\n",
       "      <td>0.831 ± 0.059</td>\n",
       "      <td>758.6 ± 22.222</td>\n",
       "    </tr>\n",
       "    <tr>\n",
       "      <th>3</th>\n",
       "      <td>3</td>\n",
       "      <td>0.868 ± 0.046</td>\n",
       "      <td>0.835 ± 0.066</td>\n",
       "      <td>0.85 ± 0.044</td>\n",
       "      <td>758.6 ± 21.844</td>\n",
       "    </tr>\n",
       "    <tr>\n",
       "      <th>4</th>\n",
       "      <td>4</td>\n",
       "      <td>0.858 ± 0.055</td>\n",
       "      <td>0.886 ± 0.06</td>\n",
       "      <td>0.871 ± 0.047</td>\n",
       "      <td>603.9 ± 34.469</td>\n",
       "    </tr>\n",
       "    <tr>\n",
       "      <th>5</th>\n",
       "      <td>accuracy</td>\n",
       "      <td>0.863 ± 0.034</td>\n",
       "      <td>0.863 ± 0.034</td>\n",
       "      <td>0.863 ± 0.034</td>\n",
       "      <td>0.863 ± 0.034</td>\n",
       "    </tr>\n",
       "    <tr>\n",
       "      <th>6</th>\n",
       "      <td>macro avg</td>\n",
       "      <td>0.884 ± 0.027</td>\n",
       "      <td>0.882 ± 0.026</td>\n",
       "      <td>0.879 ± 0.028</td>\n",
       "      <td>2964.0 ± 0.0</td>\n",
       "    </tr>\n",
       "    <tr>\n",
       "      <th>7</th>\n",
       "      <td>weighted avg</td>\n",
       "      <td>0.869 ± 0.031</td>\n",
       "      <td>0.863 ± 0.034</td>\n",
       "      <td>0.862 ± 0.035</td>\n",
       "      <td>2964.0 ± 0.0</td>\n",
       "    </tr>\n",
       "  </tbody>\n",
       "</table>\n",
       "</div>"
      ],
      "text/plain": [
       "          label      precision         recall       f1-score         support\n",
       "0             0  0.956 ± 0.033  0.962 ± 0.064   0.958 ± 0.04   84.0 ± 38.664\n",
       "1             1  0.876 ± 0.082  0.911 ± 0.077  0.888 ± 0.046  758.9 ± 22.108\n",
       "2             2  0.861 ± 0.068   0.815 ± 0.11  0.831 ± 0.059  758.6 ± 22.222\n",
       "3             3  0.868 ± 0.046  0.835 ± 0.066   0.85 ± 0.044  758.6 ± 21.844\n",
       "4             4  0.858 ± 0.055   0.886 ± 0.06  0.871 ± 0.047  603.9 ± 34.469\n",
       "5      accuracy  0.863 ± 0.034  0.863 ± 0.034  0.863 ± 0.034   0.863 ± 0.034\n",
       "6     macro avg  0.884 ± 0.027  0.882 ± 0.026  0.879 ± 0.028    2964.0 ± 0.0\n",
       "7  weighted avg  0.869 ± 0.031  0.863 ± 0.034  0.862 ± 0.035    2964.0 ± 0.0"
      ]
     },
     "metadata": {},
     "output_type": "display_data"
    }
   ],
   "source": [
    "scores = pd.read_csv(\"Reports/All_diseases_avg.csv\")\n",
    "display(scores)"
   ]
  }
 ],
 "metadata": {
  "kernelspec": {
   "display_name": "base",
   "language": "python",
   "name": "python3"
  },
  "language_info": {
   "codemirror_mode": {
    "name": "ipython",
    "version": 3
   },
   "file_extension": ".py",
   "mimetype": "text/x-python",
   "name": "python",
   "nbconvert_exporter": "python",
   "pygments_lexer": "ipython3",
   "version": "3.9.10"
  },
  "orig_nbformat": 4,
  "vscode": {
   "interpreter": {
    "hash": "6be87094300d2fd0b14f70b1fe8798b4c48d70f4967b41c52e40ae094b87f126"
   }
  }
 },
 "nbformat": 4,
 "nbformat_minor": 2
}
