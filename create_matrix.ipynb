{
 "cells": [
  {
   "cell_type": "code",
   "execution_count": 1,
   "metadata": {},
   "outputs": [],
   "source": [
    "import numpy as np\n",
    "import networkx as nx\n",
    "\n",
    "from tqdm.notebook import tqdm\n",
    "from sklearn.metrics.pairwise import euclidean_distances"
   ]
  },
  {
   "cell_type": "code",
   "execution_count": 3,
   "metadata": {},
   "outputs": [
    {
     "name": "stdout",
     "output_type": "stream",
     "text": [
      "19761 6\n"
     ]
    }
   ],
   "source": [
    "G = nx.read_gml('Graphs/graph_with_nedbit.gml')\n",
    "attributes = []\n",
    "\n",
    "for node in G:\n",
    "    attributes.append(list(G.nodes.data()[node].values()))\n",
    "\n",
    "print(len(attributes), len(attributes[0]))"
   ]
  },
  {
   "cell_type": "code",
   "execution_count": 4,
   "metadata": {},
   "outputs": [
    {
     "data": {
      "text/plain": [
       "(19761, 19761)"
      ]
     },
     "execution_count": 4,
     "metadata": {},
     "output_type": "execute_result"
    }
   ],
   "source": [
    "distances = euclidean_distances(attributes)\n",
    "distances.shape"
   ]
  },
  {
   "cell_type": "code",
   "execution_count": 11,
   "metadata": {},
   "outputs": [
    {
     "data": {
      "application/vnd.jupyter.widget-view+json": {
       "model_id": "18fc17692c46406ba3bcc7bd826c7956",
       "version_major": 2,
       "version_minor": 0
      },
      "text/plain": [
       "  0%|          | 0/19761 [00:00<?, ?it/s]"
      ]
     },
     "metadata": {},
     "output_type": "display_data"
    },
    {
     "data": {
      "text/plain": [
       "array([[1.        , 0.9965645 , 0.99674964, ..., 0.99576026, 0.99574545,\n",
       "        0.99747274],\n",
       "       [0.9965741 , 1.        , 0.99981634, ..., 0.99919739, 0.99918266,\n",
       "        0.99909278],\n",
       "       [0.9967572 , 0.9998155 , 1.        , ..., 0.99901236, 0.99899762,\n",
       "        0.9992758 ],\n",
       "       ...,\n",
       "       [0.99577537, 0.99919741, 0.99901351, ..., 1.        , 0.99998546,\n",
       "        0.99829465],\n",
       "       [0.99576071, 0.99918273, 0.99899882, ..., 0.99998549, 1.        ,\n",
       "        0.99827996],\n",
       "       [0.99747657, 0.99909159, 0.99927572, ..., 0.99829201, 0.99827723,\n",
       "        1.        ]])"
      ]
     },
     "execution_count": 11,
     "metadata": {},
     "output_type": "execute_result"
    }
   ],
   "source": [
    "sim_matrix = np.zeros(distances.shape)\n",
    "\n",
    "for i in tqdm(range(distances.shape[0])):\n",
    "\n",
    "    row_without_diagonal_elem = np.delete(distances[i], i)\n",
    "\n",
    "    for j in range(distances.shape[1]):\n",
    "        w = 1\n",
    "\n",
    "        if i != j:\n",
    "            e = distances[i][j]\n",
    "            m = np.min(row_without_diagonal_elem)\n",
    "            M = np.max(row_without_diagonal_elem)\n",
    "            w = 1 - (e-m)/(M-m)\n",
    "\n",
    "        sim_matrix[i][j] = w\n",
    "    \n",
    "sim_matrix"
   ]
  },
  {
   "cell_type": "code",
   "execution_count": 15,
   "metadata": {},
   "outputs": [],
   "source": [
    "np.save('similarity_matrix.npy', sim_matrix)"
   ]
  },
  {
   "cell_type": "code",
   "execution_count": 16,
   "metadata": {},
   "outputs": [
    {
     "data": {
      "text/plain": [
       "array([[1.        , 0.9965645 , 0.99674964, ..., 0.99576026, 0.99574545,\n",
       "        0.99747274],\n",
       "       [0.9965741 , 1.        , 0.99981634, ..., 0.99919739, 0.99918266,\n",
       "        0.99909278],\n",
       "       [0.9967572 , 0.9998155 , 1.        , ..., 0.99901236, 0.99899762,\n",
       "        0.9992758 ],\n",
       "       ...,\n",
       "       [0.99577537, 0.99919741, 0.99901351, ..., 1.        , 0.99998546,\n",
       "        0.99829465],\n",
       "       [0.99576071, 0.99918273, 0.99899882, ..., 0.99998549, 1.        ,\n",
       "        0.99827996],\n",
       "       [0.99747657, 0.99909159, 0.99927572, ..., 0.99829201, 0.99827723,\n",
       "        1.        ]])"
      ]
     },
     "execution_count": 16,
     "metadata": {},
     "output_type": "execute_result"
    }
   ],
   "source": [
    "W = np.load('similarity_matrix.npy')\n",
    "W"
   ]
  }
 ],
 "metadata": {
  "kernelspec": {
   "display_name": "Python 3.10.4 ('pytorch')",
   "language": "python",
   "name": "python3"
  },
  "language_info": {
   "codemirror_mode": {
    "name": "ipython",
    "version": 3
   },
   "file_extension": ".py",
   "mimetype": "text/x-python",
   "name": "python",
   "nbconvert_exporter": "python",
   "pygments_lexer": "ipython3",
   "version": "3.10.4"
  },
  "orig_nbformat": 4,
  "vscode": {
   "interpreter": {
    "hash": "6aeea6fe202f5c7201d5940e4573c0a76b23e4e16f0e3784ac81597546f2b3b3"
   }
  }
 },
 "nbformat": 4,
 "nbformat_minor": 2
}
