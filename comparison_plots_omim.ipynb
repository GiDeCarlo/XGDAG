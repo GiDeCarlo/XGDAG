{
 "cells": [
  {
   "attachments": {},
   "cell_type": "markdown",
   "metadata": {},
   "source": [
    "# Methods Comparisons on the OMIM Dataset"
   ]
  },
  {
   "cell_type": "code",
   "execution_count": 1,
   "metadata": {},
   "outputs": [],
   "source": [
    "import pickle\n",
    "import pandas as pd\n",
    "from tqdm.notebook import tqdm\n",
    "from sklearn.metrics import auc\n",
    "import plotly.graph_objects as go\n",
    "\n",
    "from Paths import PATH_TO_DATASETS"
   ]
  },
  {
   "cell_type": "code",
   "execution_count": 3,
   "metadata": {},
   "outputs": [
    {
     "name": "stdout",
     "output_type": "stream",
     "text": [
      "Total disease used: 3\n",
      "Total methods used: 4\n"
     ]
    }
   ],
   "source": [
    "DISEASE_NAMES = ['C0006142_Malignant_neoplasm_of_breast', 'C0009402_Colorectal_Carcinoma',\\\n",
    "                 'C0023893_Liver_Cirrhosis_Experimental']\n",
    "\n",
    "DISEASE_CODES = {\"C0006142_Malignant_neoplasm_of_breast\": \"C0006142\", \\\n",
    "                    \"C0009402_Colorectal_Carcinoma\": \"C0009402\", \\\n",
    "                    \"C0023893_Liver_Cirrhosis_Experimental\": \"C0023893\"\n",
    "                }\n",
    "\n",
    "GUILD_METHODS   = []\n",
    "COMPARE_METHODS = [\"XGDAG - GNNExplainer\",  \"XGDAG - GraphSVX\", \"NIAPU\", \"DIAMOnD\",]\n",
    "XAI_METHODS     = [\"GNNExplainer\", \"XGDAG - GNNExplainer\", \"GraphSVX\", \"XGDAG - GraphSVX\", \"SubgraphX\", \"XGDAG - SubgraphX\"]\n",
    "\n",
    "ratios_to_validate = [25, 50, 100, 200, 500, 750, 1000]\n",
    "\n",
    "print('Total disease used:', len(DISEASE_NAMES))\n",
    "print('Total methods used:', len(COMPARE_METHODS))"
   ]
  },
  {
   "attachments": {},
   "cell_type": "markdown",
   "metadata": {},
   "source": [
    "## Initialize Dictionary"
   ]
  },
  {
   "cell_type": "code",
   "execution_count": 4,
   "metadata": {},
   "outputs": [],
   "source": [
    "# Dictionary to store, the metric achieved by each method for each disease:\n",
    "# - disease_method_metric_d = {disease: {method: {metric: value(s)}}}\n",
    "# COMPARE_METHODS = XAI_METHODS\n",
    "\n",
    "disease_method_metric_d = {}\n",
    "\n",
    "# Inizialization\n",
    "for disease in DISEASE_NAMES:\n",
    "    disease_method_metric_d[disease] = {}\n",
    "    for method in COMPARE_METHODS:\n",
    "        disease_method_metric_d[disease][method] = {}\n",
    "        for metric in ['P', 'R', 'F1', 'AUC']:\n",
    "            disease_method_metric_d[disease][method][metric] = 0"
   ]
  },
  {
   "attachments": {},
   "cell_type": "markdown",
   "metadata": {},
   "source": [
    "## Compute Metrics"
   ]
  },
  {
   "cell_type": "code",
   "execution_count": 6,
   "metadata": {},
   "outputs": [
    {
     "data": {
      "application/json": {
       "ascii": false,
       "bar_format": null,
       "colour": null,
       "elapsed": 0.010802984237670898,
       "initial": 0,
       "n": 0,
       "ncols": null,
       "nrows": null,
       "postfix": null,
       "prefix": "",
       "rate": null,
       "total": 3,
       "unit": "it",
       "unit_divisor": 1000,
       "unit_scale": false
      },
      "application/vnd.jupyter.widget-view+json": {
       "model_id": "665749a86d7443cbbb2711fe9c470d6a",
       "version_major": 2,
       "version_minor": 0
      },
      "text/plain": [
       "  0%|          | 0/3 [00:00<?, ?it/s]"
      ]
     },
     "metadata": {},
     "output_type": "display_data"
    }
   ],
   "source": [
    "auc_scores = {}\n",
    "for METHOD in COMPARE_METHODS:\n",
    "\t\tauc_scores[METHOD] = []\n",
    "\t\t\n",
    "for DISEASE_NAME in tqdm(DISEASE_NAMES):\n",
    "\t\trecall_folds = []\n",
    "\t\tprecision_folds = []\n",
    "\t\tF1_folds = []\n",
    "\n",
    "\t\trecall_folds_compare_methods = {}\n",
    "\t\tprecision_folds_compare_methods = {}\n",
    "\t\tF1_folds_compare_methods = {}\n",
    "\t\t\n",
    "\t\tfor METHOD in COMPARE_METHODS:\n",
    "\t\t\t\trecall_folds_compare_methods[METHOD] = []\n",
    "\t\t\t\tprecision_folds_compare_methods[METHOD] = []\n",
    "\t\t\t\tF1_folds_compare_methods[METHOD] = []\n",
    "\n",
    "\t\tfor ratio_to_validate in ratios_to_validate:\n",
    "\t\t\tGENE_APU_SCORES_PATH = PATH_TO_DATASETS + \"/Diamond_dataset/\" + DISEASE_CODES[DISEASE_NAME] + \"_diamond_ranking\"\n",
    "\t\t\tTRAIN_SEEDS_PATH = PATH_TO_DATASETS + \"/Diamond_dataset/\" + DISEASE_CODES[DISEASE_NAME] + \"_seed_genes_scores_diamond.txt\"\n",
    "\n",
    "\t\t\tAPU_scores_df = pd.read_csv(GENE_APU_SCORES_PATH, header = None, sep = \" \")\n",
    "\t\t\tAPU_scores_df.columns = [\"name\", \"score\", \"label\"]\n",
    "\t\t\tAPU_ranking_df = APU_scores_df.sort_values(by = \"score\", ascending= False)\n",
    "\t\t\t\n",
    "\n",
    "\t\t\t# seed genes used for diffusion that we consider as P class in this scenario \n",
    "\t\t\t# (20% or seed genes were removed to check for robustness)\n",
    "\t\t\ttrain_seeds_df = pd.read_csv(TRAIN_SEEDS_PATH, header = None, sep = \" \")\n",
    "\t\t\ttrain_seeds_df.columns = [\"name\", \"GDA Score\"]\n",
    "\t\t\ttrain_seeds_list = train_seeds_df[\"name\"].values.tolist()\n",
    "\n",
    "\t\t\tAPU_ranking_df_not_seeds = APU_ranking_df[~APU_ranking_df['name'].isin(train_seeds_list)]\n",
    "\n",
    "\t\t\tAPU_ranking_candidate_genes = APU_ranking_df_not_seeds[\"name\"].values.tolist()\n",
    "\t\t\t\n",
    "\t\t\tN = None\n",
    "\t\t\t\n",
    "\t\t\tFILE_NAME_ALL_SEEDS = PATH_TO_DATASETS + \"/all_seed_genes/\" + DISEASE_NAME + \"_all_seed_genes.txt\"\n",
    "\t\t\tall_seed_genes_df = pd.read_csv(FILE_NAME_ALL_SEEDS, sep = \" \", header = None)\n",
    "\t\t\tall_seed_genes = all_seed_genes_df[0].values\n",
    "\n",
    "\t\t\tdiamond_all_genes_df = pd.read_csv(PATH_TO_DATASETS + '/Diamond_dataset/diamond_all_genes.txt', header=None)\n",
    "\t\t\tdiamond_all_genes = diamond_all_genes_df[0].values\n",
    "\t\t\tall_seed_genes = list(set(all_seed_genes).intersection(set(diamond_all_genes)))\n",
    "\n",
    "\t\t\ttest_seeds = list(set(all_seed_genes).difference(set(train_seeds_list)))\n",
    "\t\t\t\n",
    "\t\t\tN = len(all_seed_genes)\n",
    "\t\t\t\n",
    "\t\t\tAPU_ranking_candidate_genes = APU_ranking_candidate_genes[:round(ratio_to_validate)]\n",
    "\t\t\tTP = 0\n",
    "\t\t\tFP = 0\n",
    "\t\t\tP = len(test_seeds) #TP+FP\n",
    "\n",
    "\t\t\tfor gene in APU_ranking_candidate_genes:\n",
    "\t\t\t\t\t\n",
    "\t\t\t\t\tif gene in test_seeds:\n",
    "\t\t\t\t\t\t\tTP += 1\n",
    "\t\t\t\t\t\t\t\n",
    "\t\t\t\t\telse:\n",
    "\t\t\t\t\t\t\tFP += 1\n",
    "\t\t\t\n",
    "\t\t\trecall = TP / P\n",
    "\t\t\tprecision = TP / (TP + FP)\n",
    "\n",
    "\t\t\tF1_score = 0\n",
    "\t\t\tif (precision + recall) != 0:\n",
    "\t\t\t\t\tF1_score = 2*(precision*recall)/(precision+recall)\n",
    "\n",
    "\t\t\trecall_folds.append(recall)\n",
    "\t\t\tprecision_folds.append(precision)\n",
    "\t\t\tF1_folds.append(F1_score)\n",
    "\n",
    "\t\t\trecall_folds_compare_methods[\"NIAPU\"].append(recall)\n",
    "\t\t\tprecision_folds_compare_methods[\"NIAPU\"].append(precision)\n",
    "\t\t\tF1_folds_compare_methods[\"NIAPU\"].append(F1_score)\n",
    "\t\t\t\n",
    "\t\t\tfor METHOD in COMPARE_METHODS:\n",
    "\t\t\t\t\tif METHOD != \"NIAPU\":\n",
    "\t\t\t\t\t\t\tranking_method = []\n",
    "\n",
    "\t\t\t\t\t\t\tif METHOD in XAI_METHODS:\n",
    "\t\t\t\t\t\t\t\t\twith open(\"Rankings/\" + DISEASE_CODES[DISEASE_NAME] + \"_all_positives_diamond_\" + METHOD.lower().replace(\"-\", \"_\").replace(\" \", \"\") + \".txt\", \"r\", encoding=\"utf-8\") as rankingFile:\n",
    "\t\t\t\t\t\t\t\t\t\t\tfor line in rankingFile:\n",
    "\t\t\t\t\t\t\t\t\t\t\t\t\tranking_method.append(line.strip(\"\\n\"))\n",
    "\n",
    "\t\t\t\t\t\t\telif METHOD in GUILD_METHODS:        \n",
    "\t\t\t\t\t\t\t\t\tGUILD_METHOD_PATH = \"Rankings/other_methods/GUILD/\" + METHOD + \"/\" + DISEASE_NAME + \"_\" + METHOD + \".txt\"\n",
    "\n",
    "\t\t\t\t\t\t\t\t\tGUILD_scores_df = pd.read_csv(GUILD_METHOD_PATH, header = None, sep = \"\\t\")\n",
    "\t\t\t\t\t\t\t\t\tGUILD_scores_df.columns = [\"name\", \"score\"]\n",
    "\t\t\t\t\t\t\t\t\tGUILD_scores_df = GUILD_scores_df.sort_values(by = \"score\", ascending= False)\n",
    "\n",
    "\t\t\t\t\t\t\t\t\tranking_method_df_not_seeds = GUILD_scores_df[~GUILD_scores_df['name'].isin(train_seeds_list)]\n",
    "\t\t\t\t\t\t\t\t\tranking_method = ranking_method_df_not_seeds[\"name\"].values.tolist()\n",
    "\t\t\t\t\t\t\t\n",
    "\t\t\t\t\t\t\telse:\n",
    "\t\t\t\t\t\t\t\tif METHOD == 'DIAMOnD':\n",
    "\t\t\t\t\t\t\t\t\t\t\ttry:\n",
    "\t\t\t\t\t\t\t\t\t\t\t\twith open('Rankings/other_methods/' + METHOD + '/diamond_output_' + DISEASE_CODES[DISEASE_NAME] + '_diamond_new.txt', 'r', encoding='utf-8') as rankingFile:\n",
    "\t\t\t\t\t\t\t\t\t\t\t\t\tfor line in rankingFile:\n",
    "\t\t\t\t\t\t\t\t\t\t\t\t\t\tranking_method.append(line.strip(\"\\n\"))\n",
    "\t\t\t\t\t\t\t\t\t\t\texcept:\n",
    "\t\t\t\t\t\t\t\t\t\t\t\tprint('[!] Disease not available in the DIAMOnD dataset')\n",
    "\t\t\t\t\t\t\t\telse:\n",
    "\t\t\t\t\t\t\t\t\twith open(\"Rankings/other_methods/\" + METHOD + \"/\" + METHOD.lower() + \"_output_\" + DISEASE_NAME + \".txt\", \"r\", encoding=\"utf-8\") as rankingFile:\n",
    "\t\t\t\t\t\t\t\t\t\tfor line in rankingFile:\n",
    "\t\t\t\t\t\t\t\t\t\t\tranking_method.append(line.strip(\"\\n\"))\n",
    "\t\t\t\t\t\t\t\t\t\n",
    "\n",
    "\t\t\t\t\t\t\tranking_method = ranking_method[:round(ratio_to_validate)]\n",
    "\t\t\t\t\t\t\tTP = 0\n",
    "\t\t\t\t\t\t\tFP = 0\n",
    "\t\t\t\t\t\t\tP = len(test_seeds) #TP+FP\n",
    "\n",
    "\t\t\t\t\t\t\tfor gene in ranking_method:\n",
    "\t\t\t\t\t\t\t\tgene.replace('-', '_')\n",
    "\t\t\t\t\t\t\t\tgene.replace('.', '_')\n",
    "\t\t\t\t\t\t\t\t\n",
    "\t\t\t\t\t\t\t\tif gene in test_seeds:\n",
    "\t\t\t\t\t\t\t\t\tTP += 1\n",
    "\t\t\t\t\t\t\t\telse:\n",
    "\t\t\t\t\t\t\t\t\tFP += 1\n",
    "\n",
    "\t\t\t\t\t\t\trecall = TP / P\n",
    "\t\t\t\t\t\t\tprecision = TP / (TP + FP)\n",
    "\t\t\t\t\t\t\t\n",
    "\t\t\t\t\t\t\tF1_score = 0\n",
    "\t\t\t\t\t\t\tif (precision + recall) != 0:\n",
    "\t\t\t\t\t\t\t\t\tF1_score = 2*(precision*recall)/(precision+recall)\n",
    "\n",
    "\t\t\t\t\t\t\trecall_folds_compare_methods[METHOD].append(recall)\n",
    "\t\t\t\t\t\t\tprecision_folds_compare_methods[METHOD].append(precision)\n",
    "\t\t\t\t\t\t\tF1_folds_compare_methods[METHOD].append(F1_score)\n",
    "\t\t\t\n",
    "\t\t#compute area under the precision-recall curve (AUC)\n",
    "\t\tfor METHOD in COMPARE_METHODS:\n",
    "\t\t\t\tauc_score = auc(recall_folds_compare_methods[METHOD], precision_folds_compare_methods[METHOD])\n",
    "\t\t\t\tauc_scores[METHOD].append(auc_score)\n",
    "\n",
    "\t\t\t\tdisease_method_metric_d[DISEASE_NAME][METHOD]['P']      = precision_folds_compare_methods[METHOD]\n",
    "\t\t\t\tdisease_method_metric_d[DISEASE_NAME][METHOD]['R']      = recall_folds_compare_methods[METHOD]\n",
    "\t\t\t\tdisease_method_metric_d[DISEASE_NAME][METHOD]['F1']     = F1_folds_compare_methods[METHOD]\n",
    "\t\t\t\tdisease_method_metric_d[DISEASE_NAME][METHOD]['AUC']    = auc_score\n",
    "\n"
   ]
  },
  {
   "attachments": {},
   "cell_type": "markdown",
   "metadata": {},
   "source": [
    "## Line Plots"
   ]
  },
  {
   "cell_type": "code",
   "execution_count": 10,
   "metadata": {},
   "outputs": [
    {
     "name": "stdout",
     "output_type": "stream",
     "text": [
      "C0006142_Malignant_neoplasm_of_breast\n"
     ]
    },
    {
     "data": {
      "application/vnd.plotly.v1+json": {
       "config": {
        "plotlyServerURL": "https://plot.ly"
       },
       "data": [
        {
         "line": {
          "color": "skyblue",
          "dash": "solid"
         },
         "marker": {
          "symbol": "circle"
         },
         "name": "XGDAG - GNNExplainer",
         "type": "scatter",
         "x": [
          "25",
          "50",
          "100",
          "200",
          "500",
          "750",
          "1000"
         ],
         "y": [
          0.00947867298578199,
          0.01768520337983887,
          0.033080365829928,
          0.06260736781828592,
          0.11771077811879402,
          0.17032302642943514,
          0.21063089915548933
         ]
        },
        {
         "line": {
          "color": "tomato",
          "dash": "solid"
         },
         "marker": {
          "symbol": "square"
         },
         "name": "XGDAG - GraphSVX",
         "type": "scatter",
         "x": [
          "25",
          "50",
          "100",
          "200",
          "500",
          "750",
          "1000"
         ],
         "y": [
          0.009873617693522907,
          0.018471212418942822,
          0.03346954660439774,
          0.05878984539034166,
          0.12637660227477884,
          0.1793055795474175,
          0.21427388640503392
         ]
        },
        {
         "line": {
          "color": "brown",
          "dash": "solid"
         },
         "marker": {
          "symbol": "cross"
         },
         "name": "NIAPU",
         "type": "scatter",
         "x": [
          "25",
          "50",
          "100",
          "200",
          "500",
          "750",
          "1000"
         ],
         "y": [
          0.008293838862559242,
          0.014934171742975044,
          0.02879937731076085,
          0.05077304829165871,
          0.07113197328037553,
          0.09086197961651407,
          0.11094552078158633
         ]
        },
        {
         "line": {
          "color": "brown",
          "dash": "solid"
         },
         "marker": {
          "symbol": "diamond"
         },
         "name": "DIAMOnD",
         "type": "scatter",
         "x": [
          "25",
          "50",
          "100",
          "200",
          "500",
          "750",
          "1000"
         ],
         "y": [
          0.008688783570300158,
          0.01768520337983887,
          0.029188558085230586,
          0.05955334987593052,
          0.1155443220797978,
          0.17343237173950599,
          0.2023513826792515
         ]
        }
       ],
       "layout": {
        "template": {
         "data": {
          "bar": [
           {
            "error_x": {
             "color": "#2a3f5f"
            },
            "error_y": {
             "color": "#2a3f5f"
            },
            "marker": {
             "line": {
              "color": "white",
              "width": 0.5
             },
             "pattern": {
              "fillmode": "overlay",
              "size": 10,
              "solidity": 0.2
             }
            },
            "type": "bar"
           }
          ],
          "barpolar": [
           {
            "marker": {
             "line": {
              "color": "white",
              "width": 0.5
             },
             "pattern": {
              "fillmode": "overlay",
              "size": 10,
              "solidity": 0.2
             }
            },
            "type": "barpolar"
           }
          ],
          "carpet": [
           {
            "aaxis": {
             "endlinecolor": "#2a3f5f",
             "gridcolor": "#C8D4E3",
             "linecolor": "#C8D4E3",
             "minorgridcolor": "#C8D4E3",
             "startlinecolor": "#2a3f5f"
            },
            "baxis": {
             "endlinecolor": "#2a3f5f",
             "gridcolor": "#C8D4E3",
             "linecolor": "#C8D4E3",
             "minorgridcolor": "#C8D4E3",
             "startlinecolor": "#2a3f5f"
            },
            "type": "carpet"
           }
          ],
          "choropleth": [
           {
            "colorbar": {
             "outlinewidth": 0,
             "ticks": ""
            },
            "type": "choropleth"
           }
          ],
          "contour": [
           {
            "colorbar": {
             "outlinewidth": 0,
             "ticks": ""
            },
            "colorscale": [
             [
              0,
              "#0d0887"
             ],
             [
              0.1111111111111111,
              "#46039f"
             ],
             [
              0.2222222222222222,
              "#7201a8"
             ],
             [
              0.3333333333333333,
              "#9c179e"
             ],
             [
              0.4444444444444444,
              "#bd3786"
             ],
             [
              0.5555555555555556,
              "#d8576b"
             ],
             [
              0.6666666666666666,
              "#ed7953"
             ],
             [
              0.7777777777777778,
              "#fb9f3a"
             ],
             [
              0.8888888888888888,
              "#fdca26"
             ],
             [
              1,
              "#f0f921"
             ]
            ],
            "type": "contour"
           }
          ],
          "contourcarpet": [
           {
            "colorbar": {
             "outlinewidth": 0,
             "ticks": ""
            },
            "type": "contourcarpet"
           }
          ],
          "heatmap": [
           {
            "colorbar": {
             "outlinewidth": 0,
             "ticks": ""
            },
            "colorscale": [
             [
              0,
              "#0d0887"
             ],
             [
              0.1111111111111111,
              "#46039f"
             ],
             [
              0.2222222222222222,
              "#7201a8"
             ],
             [
              0.3333333333333333,
              "#9c179e"
             ],
             [
              0.4444444444444444,
              "#bd3786"
             ],
             [
              0.5555555555555556,
              "#d8576b"
             ],
             [
              0.6666666666666666,
              "#ed7953"
             ],
             [
              0.7777777777777778,
              "#fb9f3a"
             ],
             [
              0.8888888888888888,
              "#fdca26"
             ],
             [
              1,
              "#f0f921"
             ]
            ],
            "type": "heatmap"
           }
          ],
          "heatmapgl": [
           {
            "colorbar": {
             "outlinewidth": 0,
             "ticks": ""
            },
            "colorscale": [
             [
              0,
              "#0d0887"
             ],
             [
              0.1111111111111111,
              "#46039f"
             ],
             [
              0.2222222222222222,
              "#7201a8"
             ],
             [
              0.3333333333333333,
              "#9c179e"
             ],
             [
              0.4444444444444444,
              "#bd3786"
             ],
             [
              0.5555555555555556,
              "#d8576b"
             ],
             [
              0.6666666666666666,
              "#ed7953"
             ],
             [
              0.7777777777777778,
              "#fb9f3a"
             ],
             [
              0.8888888888888888,
              "#fdca26"
             ],
             [
              1,
              "#f0f921"
             ]
            ],
            "type": "heatmapgl"
           }
          ],
          "histogram": [
           {
            "marker": {
             "pattern": {
              "fillmode": "overlay",
              "size": 10,
              "solidity": 0.2
             }
            },
            "type": "histogram"
           }
          ],
          "histogram2d": [
           {
            "colorbar": {
             "outlinewidth": 0,
             "ticks": ""
            },
            "colorscale": [
             [
              0,
              "#0d0887"
             ],
             [
              0.1111111111111111,
              "#46039f"
             ],
             [
              0.2222222222222222,
              "#7201a8"
             ],
             [
              0.3333333333333333,
              "#9c179e"
             ],
             [
              0.4444444444444444,
              "#bd3786"
             ],
             [
              0.5555555555555556,
              "#d8576b"
             ],
             [
              0.6666666666666666,
              "#ed7953"
             ],
             [
              0.7777777777777778,
              "#fb9f3a"
             ],
             [
              0.8888888888888888,
              "#fdca26"
             ],
             [
              1,
              "#f0f921"
             ]
            ],
            "type": "histogram2d"
           }
          ],
          "histogram2dcontour": [
           {
            "colorbar": {
             "outlinewidth": 0,
             "ticks": ""
            },
            "colorscale": [
             [
              0,
              "#0d0887"
             ],
             [
              0.1111111111111111,
              "#46039f"
             ],
             [
              0.2222222222222222,
              "#7201a8"
             ],
             [
              0.3333333333333333,
              "#9c179e"
             ],
             [
              0.4444444444444444,
              "#bd3786"
             ],
             [
              0.5555555555555556,
              "#d8576b"
             ],
             [
              0.6666666666666666,
              "#ed7953"
             ],
             [
              0.7777777777777778,
              "#fb9f3a"
             ],
             [
              0.8888888888888888,
              "#fdca26"
             ],
             [
              1,
              "#f0f921"
             ]
            ],
            "type": "histogram2dcontour"
           }
          ],
          "mesh3d": [
           {
            "colorbar": {
             "outlinewidth": 0,
             "ticks": ""
            },
            "type": "mesh3d"
           }
          ],
          "parcoords": [
           {
            "line": {
             "colorbar": {
              "outlinewidth": 0,
              "ticks": ""
             }
            },
            "type": "parcoords"
           }
          ],
          "pie": [
           {
            "automargin": true,
            "type": "pie"
           }
          ],
          "scatter": [
           {
            "fillpattern": {
             "fillmode": "overlay",
             "size": 10,
             "solidity": 0.2
            },
            "type": "scatter"
           }
          ],
          "scatter3d": [
           {
            "line": {
             "colorbar": {
              "outlinewidth": 0,
              "ticks": ""
             }
            },
            "marker": {
             "colorbar": {
              "outlinewidth": 0,
              "ticks": ""
             }
            },
            "type": "scatter3d"
           }
          ],
          "scattercarpet": [
           {
            "marker": {
             "colorbar": {
              "outlinewidth": 0,
              "ticks": ""
             }
            },
            "type": "scattercarpet"
           }
          ],
          "scattergeo": [
           {
            "marker": {
             "colorbar": {
              "outlinewidth": 0,
              "ticks": ""
             }
            },
            "type": "scattergeo"
           }
          ],
          "scattergl": [
           {
            "marker": {
             "colorbar": {
              "outlinewidth": 0,
              "ticks": ""
             }
            },
            "type": "scattergl"
           }
          ],
          "scattermapbox": [
           {
            "marker": {
             "colorbar": {
              "outlinewidth": 0,
              "ticks": ""
             }
            },
            "type": "scattermapbox"
           }
          ],
          "scatterpolar": [
           {
            "marker": {
             "colorbar": {
              "outlinewidth": 0,
              "ticks": ""
             }
            },
            "type": "scatterpolar"
           }
          ],
          "scatterpolargl": [
           {
            "marker": {
             "colorbar": {
              "outlinewidth": 0,
              "ticks": ""
             }
            },
            "type": "scatterpolargl"
           }
          ],
          "scatterternary": [
           {
            "marker": {
             "colorbar": {
              "outlinewidth": 0,
              "ticks": ""
             }
            },
            "type": "scatterternary"
           }
          ],
          "surface": [
           {
            "colorbar": {
             "outlinewidth": 0,
             "ticks": ""
            },
            "colorscale": [
             [
              0,
              "#0d0887"
             ],
             [
              0.1111111111111111,
              "#46039f"
             ],
             [
              0.2222222222222222,
              "#7201a8"
             ],
             [
              0.3333333333333333,
              "#9c179e"
             ],
             [
              0.4444444444444444,
              "#bd3786"
             ],
             [
              0.5555555555555556,
              "#d8576b"
             ],
             [
              0.6666666666666666,
              "#ed7953"
             ],
             [
              0.7777777777777778,
              "#fb9f3a"
             ],
             [
              0.8888888888888888,
              "#fdca26"
             ],
             [
              1,
              "#f0f921"
             ]
            ],
            "type": "surface"
           }
          ],
          "table": [
           {
            "cells": {
             "fill": {
              "color": "#EBF0F8"
             },
             "line": {
              "color": "white"
             }
            },
            "header": {
             "fill": {
              "color": "#C8D4E3"
             },
             "line": {
              "color": "white"
             }
            },
            "type": "table"
           }
          ]
         },
         "layout": {
          "annotationdefaults": {
           "arrowcolor": "#2a3f5f",
           "arrowhead": 0,
           "arrowwidth": 1
          },
          "autotypenumbers": "strict",
          "coloraxis": {
           "colorbar": {
            "outlinewidth": 0,
            "ticks": ""
           }
          },
          "colorscale": {
           "diverging": [
            [
             0,
             "#8e0152"
            ],
            [
             0.1,
             "#c51b7d"
            ],
            [
             0.2,
             "#de77ae"
            ],
            [
             0.3,
             "#f1b6da"
            ],
            [
             0.4,
             "#fde0ef"
            ],
            [
             0.5,
             "#f7f7f7"
            ],
            [
             0.6,
             "#e6f5d0"
            ],
            [
             0.7,
             "#b8e186"
            ],
            [
             0.8,
             "#7fbc41"
            ],
            [
             0.9,
             "#4d9221"
            ],
            [
             1,
             "#276419"
            ]
           ],
           "sequential": [
            [
             0,
             "#0d0887"
            ],
            [
             0.1111111111111111,
             "#46039f"
            ],
            [
             0.2222222222222222,
             "#7201a8"
            ],
            [
             0.3333333333333333,
             "#9c179e"
            ],
            [
             0.4444444444444444,
             "#bd3786"
            ],
            [
             0.5555555555555556,
             "#d8576b"
            ],
            [
             0.6666666666666666,
             "#ed7953"
            ],
            [
             0.7777777777777778,
             "#fb9f3a"
            ],
            [
             0.8888888888888888,
             "#fdca26"
            ],
            [
             1,
             "#f0f921"
            ]
           ],
           "sequentialminus": [
            [
             0,
             "#0d0887"
            ],
            [
             0.1111111111111111,
             "#46039f"
            ],
            [
             0.2222222222222222,
             "#7201a8"
            ],
            [
             0.3333333333333333,
             "#9c179e"
            ],
            [
             0.4444444444444444,
             "#bd3786"
            ],
            [
             0.5555555555555556,
             "#d8576b"
            ],
            [
             0.6666666666666666,
             "#ed7953"
            ],
            [
             0.7777777777777778,
             "#fb9f3a"
            ],
            [
             0.8888888888888888,
             "#fdca26"
            ],
            [
             1,
             "#f0f921"
            ]
           ]
          },
          "colorway": [
           "#636efa",
           "#EF553B",
           "#00cc96",
           "#ab63fa",
           "#FFA15A",
           "#19d3f3",
           "#FF6692",
           "#B6E880",
           "#FF97FF",
           "#FECB52"
          ],
          "font": {
           "color": "#2a3f5f"
          },
          "geo": {
           "bgcolor": "white",
           "lakecolor": "white",
           "landcolor": "white",
           "showlakes": true,
           "showland": true,
           "subunitcolor": "#C8D4E3"
          },
          "hoverlabel": {
           "align": "left"
          },
          "hovermode": "closest",
          "mapbox": {
           "style": "light"
          },
          "paper_bgcolor": "white",
          "plot_bgcolor": "white",
          "polar": {
           "angularaxis": {
            "gridcolor": "#EBF0F8",
            "linecolor": "#EBF0F8",
            "ticks": ""
           },
           "bgcolor": "white",
           "radialaxis": {
            "gridcolor": "#EBF0F8",
            "linecolor": "#EBF0F8",
            "ticks": ""
           }
          },
          "scene": {
           "xaxis": {
            "backgroundcolor": "white",
            "gridcolor": "#DFE8F3",
            "gridwidth": 2,
            "linecolor": "#EBF0F8",
            "showbackground": true,
            "ticks": "",
            "zerolinecolor": "#EBF0F8"
           },
           "yaxis": {
            "backgroundcolor": "white",
            "gridcolor": "#DFE8F3",
            "gridwidth": 2,
            "linecolor": "#EBF0F8",
            "showbackground": true,
            "ticks": "",
            "zerolinecolor": "#EBF0F8"
           },
           "zaxis": {
            "backgroundcolor": "white",
            "gridcolor": "#DFE8F3",
            "gridwidth": 2,
            "linecolor": "#EBF0F8",
            "showbackground": true,
            "ticks": "",
            "zerolinecolor": "#EBF0F8"
           }
          },
          "shapedefaults": {
           "line": {
            "color": "#2a3f5f"
           }
          },
          "ternary": {
           "aaxis": {
            "gridcolor": "#DFE8F3",
            "linecolor": "#A2B1C6",
            "ticks": ""
           },
           "baxis": {
            "gridcolor": "#DFE8F3",
            "linecolor": "#A2B1C6",
            "ticks": ""
           },
           "bgcolor": "white",
           "caxis": {
            "gridcolor": "#DFE8F3",
            "linecolor": "#A2B1C6",
            "ticks": ""
           }
          },
          "title": {
           "x": 0.05
          },
          "xaxis": {
           "automargin": true,
           "gridcolor": "#EBF0F8",
           "linecolor": "#EBF0F8",
           "ticks": "",
           "title": {
            "standoff": 15
           },
           "zerolinecolor": "#EBF0F8",
           "zerolinewidth": 2
          },
          "yaxis": {
           "automargin": true,
           "gridcolor": "#EBF0F8",
           "linecolor": "#EBF0F8",
           "ticks": "",
           "title": {
            "standoff": 15
           },
           "zerolinecolor": "#EBF0F8",
           "zerolinewidth": 2
          }
         }
        },
        "xaxis": {
         "title": {
          "text": "Top K Genes"
         }
        },
        "yaxis": {
         "title": {
          "text": "F1 Score"
         }
        }
       }
      }
     },
     "metadata": {},
     "output_type": "display_data"
    },
    {
     "name": "stdout",
     "output_type": "stream",
     "text": [
      "C0009402_Colorectal_Carcinoma\n"
     ]
    },
    {
     "data": {
      "application/vnd.plotly.v1+json": {
       "config": {
        "plotlyServerURL": "https://plot.ly"
       },
       "data": [
        {
         "line": {
          "color": "skyblue",
          "dash": "solid"
         },
         "marker": {
          "symbol": "circle"
         },
         "name": "XGDAG - GNNExplainer",
         "type": "scatter",
         "x": [
          "25",
          "50",
          "100",
          "200",
          "500",
          "750",
          "1000"
         ],
         "y": [
          0.010640993159361541,
          0.02215508559919436,
          0.040278468423669805,
          0.07180980106744299,
          0.1456354590682949,
          0.19777397260273974,
          0.23080048760666397
         ]
        },
        {
         "line": {
          "color": "tomato",
          "dash": "solid"
         },
         "marker": {
          "symbol": "square"
         },
         "name": "XGDAG - GraphSVX",
         "type": "scatter",
         "x": [
          "25",
          "50",
          "100",
          "200",
          "500",
          "750",
          "1000"
         ],
         "y": [
          0.010640993159361541,
          0.021148036253776436,
          0.040775733465937346,
          0.06889859291606017,
          0.14292175486205339,
          0.18792808219178084,
          0.2190166598943519
         ]
        },
        {
         "line": {
          "color": "brown",
          "dash": "solid"
         },
         "marker": {
          "symbol": "cross"
         },
         "name": "NIAPU",
         "type": "scatter",
         "x": [
          "25",
          "50",
          "100",
          "200",
          "500",
          "750",
          "1000"
         ],
         "y": [
          0.007600709399543957,
          0.015105740181268883,
          0.02585778219791149,
          0.05240174672489082,
          0.12663952962460423,
          0.1643835616438356,
          0.20113774888256805
         ]
        },
        {
         "line": {
          "color": "brown",
          "dash": "solid"
         },
         "marker": {
          "symbol": "diamond"
         },
         "name": "DIAMOnD",
         "type": "scatter",
         "x": [
          "25",
          "50",
          "100",
          "200",
          "500",
          "750",
          "1000"
         ],
         "y": [
          0.010134279199391943,
          0.017119838872104734,
          0.030333167578319248,
          0.05628335759340126,
          0.12075983717774763,
          0.17337328767123286,
          0.2064201544087769
         ]
        }
       ],
       "layout": {
        "template": {
         "data": {
          "bar": [
           {
            "error_x": {
             "color": "#2a3f5f"
            },
            "error_y": {
             "color": "#2a3f5f"
            },
            "marker": {
             "line": {
              "color": "white",
              "width": 0.5
             },
             "pattern": {
              "fillmode": "overlay",
              "size": 10,
              "solidity": 0.2
             }
            },
            "type": "bar"
           }
          ],
          "barpolar": [
           {
            "marker": {
             "line": {
              "color": "white",
              "width": 0.5
             },
             "pattern": {
              "fillmode": "overlay",
              "size": 10,
              "solidity": 0.2
             }
            },
            "type": "barpolar"
           }
          ],
          "carpet": [
           {
            "aaxis": {
             "endlinecolor": "#2a3f5f",
             "gridcolor": "#C8D4E3",
             "linecolor": "#C8D4E3",
             "minorgridcolor": "#C8D4E3",
             "startlinecolor": "#2a3f5f"
            },
            "baxis": {
             "endlinecolor": "#2a3f5f",
             "gridcolor": "#C8D4E3",
             "linecolor": "#C8D4E3",
             "minorgridcolor": "#C8D4E3",
             "startlinecolor": "#2a3f5f"
            },
            "type": "carpet"
           }
          ],
          "choropleth": [
           {
            "colorbar": {
             "outlinewidth": 0,
             "ticks": ""
            },
            "type": "choropleth"
           }
          ],
          "contour": [
           {
            "colorbar": {
             "outlinewidth": 0,
             "ticks": ""
            },
            "colorscale": [
             [
              0,
              "#0d0887"
             ],
             [
              0.1111111111111111,
              "#46039f"
             ],
             [
              0.2222222222222222,
              "#7201a8"
             ],
             [
              0.3333333333333333,
              "#9c179e"
             ],
             [
              0.4444444444444444,
              "#bd3786"
             ],
             [
              0.5555555555555556,
              "#d8576b"
             ],
             [
              0.6666666666666666,
              "#ed7953"
             ],
             [
              0.7777777777777778,
              "#fb9f3a"
             ],
             [
              0.8888888888888888,
              "#fdca26"
             ],
             [
              1,
              "#f0f921"
             ]
            ],
            "type": "contour"
           }
          ],
          "contourcarpet": [
           {
            "colorbar": {
             "outlinewidth": 0,
             "ticks": ""
            },
            "type": "contourcarpet"
           }
          ],
          "heatmap": [
           {
            "colorbar": {
             "outlinewidth": 0,
             "ticks": ""
            },
            "colorscale": [
             [
              0,
              "#0d0887"
             ],
             [
              0.1111111111111111,
              "#46039f"
             ],
             [
              0.2222222222222222,
              "#7201a8"
             ],
             [
              0.3333333333333333,
              "#9c179e"
             ],
             [
              0.4444444444444444,
              "#bd3786"
             ],
             [
              0.5555555555555556,
              "#d8576b"
             ],
             [
              0.6666666666666666,
              "#ed7953"
             ],
             [
              0.7777777777777778,
              "#fb9f3a"
             ],
             [
              0.8888888888888888,
              "#fdca26"
             ],
             [
              1,
              "#f0f921"
             ]
            ],
            "type": "heatmap"
           }
          ],
          "heatmapgl": [
           {
            "colorbar": {
             "outlinewidth": 0,
             "ticks": ""
            },
            "colorscale": [
             [
              0,
              "#0d0887"
             ],
             [
              0.1111111111111111,
              "#46039f"
             ],
             [
              0.2222222222222222,
              "#7201a8"
             ],
             [
              0.3333333333333333,
              "#9c179e"
             ],
             [
              0.4444444444444444,
              "#bd3786"
             ],
             [
              0.5555555555555556,
              "#d8576b"
             ],
             [
              0.6666666666666666,
              "#ed7953"
             ],
             [
              0.7777777777777778,
              "#fb9f3a"
             ],
             [
              0.8888888888888888,
              "#fdca26"
             ],
             [
              1,
              "#f0f921"
             ]
            ],
            "type": "heatmapgl"
           }
          ],
          "histogram": [
           {
            "marker": {
             "pattern": {
              "fillmode": "overlay",
              "size": 10,
              "solidity": 0.2
             }
            },
            "type": "histogram"
           }
          ],
          "histogram2d": [
           {
            "colorbar": {
             "outlinewidth": 0,
             "ticks": ""
            },
            "colorscale": [
             [
              0,
              "#0d0887"
             ],
             [
              0.1111111111111111,
              "#46039f"
             ],
             [
              0.2222222222222222,
              "#7201a8"
             ],
             [
              0.3333333333333333,
              "#9c179e"
             ],
             [
              0.4444444444444444,
              "#bd3786"
             ],
             [
              0.5555555555555556,
              "#d8576b"
             ],
             [
              0.6666666666666666,
              "#ed7953"
             ],
             [
              0.7777777777777778,
              "#fb9f3a"
             ],
             [
              0.8888888888888888,
              "#fdca26"
             ],
             [
              1,
              "#f0f921"
             ]
            ],
            "type": "histogram2d"
           }
          ],
          "histogram2dcontour": [
           {
            "colorbar": {
             "outlinewidth": 0,
             "ticks": ""
            },
            "colorscale": [
             [
              0,
              "#0d0887"
             ],
             [
              0.1111111111111111,
              "#46039f"
             ],
             [
              0.2222222222222222,
              "#7201a8"
             ],
             [
              0.3333333333333333,
              "#9c179e"
             ],
             [
              0.4444444444444444,
              "#bd3786"
             ],
             [
              0.5555555555555556,
              "#d8576b"
             ],
             [
              0.6666666666666666,
              "#ed7953"
             ],
             [
              0.7777777777777778,
              "#fb9f3a"
             ],
             [
              0.8888888888888888,
              "#fdca26"
             ],
             [
              1,
              "#f0f921"
             ]
            ],
            "type": "histogram2dcontour"
           }
          ],
          "mesh3d": [
           {
            "colorbar": {
             "outlinewidth": 0,
             "ticks": ""
            },
            "type": "mesh3d"
           }
          ],
          "parcoords": [
           {
            "line": {
             "colorbar": {
              "outlinewidth": 0,
              "ticks": ""
             }
            },
            "type": "parcoords"
           }
          ],
          "pie": [
           {
            "automargin": true,
            "type": "pie"
           }
          ],
          "scatter": [
           {
            "fillpattern": {
             "fillmode": "overlay",
             "size": 10,
             "solidity": 0.2
            },
            "type": "scatter"
           }
          ],
          "scatter3d": [
           {
            "line": {
             "colorbar": {
              "outlinewidth": 0,
              "ticks": ""
             }
            },
            "marker": {
             "colorbar": {
              "outlinewidth": 0,
              "ticks": ""
             }
            },
            "type": "scatter3d"
           }
          ],
          "scattercarpet": [
           {
            "marker": {
             "colorbar": {
              "outlinewidth": 0,
              "ticks": ""
             }
            },
            "type": "scattercarpet"
           }
          ],
          "scattergeo": [
           {
            "marker": {
             "colorbar": {
              "outlinewidth": 0,
              "ticks": ""
             }
            },
            "type": "scattergeo"
           }
          ],
          "scattergl": [
           {
            "marker": {
             "colorbar": {
              "outlinewidth": 0,
              "ticks": ""
             }
            },
            "type": "scattergl"
           }
          ],
          "scattermapbox": [
           {
            "marker": {
             "colorbar": {
              "outlinewidth": 0,
              "ticks": ""
             }
            },
            "type": "scattermapbox"
           }
          ],
          "scatterpolar": [
           {
            "marker": {
             "colorbar": {
              "outlinewidth": 0,
              "ticks": ""
             }
            },
            "type": "scatterpolar"
           }
          ],
          "scatterpolargl": [
           {
            "marker": {
             "colorbar": {
              "outlinewidth": 0,
              "ticks": ""
             }
            },
            "type": "scatterpolargl"
           }
          ],
          "scatterternary": [
           {
            "marker": {
             "colorbar": {
              "outlinewidth": 0,
              "ticks": ""
             }
            },
            "type": "scatterternary"
           }
          ],
          "surface": [
           {
            "colorbar": {
             "outlinewidth": 0,
             "ticks": ""
            },
            "colorscale": [
             [
              0,
              "#0d0887"
             ],
             [
              0.1111111111111111,
              "#46039f"
             ],
             [
              0.2222222222222222,
              "#7201a8"
             ],
             [
              0.3333333333333333,
              "#9c179e"
             ],
             [
              0.4444444444444444,
              "#bd3786"
             ],
             [
              0.5555555555555556,
              "#d8576b"
             ],
             [
              0.6666666666666666,
              "#ed7953"
             ],
             [
              0.7777777777777778,
              "#fb9f3a"
             ],
             [
              0.8888888888888888,
              "#fdca26"
             ],
             [
              1,
              "#f0f921"
             ]
            ],
            "type": "surface"
           }
          ],
          "table": [
           {
            "cells": {
             "fill": {
              "color": "#EBF0F8"
             },
             "line": {
              "color": "white"
             }
            },
            "header": {
             "fill": {
              "color": "#C8D4E3"
             },
             "line": {
              "color": "white"
             }
            },
            "type": "table"
           }
          ]
         },
         "layout": {
          "annotationdefaults": {
           "arrowcolor": "#2a3f5f",
           "arrowhead": 0,
           "arrowwidth": 1
          },
          "autotypenumbers": "strict",
          "coloraxis": {
           "colorbar": {
            "outlinewidth": 0,
            "ticks": ""
           }
          },
          "colorscale": {
           "diverging": [
            [
             0,
             "#8e0152"
            ],
            [
             0.1,
             "#c51b7d"
            ],
            [
             0.2,
             "#de77ae"
            ],
            [
             0.3,
             "#f1b6da"
            ],
            [
             0.4,
             "#fde0ef"
            ],
            [
             0.5,
             "#f7f7f7"
            ],
            [
             0.6,
             "#e6f5d0"
            ],
            [
             0.7,
             "#b8e186"
            ],
            [
             0.8,
             "#7fbc41"
            ],
            [
             0.9,
             "#4d9221"
            ],
            [
             1,
             "#276419"
            ]
           ],
           "sequential": [
            [
             0,
             "#0d0887"
            ],
            [
             0.1111111111111111,
             "#46039f"
            ],
            [
             0.2222222222222222,
             "#7201a8"
            ],
            [
             0.3333333333333333,
             "#9c179e"
            ],
            [
             0.4444444444444444,
             "#bd3786"
            ],
            [
             0.5555555555555556,
             "#d8576b"
            ],
            [
             0.6666666666666666,
             "#ed7953"
            ],
            [
             0.7777777777777778,
             "#fb9f3a"
            ],
            [
             0.8888888888888888,
             "#fdca26"
            ],
            [
             1,
             "#f0f921"
            ]
           ],
           "sequentialminus": [
            [
             0,
             "#0d0887"
            ],
            [
             0.1111111111111111,
             "#46039f"
            ],
            [
             0.2222222222222222,
             "#7201a8"
            ],
            [
             0.3333333333333333,
             "#9c179e"
            ],
            [
             0.4444444444444444,
             "#bd3786"
            ],
            [
             0.5555555555555556,
             "#d8576b"
            ],
            [
             0.6666666666666666,
             "#ed7953"
            ],
            [
             0.7777777777777778,
             "#fb9f3a"
            ],
            [
             0.8888888888888888,
             "#fdca26"
            ],
            [
             1,
             "#f0f921"
            ]
           ]
          },
          "colorway": [
           "#636efa",
           "#EF553B",
           "#00cc96",
           "#ab63fa",
           "#FFA15A",
           "#19d3f3",
           "#FF6692",
           "#B6E880",
           "#FF97FF",
           "#FECB52"
          ],
          "font": {
           "color": "#2a3f5f"
          },
          "geo": {
           "bgcolor": "white",
           "lakecolor": "white",
           "landcolor": "white",
           "showlakes": true,
           "showland": true,
           "subunitcolor": "#C8D4E3"
          },
          "hoverlabel": {
           "align": "left"
          },
          "hovermode": "closest",
          "mapbox": {
           "style": "light"
          },
          "paper_bgcolor": "white",
          "plot_bgcolor": "white",
          "polar": {
           "angularaxis": {
            "gridcolor": "#EBF0F8",
            "linecolor": "#EBF0F8",
            "ticks": ""
           },
           "bgcolor": "white",
           "radialaxis": {
            "gridcolor": "#EBF0F8",
            "linecolor": "#EBF0F8",
            "ticks": ""
           }
          },
          "scene": {
           "xaxis": {
            "backgroundcolor": "white",
            "gridcolor": "#DFE8F3",
            "gridwidth": 2,
            "linecolor": "#EBF0F8",
            "showbackground": true,
            "ticks": "",
            "zerolinecolor": "#EBF0F8"
           },
           "yaxis": {
            "backgroundcolor": "white",
            "gridcolor": "#DFE8F3",
            "gridwidth": 2,
            "linecolor": "#EBF0F8",
            "showbackground": true,
            "ticks": "",
            "zerolinecolor": "#EBF0F8"
           },
           "zaxis": {
            "backgroundcolor": "white",
            "gridcolor": "#DFE8F3",
            "gridwidth": 2,
            "linecolor": "#EBF0F8",
            "showbackground": true,
            "ticks": "",
            "zerolinecolor": "#EBF0F8"
           }
          },
          "shapedefaults": {
           "line": {
            "color": "#2a3f5f"
           }
          },
          "ternary": {
           "aaxis": {
            "gridcolor": "#DFE8F3",
            "linecolor": "#A2B1C6",
            "ticks": ""
           },
           "baxis": {
            "gridcolor": "#DFE8F3",
            "linecolor": "#A2B1C6",
            "ticks": ""
           },
           "bgcolor": "white",
           "caxis": {
            "gridcolor": "#DFE8F3",
            "linecolor": "#A2B1C6",
            "ticks": ""
           }
          },
          "title": {
           "x": 0.05
          },
          "xaxis": {
           "automargin": true,
           "gridcolor": "#EBF0F8",
           "linecolor": "#EBF0F8",
           "ticks": "",
           "title": {
            "standoff": 15
           },
           "zerolinecolor": "#EBF0F8",
           "zerolinewidth": 2
          },
          "yaxis": {
           "automargin": true,
           "gridcolor": "#EBF0F8",
           "linecolor": "#EBF0F8",
           "ticks": "",
           "title": {
            "standoff": 15
           },
           "zerolinecolor": "#EBF0F8",
           "zerolinewidth": 2
          }
         }
        },
        "xaxis": {
         "title": {
          "text": "Top K Genes"
         }
        },
        "yaxis": {
         "title": {
          "text": "F1 Score"
         }
        }
       }
      }
     },
     "metadata": {},
     "output_type": "display_data"
    },
    {
     "name": "stdout",
     "output_type": "stream",
     "text": [
      "C0023893_Liver_Cirrhosis_Experimental\n"
     ]
    },
    {
     "data": {
      "application/vnd.plotly.v1+json": {
       "config": {
        "plotlyServerURL": "https://plot.ly"
       },
       "data": [
        {
         "line": {
          "color": "skyblue",
          "dash": "solid"
         },
         "marker": {
          "symbol": "circle"
         },
         "name": "XGDAG - GNNExplainer",
         "type": "scatter",
         "x": [
          "25",
          "50",
          "100",
          "200",
          "500",
          "750",
          "1000"
         ],
         "y": [
          0.008010680907877168,
          0.015503875968992246,
          0.021844660194174758,
          0.02813852813852814,
          0.06045751633986929,
          0.07815771109560361,
          0.07815771109560361
         ]
        },
        {
         "line": {
          "color": "tomato",
          "dash": "solid"
         },
         "marker": {
          "symbol": "square"
         },
         "name": "XGDAG - GraphSVX",
         "type": "scatter",
         "x": [
          "25",
          "50",
          "100",
          "200",
          "500",
          "750",
          "1000"
         ],
         "y": [
          0.010680907877169559,
          0.0103359173126615,
          0.019417475728155338,
          0.04329004329004328,
          0.06862745098039215,
          0.07826694619147449,
          0.07826694619147449
         ]
        },
        {
         "line": {
          "color": "brown",
          "dash": "solid"
         },
         "marker": {
          "symbol": "cross"
         },
         "name": "NIAPU",
         "type": "scatter",
         "x": [
          "25",
          "50",
          "100",
          "200",
          "500",
          "750",
          "1000"
         ],
         "y": [
          0.0026702269692923898,
          0.007751937984496123,
          0.014563106796116502,
          0.01948051948051948,
          0.06209150326797385,
          0.07191316146540026,
          0.08120649651972159
         ]
        },
        {
         "line": {
          "color": "brown",
          "dash": "solid"
         },
         "marker": {
          "symbol": "diamond"
         },
         "name": "DIAMOnD",
         "type": "scatter",
         "x": [
          "25",
          "50",
          "100",
          "200",
          "500",
          "750",
          "1000"
         ],
         "y": [
          0.010680907877169559,
          0.020671834625323,
          0.021844660194174758,
          0.02164502164502164,
          0.0392156862745098,
          0.04477611940298507,
          0.048010107391029684
         ]
        }
       ],
       "layout": {
        "template": {
         "data": {
          "bar": [
           {
            "error_x": {
             "color": "#2a3f5f"
            },
            "error_y": {
             "color": "#2a3f5f"
            },
            "marker": {
             "line": {
              "color": "white",
              "width": 0.5
             },
             "pattern": {
              "fillmode": "overlay",
              "size": 10,
              "solidity": 0.2
             }
            },
            "type": "bar"
           }
          ],
          "barpolar": [
           {
            "marker": {
             "line": {
              "color": "white",
              "width": 0.5
             },
             "pattern": {
              "fillmode": "overlay",
              "size": 10,
              "solidity": 0.2
             }
            },
            "type": "barpolar"
           }
          ],
          "carpet": [
           {
            "aaxis": {
             "endlinecolor": "#2a3f5f",
             "gridcolor": "#C8D4E3",
             "linecolor": "#C8D4E3",
             "minorgridcolor": "#C8D4E3",
             "startlinecolor": "#2a3f5f"
            },
            "baxis": {
             "endlinecolor": "#2a3f5f",
             "gridcolor": "#C8D4E3",
             "linecolor": "#C8D4E3",
             "minorgridcolor": "#C8D4E3",
             "startlinecolor": "#2a3f5f"
            },
            "type": "carpet"
           }
          ],
          "choropleth": [
           {
            "colorbar": {
             "outlinewidth": 0,
             "ticks": ""
            },
            "type": "choropleth"
           }
          ],
          "contour": [
           {
            "colorbar": {
             "outlinewidth": 0,
             "ticks": ""
            },
            "colorscale": [
             [
              0,
              "#0d0887"
             ],
             [
              0.1111111111111111,
              "#46039f"
             ],
             [
              0.2222222222222222,
              "#7201a8"
             ],
             [
              0.3333333333333333,
              "#9c179e"
             ],
             [
              0.4444444444444444,
              "#bd3786"
             ],
             [
              0.5555555555555556,
              "#d8576b"
             ],
             [
              0.6666666666666666,
              "#ed7953"
             ],
             [
              0.7777777777777778,
              "#fb9f3a"
             ],
             [
              0.8888888888888888,
              "#fdca26"
             ],
             [
              1,
              "#f0f921"
             ]
            ],
            "type": "contour"
           }
          ],
          "contourcarpet": [
           {
            "colorbar": {
             "outlinewidth": 0,
             "ticks": ""
            },
            "type": "contourcarpet"
           }
          ],
          "heatmap": [
           {
            "colorbar": {
             "outlinewidth": 0,
             "ticks": ""
            },
            "colorscale": [
             [
              0,
              "#0d0887"
             ],
             [
              0.1111111111111111,
              "#46039f"
             ],
             [
              0.2222222222222222,
              "#7201a8"
             ],
             [
              0.3333333333333333,
              "#9c179e"
             ],
             [
              0.4444444444444444,
              "#bd3786"
             ],
             [
              0.5555555555555556,
              "#d8576b"
             ],
             [
              0.6666666666666666,
              "#ed7953"
             ],
             [
              0.7777777777777778,
              "#fb9f3a"
             ],
             [
              0.8888888888888888,
              "#fdca26"
             ],
             [
              1,
              "#f0f921"
             ]
            ],
            "type": "heatmap"
           }
          ],
          "heatmapgl": [
           {
            "colorbar": {
             "outlinewidth": 0,
             "ticks": ""
            },
            "colorscale": [
             [
              0,
              "#0d0887"
             ],
             [
              0.1111111111111111,
              "#46039f"
             ],
             [
              0.2222222222222222,
              "#7201a8"
             ],
             [
              0.3333333333333333,
              "#9c179e"
             ],
             [
              0.4444444444444444,
              "#bd3786"
             ],
             [
              0.5555555555555556,
              "#d8576b"
             ],
             [
              0.6666666666666666,
              "#ed7953"
             ],
             [
              0.7777777777777778,
              "#fb9f3a"
             ],
             [
              0.8888888888888888,
              "#fdca26"
             ],
             [
              1,
              "#f0f921"
             ]
            ],
            "type": "heatmapgl"
           }
          ],
          "histogram": [
           {
            "marker": {
             "pattern": {
              "fillmode": "overlay",
              "size": 10,
              "solidity": 0.2
             }
            },
            "type": "histogram"
           }
          ],
          "histogram2d": [
           {
            "colorbar": {
             "outlinewidth": 0,
             "ticks": ""
            },
            "colorscale": [
             [
              0,
              "#0d0887"
             ],
             [
              0.1111111111111111,
              "#46039f"
             ],
             [
              0.2222222222222222,
              "#7201a8"
             ],
             [
              0.3333333333333333,
              "#9c179e"
             ],
             [
              0.4444444444444444,
              "#bd3786"
             ],
             [
              0.5555555555555556,
              "#d8576b"
             ],
             [
              0.6666666666666666,
              "#ed7953"
             ],
             [
              0.7777777777777778,
              "#fb9f3a"
             ],
             [
              0.8888888888888888,
              "#fdca26"
             ],
             [
              1,
              "#f0f921"
             ]
            ],
            "type": "histogram2d"
           }
          ],
          "histogram2dcontour": [
           {
            "colorbar": {
             "outlinewidth": 0,
             "ticks": ""
            },
            "colorscale": [
             [
              0,
              "#0d0887"
             ],
             [
              0.1111111111111111,
              "#46039f"
             ],
             [
              0.2222222222222222,
              "#7201a8"
             ],
             [
              0.3333333333333333,
              "#9c179e"
             ],
             [
              0.4444444444444444,
              "#bd3786"
             ],
             [
              0.5555555555555556,
              "#d8576b"
             ],
             [
              0.6666666666666666,
              "#ed7953"
             ],
             [
              0.7777777777777778,
              "#fb9f3a"
             ],
             [
              0.8888888888888888,
              "#fdca26"
             ],
             [
              1,
              "#f0f921"
             ]
            ],
            "type": "histogram2dcontour"
           }
          ],
          "mesh3d": [
           {
            "colorbar": {
             "outlinewidth": 0,
             "ticks": ""
            },
            "type": "mesh3d"
           }
          ],
          "parcoords": [
           {
            "line": {
             "colorbar": {
              "outlinewidth": 0,
              "ticks": ""
             }
            },
            "type": "parcoords"
           }
          ],
          "pie": [
           {
            "automargin": true,
            "type": "pie"
           }
          ],
          "scatter": [
           {
            "fillpattern": {
             "fillmode": "overlay",
             "size": 10,
             "solidity": 0.2
            },
            "type": "scatter"
           }
          ],
          "scatter3d": [
           {
            "line": {
             "colorbar": {
              "outlinewidth": 0,
              "ticks": ""
             }
            },
            "marker": {
             "colorbar": {
              "outlinewidth": 0,
              "ticks": ""
             }
            },
            "type": "scatter3d"
           }
          ],
          "scattercarpet": [
           {
            "marker": {
             "colorbar": {
              "outlinewidth": 0,
              "ticks": ""
             }
            },
            "type": "scattercarpet"
           }
          ],
          "scattergeo": [
           {
            "marker": {
             "colorbar": {
              "outlinewidth": 0,
              "ticks": ""
             }
            },
            "type": "scattergeo"
           }
          ],
          "scattergl": [
           {
            "marker": {
             "colorbar": {
              "outlinewidth": 0,
              "ticks": ""
             }
            },
            "type": "scattergl"
           }
          ],
          "scattermapbox": [
           {
            "marker": {
             "colorbar": {
              "outlinewidth": 0,
              "ticks": ""
             }
            },
            "type": "scattermapbox"
           }
          ],
          "scatterpolar": [
           {
            "marker": {
             "colorbar": {
              "outlinewidth": 0,
              "ticks": ""
             }
            },
            "type": "scatterpolar"
           }
          ],
          "scatterpolargl": [
           {
            "marker": {
             "colorbar": {
              "outlinewidth": 0,
              "ticks": ""
             }
            },
            "type": "scatterpolargl"
           }
          ],
          "scatterternary": [
           {
            "marker": {
             "colorbar": {
              "outlinewidth": 0,
              "ticks": ""
             }
            },
            "type": "scatterternary"
           }
          ],
          "surface": [
           {
            "colorbar": {
             "outlinewidth": 0,
             "ticks": ""
            },
            "colorscale": [
             [
              0,
              "#0d0887"
             ],
             [
              0.1111111111111111,
              "#46039f"
             ],
             [
              0.2222222222222222,
              "#7201a8"
             ],
             [
              0.3333333333333333,
              "#9c179e"
             ],
             [
              0.4444444444444444,
              "#bd3786"
             ],
             [
              0.5555555555555556,
              "#d8576b"
             ],
             [
              0.6666666666666666,
              "#ed7953"
             ],
             [
              0.7777777777777778,
              "#fb9f3a"
             ],
             [
              0.8888888888888888,
              "#fdca26"
             ],
             [
              1,
              "#f0f921"
             ]
            ],
            "type": "surface"
           }
          ],
          "table": [
           {
            "cells": {
             "fill": {
              "color": "#EBF0F8"
             },
             "line": {
              "color": "white"
             }
            },
            "header": {
             "fill": {
              "color": "#C8D4E3"
             },
             "line": {
              "color": "white"
             }
            },
            "type": "table"
           }
          ]
         },
         "layout": {
          "annotationdefaults": {
           "arrowcolor": "#2a3f5f",
           "arrowhead": 0,
           "arrowwidth": 1
          },
          "autotypenumbers": "strict",
          "coloraxis": {
           "colorbar": {
            "outlinewidth": 0,
            "ticks": ""
           }
          },
          "colorscale": {
           "diverging": [
            [
             0,
             "#8e0152"
            ],
            [
             0.1,
             "#c51b7d"
            ],
            [
             0.2,
             "#de77ae"
            ],
            [
             0.3,
             "#f1b6da"
            ],
            [
             0.4,
             "#fde0ef"
            ],
            [
             0.5,
             "#f7f7f7"
            ],
            [
             0.6,
             "#e6f5d0"
            ],
            [
             0.7,
             "#b8e186"
            ],
            [
             0.8,
             "#7fbc41"
            ],
            [
             0.9,
             "#4d9221"
            ],
            [
             1,
             "#276419"
            ]
           ],
           "sequential": [
            [
             0,
             "#0d0887"
            ],
            [
             0.1111111111111111,
             "#46039f"
            ],
            [
             0.2222222222222222,
             "#7201a8"
            ],
            [
             0.3333333333333333,
             "#9c179e"
            ],
            [
             0.4444444444444444,
             "#bd3786"
            ],
            [
             0.5555555555555556,
             "#d8576b"
            ],
            [
             0.6666666666666666,
             "#ed7953"
            ],
            [
             0.7777777777777778,
             "#fb9f3a"
            ],
            [
             0.8888888888888888,
             "#fdca26"
            ],
            [
             1,
             "#f0f921"
            ]
           ],
           "sequentialminus": [
            [
             0,
             "#0d0887"
            ],
            [
             0.1111111111111111,
             "#46039f"
            ],
            [
             0.2222222222222222,
             "#7201a8"
            ],
            [
             0.3333333333333333,
             "#9c179e"
            ],
            [
             0.4444444444444444,
             "#bd3786"
            ],
            [
             0.5555555555555556,
             "#d8576b"
            ],
            [
             0.6666666666666666,
             "#ed7953"
            ],
            [
             0.7777777777777778,
             "#fb9f3a"
            ],
            [
             0.8888888888888888,
             "#fdca26"
            ],
            [
             1,
             "#f0f921"
            ]
           ]
          },
          "colorway": [
           "#636efa",
           "#EF553B",
           "#00cc96",
           "#ab63fa",
           "#FFA15A",
           "#19d3f3",
           "#FF6692",
           "#B6E880",
           "#FF97FF",
           "#FECB52"
          ],
          "font": {
           "color": "#2a3f5f"
          },
          "geo": {
           "bgcolor": "white",
           "lakecolor": "white",
           "landcolor": "white",
           "showlakes": true,
           "showland": true,
           "subunitcolor": "#C8D4E3"
          },
          "hoverlabel": {
           "align": "left"
          },
          "hovermode": "closest",
          "mapbox": {
           "style": "light"
          },
          "paper_bgcolor": "white",
          "plot_bgcolor": "white",
          "polar": {
           "angularaxis": {
            "gridcolor": "#EBF0F8",
            "linecolor": "#EBF0F8",
            "ticks": ""
           },
           "bgcolor": "white",
           "radialaxis": {
            "gridcolor": "#EBF0F8",
            "linecolor": "#EBF0F8",
            "ticks": ""
           }
          },
          "scene": {
           "xaxis": {
            "backgroundcolor": "white",
            "gridcolor": "#DFE8F3",
            "gridwidth": 2,
            "linecolor": "#EBF0F8",
            "showbackground": true,
            "ticks": "",
            "zerolinecolor": "#EBF0F8"
           },
           "yaxis": {
            "backgroundcolor": "white",
            "gridcolor": "#DFE8F3",
            "gridwidth": 2,
            "linecolor": "#EBF0F8",
            "showbackground": true,
            "ticks": "",
            "zerolinecolor": "#EBF0F8"
           },
           "zaxis": {
            "backgroundcolor": "white",
            "gridcolor": "#DFE8F3",
            "gridwidth": 2,
            "linecolor": "#EBF0F8",
            "showbackground": true,
            "ticks": "",
            "zerolinecolor": "#EBF0F8"
           }
          },
          "shapedefaults": {
           "line": {
            "color": "#2a3f5f"
           }
          },
          "ternary": {
           "aaxis": {
            "gridcolor": "#DFE8F3",
            "linecolor": "#A2B1C6",
            "ticks": ""
           },
           "baxis": {
            "gridcolor": "#DFE8F3",
            "linecolor": "#A2B1C6",
            "ticks": ""
           },
           "bgcolor": "white",
           "caxis": {
            "gridcolor": "#DFE8F3",
            "linecolor": "#A2B1C6",
            "ticks": ""
           }
          },
          "title": {
           "x": 0.05
          },
          "xaxis": {
           "automargin": true,
           "gridcolor": "#EBF0F8",
           "linecolor": "#EBF0F8",
           "ticks": "",
           "title": {
            "standoff": 15
           },
           "zerolinecolor": "#EBF0F8",
           "zerolinewidth": 2
          },
          "yaxis": {
           "automargin": true,
           "gridcolor": "#EBF0F8",
           "linecolor": "#EBF0F8",
           "ticks": "",
           "title": {
            "standoff": 15
           },
           "zerolinecolor": "#EBF0F8",
           "zerolinewidth": 2
          }
         }
        },
        "xaxis": {
         "title": {
          "text": "Top K Genes"
         }
        },
        "yaxis": {
         "title": {
          "text": "F1 Score"
         }
        }
       }
      }
     },
     "metadata": {},
     "output_type": "display_data"
    }
   ],
   "source": [
    "# LINEPLOTS\n",
    "format = 'eps'\n",
    "metric = 'F1'\n",
    "\n",
    "metric_name_d = {\n",
    "    'F1': 'F1 Score',\n",
    "    'P': 'Precision',\n",
    "    'R': 'Recall'\n",
    "}\n",
    "\n",
    "colors  = ['skyblue', 'tomato', 'brown', 'orange', 'green', 'seagreen']\n",
    "markers = ['circle', 'square', 'cross', 'diamond', 'x', 'triangle-up', 'triangle-down', 'star']\n",
    "styles \t= ['solid', 'dot', 'dash', 'longdash', 'dashdot', 'longdashdot']\n",
    "\n",
    "for DISEASE_NAME in DISEASE_NAMES:\n",
    "    # data = []\n",
    "    print(DISEASE_NAME)\n",
    "\n",
    "    fig = go.Figure()\n",
    "\n",
    "    marker_idx  = 0\n",
    "    color_idx   = 0\n",
    "    for METHOD in COMPARE_METHODS:\n",
    "        fig.add_trace(go.Scatter(\n",
    "            y = disease_method_metric_d[DISEASE_NAME][METHOD][metric],\n",
    "            x = [str(x) for x in ratios_to_validate],\n",
    "            name = METHOD,\n",
    "            line = dict(\n",
    "                color = colors[color_idx],\n",
    "                dash = 'solid'\n",
    "            ),\n",
    "            marker = dict(\n",
    "                symbol = markers[marker_idx]\n",
    "            )\n",
    "        ))\n",
    "        \n",
    "        if 'XGDAG' in METHOD: color_idx += 1\n",
    "        marker_idx  += 1\n",
    "        \n",
    "    fig.update_layout(xaxis_title='Top K Genes',\n",
    "                   yaxis_title=metric_name_d[metric],\n",
    "                   template='plotly_white')\n",
    "                   \n",
    "    fig.show()\n",
    "    # uncomment to save images\n",
    "    # pio.write_image(fig, 'Images/XAI/'+DISEASE_NAME+'_'+metric+'.'+format, scale=1)"
   ]
  },
  {
   "attachments": {},
   "cell_type": "markdown",
   "metadata": {},
   "source": [
    "## Save Dictionary"
   ]
  },
  {
   "cell_type": "code",
   "execution_count": null,
   "metadata": {},
   "outputs": [],
   "source": [
    "# Save dictionary of metrics using Pickle\n",
    "with open('diamond_disease_method_metrics.pickle', 'wb') as fout:\n",
    "    pickle.dump(disease_method_metric_d, fout, protocol=pickle.HIGHEST_PROTOCOL)"
   ]
  }
 ],
 "metadata": {
  "kernelspec": {
   "display_name": "base",
   "language": "python",
   "name": "python3"
  },
  "language_info": {
   "codemirror_mode": {
    "name": "ipython",
    "version": 3
   },
   "file_extension": ".py",
   "mimetype": "text/x-python",
   "name": "python",
   "nbconvert_exporter": "python",
   "pygments_lexer": "ipython3",
   "version": "3.9.10"
  },
  "orig_nbformat": 4
 },
 "nbformat": 4,
 "nbformat_minor": 2
}
