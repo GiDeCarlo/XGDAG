{
 "cells": [
  {
   "cell_type": "markdown",
   "metadata": {},
   "source": [
    "### Packets"
   ]
  },
  {
   "cell_type": "code",
   "execution_count": 2,
   "metadata": {},
   "outputs": [
    {
     "data": {
      "text/plain": [
       "'cuda'"
      ]
     },
     "execution_count": 2,
     "metadata": {},
     "output_type": "execute_result"
    }
   ],
   "source": [
    "from GraphSageModel import GNN7L_Sage\n",
    "from GNNTrain import predict_from_saved_model\n",
    "from CreateDataset import get_dataset_from_graph\n",
    "from Paths import PATH_TO_GRAPHS, PATH_TO_MODELS, PATH_TO_RANKINGS\n",
    "from GDARanking import get_ranking\n",
    "\n",
    "import heapq\n",
    "import pandas as pd\n",
    "import networkx as nx\n",
    "import matplotlib.pyplot as plt\n",
    "from tqdm.notebook import tqdm\n",
    "\n",
    "import torch\n",
    "import torch_geometric\n",
    "from torch_geometric.nn.models import GNNExplainer\n",
    "\n",
    "torch.manual_seed(42)\n",
    "\n",
    "device = 'cuda' if torch.cuda.is_available() else 'cpu'\n",
    "device"
   ]
  },
  {
   "cell_type": "markdown",
   "metadata": {},
   "source": [
    "### Get number of best positive genes in explanations"
   ]
  },
  {
   "cell_type": "code",
   "execution_count": 4,
   "metadata": {},
   "outputs": [
    {
     "name": "stdout",
     "output_type": "stream",
     "text": [
      "[+] Reading graph...ok\n",
      "[+] Creating dataset...ok\n",
      "[i] Elapsed time: 36.933\n",
      "[i] # of predicted positive genes in test mask: 153\n",
      "[i] # of predicted overall likely positive genes: 4729\n"
     ]
    },
    {
     "data": {
      "application/vnd.jupyter.widget-view+json": {
       "model_id": "7dc22a2919dc4c0d8805a5052e9fa60f",
       "version_major": 2,
       "version_minor": 0
      },
      "text/plain": [
       "  0%|          | 0/10 [00:00<?, ?it/s]"
      ]
     },
     "metadata": {},
     "output_type": "display_data"
    },
    {
     "name": "stdout",
     "output_type": "stream",
     "text": [
      "# of genes found in the extended dataset for disease C0006142 : 84\n",
      "[i] # of predicted positive genes in test mask: 153\n",
      "[i] # of predicted overall likely positive genes: 4729\n"
     ]
    },
    {
     "data": {
      "application/vnd.jupyter.widget-view+json": {
       "model_id": "5216c017ac94493eb7822d0962190cf5",
       "version_major": 2,
       "version_minor": 0
      },
      "text/plain": [
       "  0%|          | 0/20 [00:00<?, ?it/s]"
      ]
     },
     "metadata": {},
     "output_type": "display_data"
    },
    {
     "name": "stdout",
     "output_type": "stream",
     "text": [
      "# of genes found in the extended dataset for disease C0006142 : 79\n",
      "[i] # of predicted positive genes in test mask: 153\n",
      "[i] # of predicted overall likely positive genes: 4729\n"
     ]
    },
    {
     "data": {
      "application/vnd.jupyter.widget-view+json": {
       "model_id": "c6f4271231284350a28a12e1c09aba6c",
       "version_major": 2,
       "version_minor": 0
      },
      "text/plain": [
       "  0%|          | 0/30 [00:00<?, ?it/s]"
      ]
     },
     "metadata": {},
     "output_type": "display_data"
    },
    {
     "name": "stdout",
     "output_type": "stream",
     "text": [
      "# of genes found in the extended dataset for disease C0006142 : 79\n",
      "[i] # of predicted positive genes in test mask: 153\n",
      "[i] # of predicted overall likely positive genes: 4729\n"
     ]
    },
    {
     "data": {
      "application/vnd.jupyter.widget-view+json": {
       "model_id": "ea178626e3bf494583e65c6d34fab069",
       "version_major": 2,
       "version_minor": 0
      },
      "text/plain": [
       "  0%|          | 0/40 [00:00<?, ?it/s]"
      ]
     },
     "metadata": {},
     "output_type": "display_data"
    },
    {
     "name": "stdout",
     "output_type": "stream",
     "text": [
      "# of genes found in the extended dataset for disease C0006142 : 75\n",
      "[i] # of predicted positive genes in test mask: 153\n",
      "[i] # of predicted overall likely positive genes: 4729\n"
     ]
    },
    {
     "data": {
      "application/vnd.jupyter.widget-view+json": {
       "model_id": "2823671f63bf42eca12b87c0c741bc6c",
       "version_major": 2,
       "version_minor": 0
      },
      "text/plain": [
       "  0%|          | 0/50 [00:00<?, ?it/s]"
      ]
     },
     "metadata": {},
     "output_type": "display_data"
    },
    {
     "name": "stdout",
     "output_type": "stream",
     "text": [
      "# of genes found in the extended dataset for disease C0006142 : 78\n",
      "[i] # of predicted positive genes in test mask: 153\n",
      "[i] # of predicted overall likely positive genes: 4729\n"
     ]
    },
    {
     "data": {
      "application/vnd.jupyter.widget-view+json": {
       "model_id": "f39fea271c6c480abe6a582e192386b9",
       "version_major": 2,
       "version_minor": 0
      },
      "text/plain": [
       "  0%|          | 0/60 [00:00<?, ?it/s]"
      ]
     },
     "metadata": {},
     "output_type": "display_data"
    },
    {
     "name": "stdout",
     "output_type": "stream",
     "text": [
      "# of genes found in the extended dataset for disease C0006142 : 80\n",
      "[i] # of predicted positive genes in test mask: 153\n",
      "[i] # of predicted overall likely positive genes: 4729\n"
     ]
    },
    {
     "data": {
      "application/vnd.jupyter.widget-view+json": {
       "model_id": "7f16ab66451c47ae9a8829e9da8a463c",
       "version_major": 2,
       "version_minor": 0
      },
      "text/plain": [
       "  0%|          | 0/70 [00:00<?, ?it/s]"
      ]
     },
     "metadata": {},
     "output_type": "display_data"
    },
    {
     "name": "stdout",
     "output_type": "stream",
     "text": [
      "# of genes found in the extended dataset for disease C0006142 : 78\n",
      "[i] # of predicted positive genes in test mask: 153\n",
      "[i] # of predicted overall likely positive genes: 4729\n"
     ]
    },
    {
     "data": {
      "application/vnd.jupyter.widget-view+json": {
       "model_id": "cbeaa18a058c4475b4e23a61d427d246",
       "version_major": 2,
       "version_minor": 0
      },
      "text/plain": [
       "  0%|          | 0/80 [00:00<?, ?it/s]"
      ]
     },
     "metadata": {},
     "output_type": "display_data"
    },
    {
     "name": "stdout",
     "output_type": "stream",
     "text": [
      "# of genes found in the extended dataset for disease C0006142 : 77\n",
      "[i] # of predicted positive genes in test mask: 153\n",
      "[i] # of predicted overall likely positive genes: 4729\n"
     ]
    },
    {
     "data": {
      "application/vnd.jupyter.widget-view+json": {
       "model_id": "9ed8ad9c8dfa4a5b967d6366994c2d8d",
       "version_major": 2,
       "version_minor": 0
      },
      "text/plain": [
       "  0%|          | 0/90 [00:00<?, ?it/s]"
      ]
     },
     "metadata": {},
     "output_type": "display_data"
    },
    {
     "name": "stdout",
     "output_type": "stream",
     "text": [
      "# of genes found in the extended dataset for disease C0006142 : 80\n",
      "[i] # of predicted positive genes in test mask: 153\n",
      "[i] # of predicted overall likely positive genes: 4729\n"
     ]
    },
    {
     "data": {
      "application/vnd.jupyter.widget-view+json": {
       "model_id": "63bddd84698343f89cc40d867cb2abd7",
       "version_major": 2,
       "version_minor": 0
      },
      "text/plain": [
       "  0%|          | 0/100 [00:00<?, ?it/s]"
      ]
     },
     "metadata": {},
     "output_type": "display_data"
    },
    {
     "name": "stdout",
     "output_type": "stream",
     "text": [
      "# of genes found in the extended dataset for disease C0006142 : 74\n",
      "[i] # of predicted positive genes in test mask: 153\n",
      "[i] # of predicted overall likely positive genes: 4729\n"
     ]
    },
    {
     "data": {
      "application/vnd.jupyter.widget-view+json": {
       "model_id": "8131712e45bf453bb3c7c17cad4dab0d",
       "version_major": 2,
       "version_minor": 0
      },
      "text/plain": [
       "  0%|          | 0/110 [00:00<?, ?it/s]"
      ]
     },
     "metadata": {},
     "output_type": "display_data"
    },
    {
     "name": "stdout",
     "output_type": "stream",
     "text": [
      "# of genes found in the extended dataset for disease C0006142 : 75\n",
      "[i] # of predicted positive genes in test mask: 153\n",
      "[i] # of predicted overall likely positive genes: 4729\n"
     ]
    },
    {
     "data": {
      "application/vnd.jupyter.widget-view+json": {
       "model_id": "a3390b99794e45a48d0e400c4d4ff8e4",
       "version_major": 2,
       "version_minor": 0
      },
      "text/plain": [
       "  0%|          | 0/120 [00:00<?, ?it/s]"
      ]
     },
     "metadata": {},
     "output_type": "display_data"
    },
    {
     "name": "stdout",
     "output_type": "stream",
     "text": [
      "# of genes found in the extended dataset for disease C0006142 : 77\n",
      "[i] # of predicted positive genes in test mask: 153\n",
      "[i] # of predicted overall likely positive genes: 4729\n"
     ]
    },
    {
     "data": {
      "application/vnd.jupyter.widget-view+json": {
       "model_id": "b8aedbfa5a2048a1aa1f132d8944b811",
       "version_major": 2,
       "version_minor": 0
      },
      "text/plain": [
       "  0%|          | 0/130 [00:00<?, ?it/s]"
      ]
     },
     "metadata": {},
     "output_type": "display_data"
    },
    {
     "name": "stdout",
     "output_type": "stream",
     "text": [
      "# of genes found in the extended dataset for disease C0006142 : 76\n",
      "[i] # of predicted positive genes in test mask: 153\n",
      "[i] # of predicted overall likely positive genes: 4729\n"
     ]
    },
    {
     "data": {
      "application/vnd.jupyter.widget-view+json": {
       "model_id": "9251f37a91d24c2b95478e07c35ac4ca",
       "version_major": 2,
       "version_minor": 0
      },
      "text/plain": [
       "  0%|          | 0/140 [00:00<?, ?it/s]"
      ]
     },
     "metadata": {},
     "output_type": "display_data"
    },
    {
     "name": "stdout",
     "output_type": "stream",
     "text": [
      "# of genes found in the extended dataset for disease C0006142 : 76\n",
      "[i] # of predicted positive genes in test mask: 153\n",
      "[i] # of predicted overall likely positive genes: 4729\n"
     ]
    },
    {
     "data": {
      "application/vnd.jupyter.widget-view+json": {
       "model_id": "cf2d0219a5e14d149f2410183e97eff4",
       "version_major": 2,
       "version_minor": 0
      },
      "text/plain": [
       "  0%|          | 0/153 [00:00<?, ?it/s]"
      ]
     },
     "metadata": {},
     "output_type": "display_data"
    },
    {
     "name": "stdout",
     "output_type": "stream",
     "text": [
      "# of genes found in the extended dataset for disease C0006142 : 75\n",
      "[+] Reading graph...ok\n",
      "[+] Creating dataset...ok\n",
      "[i] Elapsed time: 35.672\n",
      "[i] # of predicted positive genes in test mask: 97\n",
      "[i] # of predicted overall likely positive genes: 4945\n"
     ]
    },
    {
     "data": {
      "application/vnd.jupyter.widget-view+json": {
       "model_id": "9f71942eb9214a628c8e8e1207aee7bc",
       "version_major": 2,
       "version_minor": 0
      },
      "text/plain": [
       "  0%|          | 0/10 [00:00<?, ?it/s]"
      ]
     },
     "metadata": {},
     "output_type": "display_data"
    },
    {
     "name": "stdout",
     "output_type": "stream",
     "text": [
      "# of genes found in the extended dataset for disease C0009402 : 60\n",
      "[i] # of predicted positive genes in test mask: 97\n",
      "[i] # of predicted overall likely positive genes: 4945\n"
     ]
    },
    {
     "data": {
      "application/vnd.jupyter.widget-view+json": {
       "model_id": "eadaa53a57a542028e860ebd23e86fe0",
       "version_major": 2,
       "version_minor": 0
      },
      "text/plain": [
       "  0%|          | 0/20 [00:00<?, ?it/s]"
      ]
     },
     "metadata": {},
     "output_type": "display_data"
    },
    {
     "name": "stdout",
     "output_type": "stream",
     "text": [
      "# of genes found in the extended dataset for disease C0009402 : 53\n",
      "[i] # of predicted positive genes in test mask: 97\n",
      "[i] # of predicted overall likely positive genes: 4945\n"
     ]
    },
    {
     "data": {
      "application/vnd.jupyter.widget-view+json": {
       "model_id": "089931fa9aba400dbc3b7712ed2c83c2",
       "version_major": 2,
       "version_minor": 0
      },
      "text/plain": [
       "  0%|          | 0/30 [00:00<?, ?it/s]"
      ]
     },
     "metadata": {},
     "output_type": "display_data"
    },
    {
     "name": "stdout",
     "output_type": "stream",
     "text": [
      "# of genes found in the extended dataset for disease C0009402 : 56\n",
      "[i] # of predicted positive genes in test mask: 97\n",
      "[i] # of predicted overall likely positive genes: 4945\n"
     ]
    },
    {
     "data": {
      "application/vnd.jupyter.widget-view+json": {
       "model_id": "a66d3f8436674a7fb503c3a66a888acd",
       "version_major": 2,
       "version_minor": 0
      },
      "text/plain": [
       "  0%|          | 0/40 [00:00<?, ?it/s]"
      ]
     },
     "metadata": {},
     "output_type": "display_data"
    },
    {
     "name": "stdout",
     "output_type": "stream",
     "text": [
      "# of genes found in the extended dataset for disease C0009402 : 60\n",
      "[i] # of predicted positive genes in test mask: 97\n",
      "[i] # of predicted overall likely positive genes: 4945\n"
     ]
    },
    {
     "data": {
      "application/vnd.jupyter.widget-view+json": {
       "model_id": "4b7b976966ab41acbbd4ad5f06709152",
       "version_major": 2,
       "version_minor": 0
      },
      "text/plain": [
       "  0%|          | 0/50 [00:00<?, ?it/s]"
      ]
     },
     "metadata": {},
     "output_type": "display_data"
    },
    {
     "name": "stdout",
     "output_type": "stream",
     "text": [
      "# of genes found in the extended dataset for disease C0009402 : 65\n",
      "[i] # of predicted positive genes in test mask: 97\n",
      "[i] # of predicted overall likely positive genes: 4945\n"
     ]
    },
    {
     "data": {
      "application/vnd.jupyter.widget-view+json": {
       "model_id": "dae2c2c5caca441db7f83b430967b8aa",
       "version_major": 2,
       "version_minor": 0
      },
      "text/plain": [
       "  0%|          | 0/60 [00:00<?, ?it/s]"
      ]
     },
     "metadata": {},
     "output_type": "display_data"
    },
    {
     "name": "stdout",
     "output_type": "stream",
     "text": [
      "# of genes found in the extended dataset for disease C0009402 : 66\n",
      "[i] # of predicted positive genes in test mask: 97\n",
      "[i] # of predicted overall likely positive genes: 4945\n"
     ]
    },
    {
     "data": {
      "application/vnd.jupyter.widget-view+json": {
       "model_id": "3ecae642e8d64a918d2fb4faec521c6e",
       "version_major": 2,
       "version_minor": 0
      },
      "text/plain": [
       "  0%|          | 0/70 [00:00<?, ?it/s]"
      ]
     },
     "metadata": {},
     "output_type": "display_data"
    },
    {
     "name": "stdout",
     "output_type": "stream",
     "text": [
      "# of genes found in the extended dataset for disease C0009402 : 64\n",
      "[i] # of predicted positive genes in test mask: 97\n",
      "[i] # of predicted overall likely positive genes: 4945\n"
     ]
    },
    {
     "data": {
      "application/vnd.jupyter.widget-view+json": {
       "model_id": "8d9098dba4b443e482c1a8d31a4c1004",
       "version_major": 2,
       "version_minor": 0
      },
      "text/plain": [
       "  0%|          | 0/80 [00:00<?, ?it/s]"
      ]
     },
     "metadata": {},
     "output_type": "display_data"
    },
    {
     "name": "stdout",
     "output_type": "stream",
     "text": [
      "# of genes found in the extended dataset for disease C0009402 : 62\n",
      "[i] # of predicted positive genes in test mask: 97\n",
      "[i] # of predicted overall likely positive genes: 4945\n"
     ]
    },
    {
     "data": {
      "application/vnd.jupyter.widget-view+json": {
       "model_id": "384b01ccabe944688d1ed85a8688aef4",
       "version_major": 2,
       "version_minor": 0
      },
      "text/plain": [
       "  0%|          | 0/97 [00:00<?, ?it/s]"
      ]
     },
     "metadata": {},
     "output_type": "display_data"
    },
    {
     "name": "stdout",
     "output_type": "stream",
     "text": [
      "# of genes found in the extended dataset for disease C0009402 : 63\n",
      "[+] Reading graph...ok\n",
      "[+] Creating dataset...ok\n",
      "[i] Elapsed time: 32.709\n",
      "[i] # of predicted positive genes in test mask: 117\n",
      "[i] # of predicted overall likely positive genes: 4950\n"
     ]
    },
    {
     "data": {
      "application/vnd.jupyter.widget-view+json": {
       "model_id": "8a288652d570499db48be86805472bfd",
       "version_major": 2,
       "version_minor": 0
      },
      "text/plain": [
       "  0%|          | 0/10 [00:00<?, ?it/s]"
      ]
     },
     "metadata": {},
     "output_type": "display_data"
    },
    {
     "name": "stdout",
     "output_type": "stream",
     "text": [
      "# of genes found in the extended dataset for disease C0023893 : 3\n",
      "[i] # of predicted positive genes in test mask: 117\n",
      "[i] # of predicted overall likely positive genes: 4950\n"
     ]
    },
    {
     "data": {
      "application/vnd.jupyter.widget-view+json": {
       "model_id": "9af28148012843239c4bdacfc589e443",
       "version_major": 2,
       "version_minor": 0
      },
      "text/plain": [
       "  0%|          | 0/20 [00:00<?, ?it/s]"
      ]
     },
     "metadata": {},
     "output_type": "display_data"
    },
    {
     "name": "stdout",
     "output_type": "stream",
     "text": [
      "# of genes found in the extended dataset for disease C0023893 : 2\n",
      "[i] # of predicted positive genes in test mask: 117\n",
      "[i] # of predicted overall likely positive genes: 4950\n"
     ]
    },
    {
     "data": {
      "application/vnd.jupyter.widget-view+json": {
       "model_id": "7a8d1c8d7dc14745a6a33294fec064df",
       "version_major": 2,
       "version_minor": 0
      },
      "text/plain": [
       "  0%|          | 0/30 [00:00<?, ?it/s]"
      ]
     },
     "metadata": {},
     "output_type": "display_data"
    },
    {
     "name": "stdout",
     "output_type": "stream",
     "text": [
      "# of genes found in the extended dataset for disease C0023893 : 2\n",
      "[i] # of predicted positive genes in test mask: 117\n",
      "[i] # of predicted overall likely positive genes: 4950\n"
     ]
    },
    {
     "data": {
      "application/vnd.jupyter.widget-view+json": {
       "model_id": "72be42e3ba70441198564b8f4a73357c",
       "version_major": 2,
       "version_minor": 0
      },
      "text/plain": [
       "  0%|          | 0/40 [00:00<?, ?it/s]"
      ]
     },
     "metadata": {},
     "output_type": "display_data"
    },
    {
     "name": "stdout",
     "output_type": "stream",
     "text": [
      "# of genes found in the extended dataset for disease C0023893 : 2\n",
      "[i] # of predicted positive genes in test mask: 117\n",
      "[i] # of predicted overall likely positive genes: 4950\n"
     ]
    },
    {
     "data": {
      "application/vnd.jupyter.widget-view+json": {
       "model_id": "350b64738e36416191f3e6ee6e6894c7",
       "version_major": 2,
       "version_minor": 0
      },
      "text/plain": [
       "  0%|          | 0/50 [00:00<?, ?it/s]"
      ]
     },
     "metadata": {},
     "output_type": "display_data"
    },
    {
     "name": "stdout",
     "output_type": "stream",
     "text": [
      "# of genes found in the extended dataset for disease C0023893 : 2\n",
      "[i] # of predicted positive genes in test mask: 117\n",
      "[i] # of predicted overall likely positive genes: 4950\n"
     ]
    },
    {
     "data": {
      "application/vnd.jupyter.widget-view+json": {
       "model_id": "9645d0339a5b494fa192b5a7d759e866",
       "version_major": 2,
       "version_minor": 0
      },
      "text/plain": [
       "  0%|          | 0/60 [00:00<?, ?it/s]"
      ]
     },
     "metadata": {},
     "output_type": "display_data"
    },
    {
     "name": "stdout",
     "output_type": "stream",
     "text": [
      "# of genes found in the extended dataset for disease C0023893 : 2\n",
      "[i] # of predicted positive genes in test mask: 117\n",
      "[i] # of predicted overall likely positive genes: 4950\n"
     ]
    },
    {
     "data": {
      "application/vnd.jupyter.widget-view+json": {
       "model_id": "9f6fd7df7ef24a7e9a9394ac6b7b786e",
       "version_major": 2,
       "version_minor": 0
      },
      "text/plain": [
       "  0%|          | 0/70 [00:00<?, ?it/s]"
      ]
     },
     "metadata": {},
     "output_type": "display_data"
    },
    {
     "name": "stdout",
     "output_type": "stream",
     "text": [
      "# of genes found in the extended dataset for disease C0023893 : 3\n",
      "[i] # of predicted positive genes in test mask: 117\n",
      "[i] # of predicted overall likely positive genes: 4950\n"
     ]
    },
    {
     "data": {
      "application/vnd.jupyter.widget-view+json": {
       "model_id": "3fccabdfceae4a24b550a13f721f3c84",
       "version_major": 2,
       "version_minor": 0
      },
      "text/plain": [
       "  0%|          | 0/80 [00:00<?, ?it/s]"
      ]
     },
     "metadata": {},
     "output_type": "display_data"
    },
    {
     "name": "stdout",
     "output_type": "stream",
     "text": [
      "# of genes found in the extended dataset for disease C0023893 : 3\n",
      "[i] # of predicted positive genes in test mask: 117\n",
      "[i] # of predicted overall likely positive genes: 4950\n"
     ]
    },
    {
     "data": {
      "application/vnd.jupyter.widget-view+json": {
       "model_id": "10b220be207f4cf5bdaeadbaf42aa0d1",
       "version_major": 2,
       "version_minor": 0
      },
      "text/plain": [
       "  0%|          | 0/90 [00:00<?, ?it/s]"
      ]
     },
     "metadata": {},
     "output_type": "display_data"
    },
    {
     "name": "stdout",
     "output_type": "stream",
     "text": [
      "# of genes found in the extended dataset for disease C0023893 : 2\n",
      "[i] # of predicted positive genes in test mask: 117\n",
      "[i] # of predicted overall likely positive genes: 4950\n"
     ]
    },
    {
     "data": {
      "application/vnd.jupyter.widget-view+json": {
       "model_id": "b77bf235fcbe43868271f9c8b440a395",
       "version_major": 2,
       "version_minor": 0
      },
      "text/plain": [
       "  0%|          | 0/100 [00:00<?, ?it/s]"
      ]
     },
     "metadata": {},
     "output_type": "display_data"
    },
    {
     "name": "stdout",
     "output_type": "stream",
     "text": [
      "# of genes found in the extended dataset for disease C0023893 : 2\n",
      "[i] # of predicted positive genes in test mask: 117\n",
      "[i] # of predicted overall likely positive genes: 4950\n"
     ]
    },
    {
     "data": {
      "application/vnd.jupyter.widget-view+json": {
       "model_id": "9601b998991f4787b603536e4cd3b96c",
       "version_major": 2,
       "version_minor": 0
      },
      "text/plain": [
       "  0%|          | 0/117 [00:00<?, ?it/s]"
      ]
     },
     "metadata": {},
     "output_type": "display_data"
    },
    {
     "name": "stdout",
     "output_type": "stream",
     "text": [
      "# of genes found in the extended dataset for disease C0023893 : 3\n",
      "[+] Reading graph...ok\n",
      "[+] Creating dataset...ok\n",
      "[i] Elapsed time: 33.269\n",
      "[i] # of predicted positive genes in test mask: 125\n",
      "[i] # of predicted overall likely positive genes: 4764\n"
     ]
    },
    {
     "data": {
      "application/vnd.jupyter.widget-view+json": {
       "model_id": "160ac85e8a414f4bb450ca194898e465",
       "version_major": 2,
       "version_minor": 0
      },
      "text/plain": [
       "  0%|          | 0/10 [00:00<?, ?it/s]"
      ]
     },
     "metadata": {},
     "output_type": "display_data"
    },
    {
     "name": "stdout",
     "output_type": "stream",
     "text": [
      "# of genes found in the extended dataset for disease C0036341 : 19\n",
      "[i] # of predicted positive genes in test mask: 125\n",
      "[i] # of predicted overall likely positive genes: 4764\n"
     ]
    },
    {
     "data": {
      "application/vnd.jupyter.widget-view+json": {
       "model_id": "cd4873669384456d97a40b32e1d5beb9",
       "version_major": 2,
       "version_minor": 0
      },
      "text/plain": [
       "  0%|          | 0/20 [00:00<?, ?it/s]"
      ]
     },
     "metadata": {},
     "output_type": "display_data"
    },
    {
     "name": "stdout",
     "output_type": "stream",
     "text": [
      "# of genes found in the extended dataset for disease C0036341 : 21\n",
      "[i] # of predicted positive genes in test mask: 125\n",
      "[i] # of predicted overall likely positive genes: 4764\n"
     ]
    },
    {
     "data": {
      "application/vnd.jupyter.widget-view+json": {
       "model_id": "dfa9afa342484c40b574f761bb4e19cd",
       "version_major": 2,
       "version_minor": 0
      },
      "text/plain": [
       "  0%|          | 0/30 [00:00<?, ?it/s]"
      ]
     },
     "metadata": {},
     "output_type": "display_data"
    },
    {
     "name": "stdout",
     "output_type": "stream",
     "text": [
      "# of genes found in the extended dataset for disease C0036341 : 21\n",
      "[i] # of predicted positive genes in test mask: 125\n",
      "[i] # of predicted overall likely positive genes: 4764\n"
     ]
    },
    {
     "data": {
      "application/vnd.jupyter.widget-view+json": {
       "model_id": "f7995622a2ab4fce99a33cf0805584a4",
       "version_major": 2,
       "version_minor": 0
      },
      "text/plain": [
       "  0%|          | 0/40 [00:00<?, ?it/s]"
      ]
     },
     "metadata": {},
     "output_type": "display_data"
    },
    {
     "name": "stdout",
     "output_type": "stream",
     "text": [
      "# of genes found in the extended dataset for disease C0036341 : 23\n",
      "[i] # of predicted positive genes in test mask: 125\n",
      "[i] # of predicted overall likely positive genes: 4764\n"
     ]
    },
    {
     "data": {
      "application/vnd.jupyter.widget-view+json": {
       "model_id": "5882a0a7ea4f47e08fbc949497a5955c",
       "version_major": 2,
       "version_minor": 0
      },
      "text/plain": [
       "  0%|          | 0/50 [00:00<?, ?it/s]"
      ]
     },
     "metadata": {},
     "output_type": "display_data"
    },
    {
     "name": "stdout",
     "output_type": "stream",
     "text": [
      "# of genes found in the extended dataset for disease C0036341 : 25\n",
      "[i] # of predicted positive genes in test mask: 125\n",
      "[i] # of predicted overall likely positive genes: 4764\n"
     ]
    },
    {
     "data": {
      "application/vnd.jupyter.widget-view+json": {
       "model_id": "8bf12e61dca04df4ae2dec27c8fdb229",
       "version_major": 2,
       "version_minor": 0
      },
      "text/plain": [
       "  0%|          | 0/60 [00:00<?, ?it/s]"
      ]
     },
     "metadata": {},
     "output_type": "display_data"
    },
    {
     "name": "stdout",
     "output_type": "stream",
     "text": [
      "# of genes found in the extended dataset for disease C0036341 : 25\n",
      "[i] # of predicted positive genes in test mask: 125\n",
      "[i] # of predicted overall likely positive genes: 4764\n"
     ]
    },
    {
     "data": {
      "application/vnd.jupyter.widget-view+json": {
       "model_id": "7cef411b41554a10bdeadef3b783dbef",
       "version_major": 2,
       "version_minor": 0
      },
      "text/plain": [
       "  0%|          | 0/70 [00:00<?, ?it/s]"
      ]
     },
     "metadata": {},
     "output_type": "display_data"
    },
    {
     "name": "stdout",
     "output_type": "stream",
     "text": [
      "# of genes found in the extended dataset for disease C0036341 : 24\n",
      "[i] # of predicted positive genes in test mask: 125\n",
      "[i] # of predicted overall likely positive genes: 4764\n"
     ]
    },
    {
     "data": {
      "application/vnd.jupyter.widget-view+json": {
       "model_id": "1471b268daa441eabf57b7d4da6b1516",
       "version_major": 2,
       "version_minor": 0
      },
      "text/plain": [
       "  0%|          | 0/80 [00:00<?, ?it/s]"
      ]
     },
     "metadata": {},
     "output_type": "display_data"
    },
    {
     "name": "stdout",
     "output_type": "stream",
     "text": [
      "# of genes found in the extended dataset for disease C0036341 : 23\n",
      "[i] # of predicted positive genes in test mask: 125\n",
      "[i] # of predicted overall likely positive genes: 4764\n"
     ]
    },
    {
     "data": {
      "application/vnd.jupyter.widget-view+json": {
       "model_id": "0919187ae31f4b099c67074e5765c1ed",
       "version_major": 2,
       "version_minor": 0
      },
      "text/plain": [
       "  0%|          | 0/90 [00:00<?, ?it/s]"
      ]
     },
     "metadata": {},
     "output_type": "display_data"
    },
    {
     "name": "stdout",
     "output_type": "stream",
     "text": [
      "# of genes found in the extended dataset for disease C0036341 : 23\n",
      "[i] # of predicted positive genes in test mask: 125\n",
      "[i] # of predicted overall likely positive genes: 4764\n"
     ]
    },
    {
     "data": {
      "application/vnd.jupyter.widget-view+json": {
       "model_id": "9fc00ea05c2c432c8117ce617257a37f",
       "version_major": 2,
       "version_minor": 0
      },
      "text/plain": [
       "  0%|          | 0/100 [00:00<?, ?it/s]"
      ]
     },
     "metadata": {},
     "output_type": "display_data"
    },
    {
     "name": "stdout",
     "output_type": "stream",
     "text": [
      "# of genes found in the extended dataset for disease C0036341 : 23\n",
      "[i] # of predicted positive genes in test mask: 125\n",
      "[i] # of predicted overall likely positive genes: 4764\n"
     ]
    },
    {
     "data": {
      "application/vnd.jupyter.widget-view+json": {
       "model_id": "e51c31fcdd924c6ebcf64294282ea100",
       "version_major": 2,
       "version_minor": 0
      },
      "text/plain": [
       "  0%|          | 0/110 [00:00<?, ?it/s]"
      ]
     },
     "metadata": {},
     "output_type": "display_data"
    },
    {
     "name": "stdout",
     "output_type": "stream",
     "text": [
      "# of genes found in the extended dataset for disease C0036341 : 23\n",
      "[i] # of predicted positive genes in test mask: 125\n",
      "[i] # of predicted overall likely positive genes: 4764\n"
     ]
    },
    {
     "data": {
      "application/vnd.jupyter.widget-view+json": {
       "model_id": "d6025929a1a24ecbb72bc56b5ee18954",
       "version_major": 2,
       "version_minor": 0
      },
      "text/plain": [
       "  0%|          | 0/125 [00:00<?, ?it/s]"
      ]
     },
     "metadata": {},
     "output_type": "display_data"
    },
    {
     "name": "stdout",
     "output_type": "stream",
     "text": [
      "# of genes found in the extended dataset for disease C0036341 : 21\n",
      "[+] Reading graph...ok\n",
      "[+] Creating dataset...ok\n",
      "[i] Elapsed time: 33.19\n",
      "[i] # of predicted positive genes in test mask: 91\n",
      "[i] # of predicted overall likely positive genes: 4975\n"
     ]
    },
    {
     "data": {
      "application/vnd.jupyter.widget-view+json": {
       "model_id": "b9bf0ba4488f4b269a3000d8a9af4d3b",
       "version_major": 2,
       "version_minor": 0
      },
      "text/plain": [
       "  0%|          | 0/10 [00:00<?, ?it/s]"
      ]
     },
     "metadata": {},
     "output_type": "display_data"
    },
    {
     "name": "stdout",
     "output_type": "stream",
     "text": [
      "# of genes found in the extended dataset for disease C0376358 : 74\n",
      "[i] # of predicted positive genes in test mask: 91\n",
      "[i] # of predicted overall likely positive genes: 4975\n"
     ]
    },
    {
     "data": {
      "application/vnd.jupyter.widget-view+json": {
       "model_id": "9aae32890ab945aa85aceb98d1adda38",
       "version_major": 2,
       "version_minor": 0
      },
      "text/plain": [
       "  0%|          | 0/20 [00:00<?, ?it/s]"
      ]
     },
     "metadata": {},
     "output_type": "display_data"
    },
    {
     "name": "stdout",
     "output_type": "stream",
     "text": [
      "# of genes found in the extended dataset for disease C0376358 : 63\n",
      "[i] # of predicted positive genes in test mask: 91\n",
      "[i] # of predicted overall likely positive genes: 4975\n"
     ]
    },
    {
     "data": {
      "application/vnd.jupyter.widget-view+json": {
       "model_id": "56c50805745d4ed9855cfa40da11048c",
       "version_major": 2,
       "version_minor": 0
      },
      "text/plain": [
       "  0%|          | 0/30 [00:00<?, ?it/s]"
      ]
     },
     "metadata": {},
     "output_type": "display_data"
    },
    {
     "name": "stdout",
     "output_type": "stream",
     "text": [
      "# of genes found in the extended dataset for disease C0376358 : 65\n",
      "[i] # of predicted positive genes in test mask: 91\n",
      "[i] # of predicted overall likely positive genes: 4975\n"
     ]
    },
    {
     "data": {
      "application/vnd.jupyter.widget-view+json": {
       "model_id": "5f9f8a62d36c42dba2fec64ddb295910",
       "version_major": 2,
       "version_minor": 0
      },
      "text/plain": [
       "  0%|          | 0/40 [00:00<?, ?it/s]"
      ]
     },
     "metadata": {},
     "output_type": "display_data"
    },
    {
     "name": "stdout",
     "output_type": "stream",
     "text": [
      "# of genes found in the extended dataset for disease C0376358 : 61\n",
      "[i] # of predicted positive genes in test mask: 91\n",
      "[i] # of predicted overall likely positive genes: 4975\n"
     ]
    },
    {
     "data": {
      "application/vnd.jupyter.widget-view+json": {
       "model_id": "0113b7ff68064b27ab2850a8551bc426",
       "version_major": 2,
       "version_minor": 0
      },
      "text/plain": [
       "  0%|          | 0/50 [00:00<?, ?it/s]"
      ]
     },
     "metadata": {},
     "output_type": "display_data"
    },
    {
     "name": "stdout",
     "output_type": "stream",
     "text": [
      "# of genes found in the extended dataset for disease C0376358 : 59\n",
      "[i] # of predicted positive genes in test mask: 91\n",
      "[i] # of predicted overall likely positive genes: 4975\n"
     ]
    },
    {
     "data": {
      "application/vnd.jupyter.widget-view+json": {
       "model_id": "ae52dffe007840d895b496c23458191d",
       "version_major": 2,
       "version_minor": 0
      },
      "text/plain": [
       "  0%|          | 0/60 [00:00<?, ?it/s]"
      ]
     },
     "metadata": {},
     "output_type": "display_data"
    },
    {
     "name": "stdout",
     "output_type": "stream",
     "text": [
      "# of genes found in the extended dataset for disease C0376358 : 63\n",
      "[i] # of predicted positive genes in test mask: 91\n",
      "[i] # of predicted overall likely positive genes: 4975\n"
     ]
    },
    {
     "data": {
      "application/vnd.jupyter.widget-view+json": {
       "model_id": "3d72aba13c9a46739691c20196b7a2e6",
       "version_major": 2,
       "version_minor": 0
      },
      "text/plain": [
       "  0%|          | 0/70 [00:00<?, ?it/s]"
      ]
     },
     "metadata": {},
     "output_type": "display_data"
    },
    {
     "name": "stdout",
     "output_type": "stream",
     "text": [
      "# of genes found in the extended dataset for disease C0376358 : 62\n",
      "[i] # of predicted positive genes in test mask: 91\n",
      "[i] # of predicted overall likely positive genes: 4975\n"
     ]
    },
    {
     "data": {
      "application/vnd.jupyter.widget-view+json": {
       "model_id": "d05a6f70a4634e219c2313325b39301d",
       "version_major": 2,
       "version_minor": 0
      },
      "text/plain": [
       "  0%|          | 0/80 [00:00<?, ?it/s]"
      ]
     },
     "metadata": {},
     "output_type": "display_data"
    },
    {
     "name": "stdout",
     "output_type": "stream",
     "text": [
      "# of genes found in the extended dataset for disease C0376358 : 61\n",
      "[i] # of predicted positive genes in test mask: 91\n",
      "[i] # of predicted overall likely positive genes: 4975\n"
     ]
    },
    {
     "data": {
      "application/vnd.jupyter.widget-view+json": {
       "model_id": "f92731e1513e4f52ad88c822cc00bbae",
       "version_major": 2,
       "version_minor": 0
      },
      "text/plain": [
       "  0%|          | 0/91 [00:00<?, ?it/s]"
      ]
     },
     "metadata": {},
     "output_type": "display_data"
    },
    {
     "name": "stdout",
     "output_type": "stream",
     "text": [
      "# of genes found in the extended dataset for disease C0376358 : 61\n"
     ]
    }
   ],
   "source": [
    "disease_Ids = ['C0006142', 'C0009402', 'C0023893', 'C0036341', 'C0376358']\n",
    "\n",
    "explanation_nodes_ratio=1\n",
    "\n",
    "# dictionary {disease_Id: {n_positive_nodes: precision}}\n",
    "precisions = {}\n",
    "\n",
    "for disease_Id in disease_Ids:\n",
    "    precisions[disease_Id] = {}\n",
    "\n",
    "    graph_path = PATH_TO_GRAPHS + 'grafo_nedbit_' + disease_Id + '.gml'\n",
    "    dataset, G = get_dataset_from_graph(graph_path, disease_Id)\n",
    "\n",
    "    model_name  = 'GraphSAGE_' + disease_Id + '_40000_0_0005'\n",
    "    classes     = ['P', 'LP', 'WN', 'LN', 'RN']\n",
    "    predictions, probabilities, model = predict_from_saved_model(model_name, dataset, classes, plot_results=False, save_to_file=False)\n",
    "\n",
    "    test_P      = {}\n",
    "    overall_LP  = {}\n",
    "\n",
    "    test_mask   = dataset.test_mask\n",
    "    test_nodes  = []\n",
    "    test_preds = predictions[test_mask]\n",
    "    test_probs = probabilities[test_mask]\n",
    "\n",
    "    i = 0\n",
    "    for node in G.nodes:\n",
    "        if test_mask[i]:\n",
    "            test_nodes.append(node)\n",
    "        if predictions[i] == 1 and node not in overall_LP:\n",
    "            overall_LP[node] = probabilities[i][1].item() # take probability of class 1 (LP)\n",
    "        i += 1\n",
    "\n",
    "    i = 0\n",
    "    for node in test_nodes:\n",
    "        if test_preds[i] == 0 and node not in test_P: #P\n",
    "            test_P[node] = test_probs[i][0].item() # take probability of class 0 (p)\n",
    "        i += 1\n",
    "    \n",
    "    total_positives = len(test_P)\n",
    "\n",
    "    for n_positive in range(10, total_positives, 10):\n",
    "        if n_positive > total_positives-10:\n",
    "            n_positive = total_positives\n",
    "        \n",
    "        ranking, precision = get_ranking(model, dataset, predictions, \n",
    "                                            probabilities, disease_Id, n_positive=n_positive,\n",
    "                                            explanation_nodes_ratio=1, masks_for_seed=5, G=G,\n",
    "                                            save_ranking_to_file=False)\n",
    "        \n",
    "        precisions[disease_Id][n_positive] = precision"
   ]
  },
  {
   "cell_type": "markdown",
   "metadata": {},
   "source": [
    "### Save to file"
   ]
  },
  {
   "cell_type": "code",
   "execution_count": 44,
   "metadata": {},
   "outputs": [
    {
     "data": {
      "text/html": [
       "<div>\n",
       "<style scoped>\n",
       "    .dataframe tbody tr th:only-of-type {\n",
       "        vertical-align: middle;\n",
       "    }\n",
       "\n",
       "    .dataframe tbody tr th {\n",
       "        vertical-align: top;\n",
       "    }\n",
       "\n",
       "    .dataframe thead th {\n",
       "        text-align: right;\n",
       "    }\n",
       "</style>\n",
       "<table border=\"1\" class=\"dataframe\">\n",
       "  <thead>\n",
       "    <tr style=\"text-align: right;\">\n",
       "      <th></th>\n",
       "      <th>n_positives</th>\n",
       "      <th>C0006142</th>\n",
       "      <th>C0009402</th>\n",
       "      <th>C0023893</th>\n",
       "      <th>C0036341</th>\n",
       "      <th>C0376358</th>\n",
       "    </tr>\n",
       "  </thead>\n",
       "  <tbody>\n",
       "    <tr>\n",
       "      <th>10</th>\n",
       "      <td>10</td>\n",
       "      <td>84.0</td>\n",
       "      <td>60.0</td>\n",
       "      <td>3.0</td>\n",
       "      <td>19.0</td>\n",
       "      <td>74.0</td>\n",
       "    </tr>\n",
       "    <tr>\n",
       "      <th>20</th>\n",
       "      <td>20</td>\n",
       "      <td>79.0</td>\n",
       "      <td>53.0</td>\n",
       "      <td>2.0</td>\n",
       "      <td>21.0</td>\n",
       "      <td>63.0</td>\n",
       "    </tr>\n",
       "    <tr>\n",
       "      <th>30</th>\n",
       "      <td>30</td>\n",
       "      <td>79.0</td>\n",
       "      <td>56.0</td>\n",
       "      <td>2.0</td>\n",
       "      <td>21.0</td>\n",
       "      <td>65.0</td>\n",
       "    </tr>\n",
       "    <tr>\n",
       "      <th>40</th>\n",
       "      <td>40</td>\n",
       "      <td>75.0</td>\n",
       "      <td>60.0</td>\n",
       "      <td>2.0</td>\n",
       "      <td>23.0</td>\n",
       "      <td>61.0</td>\n",
       "    </tr>\n",
       "    <tr>\n",
       "      <th>50</th>\n",
       "      <td>50</td>\n",
       "      <td>78.0</td>\n",
       "      <td>65.0</td>\n",
       "      <td>2.0</td>\n",
       "      <td>25.0</td>\n",
       "      <td>59.0</td>\n",
       "    </tr>\n",
       "    <tr>\n",
       "      <th>60</th>\n",
       "      <td>60</td>\n",
       "      <td>80.0</td>\n",
       "      <td>66.0</td>\n",
       "      <td>2.0</td>\n",
       "      <td>25.0</td>\n",
       "      <td>63.0</td>\n",
       "    </tr>\n",
       "    <tr>\n",
       "      <th>70</th>\n",
       "      <td>70</td>\n",
       "      <td>78.0</td>\n",
       "      <td>64.0</td>\n",
       "      <td>3.0</td>\n",
       "      <td>24.0</td>\n",
       "      <td>62.0</td>\n",
       "    </tr>\n",
       "    <tr>\n",
       "      <th>80</th>\n",
       "      <td>80</td>\n",
       "      <td>77.0</td>\n",
       "      <td>62.0</td>\n",
       "      <td>3.0</td>\n",
       "      <td>23.0</td>\n",
       "      <td>61.0</td>\n",
       "    </tr>\n",
       "    <tr>\n",
       "      <th>90</th>\n",
       "      <td>90</td>\n",
       "      <td>80.0</td>\n",
       "      <td>NaN</td>\n",
       "      <td>2.0</td>\n",
       "      <td>23.0</td>\n",
       "      <td>NaN</td>\n",
       "    </tr>\n",
       "    <tr>\n",
       "      <th>100</th>\n",
       "      <td>100</td>\n",
       "      <td>74.0</td>\n",
       "      <td>NaN</td>\n",
       "      <td>2.0</td>\n",
       "      <td>23.0</td>\n",
       "      <td>NaN</td>\n",
       "    </tr>\n",
       "    <tr>\n",
       "      <th>110</th>\n",
       "      <td>110</td>\n",
       "      <td>75.0</td>\n",
       "      <td>NaN</td>\n",
       "      <td>NaN</td>\n",
       "      <td>23.0</td>\n",
       "      <td>NaN</td>\n",
       "    </tr>\n",
       "    <tr>\n",
       "      <th>120</th>\n",
       "      <td>120</td>\n",
       "      <td>77.0</td>\n",
       "      <td>NaN</td>\n",
       "      <td>NaN</td>\n",
       "      <td>NaN</td>\n",
       "      <td>NaN</td>\n",
       "    </tr>\n",
       "    <tr>\n",
       "      <th>130</th>\n",
       "      <td>130</td>\n",
       "      <td>76.0</td>\n",
       "      <td>NaN</td>\n",
       "      <td>NaN</td>\n",
       "      <td>NaN</td>\n",
       "      <td>NaN</td>\n",
       "    </tr>\n",
       "    <tr>\n",
       "      <th>140</th>\n",
       "      <td>140</td>\n",
       "      <td>76.0</td>\n",
       "      <td>NaN</td>\n",
       "      <td>NaN</td>\n",
       "      <td>NaN</td>\n",
       "      <td>NaN</td>\n",
       "    </tr>\n",
       "    <tr>\n",
       "      <th>153</th>\n",
       "      <td>153</td>\n",
       "      <td>75.0</td>\n",
       "      <td>NaN</td>\n",
       "      <td>NaN</td>\n",
       "      <td>NaN</td>\n",
       "      <td>NaN</td>\n",
       "    </tr>\n",
       "    <tr>\n",
       "      <th>97</th>\n",
       "      <td>97</td>\n",
       "      <td>NaN</td>\n",
       "      <td>63.0</td>\n",
       "      <td>NaN</td>\n",
       "      <td>NaN</td>\n",
       "      <td>NaN</td>\n",
       "    </tr>\n",
       "    <tr>\n",
       "      <th>117</th>\n",
       "      <td>117</td>\n",
       "      <td>NaN</td>\n",
       "      <td>NaN</td>\n",
       "      <td>3.0</td>\n",
       "      <td>NaN</td>\n",
       "      <td>NaN</td>\n",
       "    </tr>\n",
       "    <tr>\n",
       "      <th>125</th>\n",
       "      <td>125</td>\n",
       "      <td>NaN</td>\n",
       "      <td>NaN</td>\n",
       "      <td>NaN</td>\n",
       "      <td>21.0</td>\n",
       "      <td>NaN</td>\n",
       "    </tr>\n",
       "    <tr>\n",
       "      <th>91</th>\n",
       "      <td>91</td>\n",
       "      <td>NaN</td>\n",
       "      <td>NaN</td>\n",
       "      <td>NaN</td>\n",
       "      <td>NaN</td>\n",
       "      <td>61.0</td>\n",
       "    </tr>\n",
       "  </tbody>\n",
       "</table>\n",
       "</div>"
      ],
      "text/plain": [
       "     n_positives  C0006142  C0009402  C0023893  C0036341  C0376358\n",
       "10            10      84.0      60.0       3.0      19.0      74.0\n",
       "20            20      79.0      53.0       2.0      21.0      63.0\n",
       "30            30      79.0      56.0       2.0      21.0      65.0\n",
       "40            40      75.0      60.0       2.0      23.0      61.0\n",
       "50            50      78.0      65.0       2.0      25.0      59.0\n",
       "60            60      80.0      66.0       2.0      25.0      63.0\n",
       "70            70      78.0      64.0       3.0      24.0      62.0\n",
       "80            80      77.0      62.0       3.0      23.0      61.0\n",
       "90            90      80.0       NaN       2.0      23.0       NaN\n",
       "100          100      74.0       NaN       2.0      23.0       NaN\n",
       "110          110      75.0       NaN       NaN      23.0       NaN\n",
       "120          120      77.0       NaN       NaN       NaN       NaN\n",
       "130          130      76.0       NaN       NaN       NaN       NaN\n",
       "140          140      76.0       NaN       NaN       NaN       NaN\n",
       "153          153      75.0       NaN       NaN       NaN       NaN\n",
       "97            97       NaN      63.0       NaN       NaN       NaN\n",
       "117          117       NaN       NaN       3.0       NaN       NaN\n",
       "125          125       NaN       NaN       NaN      21.0       NaN\n",
       "91            91       NaN       NaN       NaN       NaN      61.0"
      ]
     },
     "execution_count": 44,
     "metadata": {},
     "output_type": "execute_result"
    }
   ],
   "source": [
    "df = pd.DataFrame.from_dict(precisions)\n",
    "df['n_positives'] = df.index\n",
    "cols = df.columns.to_list()\n",
    "cols = cols[-1:] + cols[:-1]\n",
    "df = df[cols]\n",
    "df"
   ]
  },
  {
   "cell_type": "code",
   "execution_count": null,
   "metadata": {},
   "outputs": [],
   "source": [
    "df.to_csv('precision_positive_genes.csv')"
   ]
  },
  {
   "cell_type": "markdown",
   "metadata": {},
   "source": [
    "### Plot results"
   ]
  },
  {
   "cell_type": "code",
   "execution_count": 6,
   "metadata": {},
   "outputs": [
    {
     "data": {
      "image/png": "[encoded data removed]",
      "text/plain": [
       "<Figure size 432x288 with 1 Axes>"
      ]
     },
     "metadata": {
      "needs_background": "light"
     },
     "output_type": "display_data"
    },
    {
     "data": {
      "image/png": "[encoded data removed]",
      "text/plain": [
       "<Figure size 432x288 with 1 Axes>"
      ]
     },
     "metadata": {
      "needs_background": "light"
     },
     "output_type": "display_data"
    },
    {
     "data": {
      "image/png": "[encoded data removed]",
      "text/plain": [
       "<Figure size 432x288 with 1 Axes>"
      ]
     },
     "metadata": {
      "needs_background": "light"
     },
     "output_type": "display_data"
    },
    {
     "data": {
      "image/png": "[encoded data removed]",
      "text/plain": [
       "<Figure size 432x288 with 1 Axes>"
      ]
     },
     "metadata": {
      "needs_background": "light"
     },
     "output_type": "display_data"
    },
    {
     "data": {
      "image/png": "[encoded data removed]",
      "text/plain": [
       "<Figure size 432x288 with 1 Axes>"
      ]
     },
     "metadata": {
      "needs_background": "light"
     },
     "output_type": "display_data"
    }
   ],
   "source": [
    "df = pd.read_csv('precision_positive_genes.csv')\n",
    "cols = df.columns.to_list()\n",
    "\n",
    "for col in cols[2:]:\n",
    "    plt.title(str(col))\n",
    "    plt.xlabel('positive genese for explanation')\n",
    "    plt.ylabel('precision on extended dataset')\n",
    "    plt.ylim(0, 100)\n",
    "    plt.plot(df['n_positives'], df[col])\n",
    "    plt.show()"
   ]
  }
 ],
 "metadata": {
  "kernelspec": {
   "display_name": "Python 3.10.4 ('pytorch')",
   "language": "python",
   "name": "python3"
  },
  "language_info": {
   "codemirror_mode": {
    "name": "ipython",
    "version": 3
   },
   "file_extension": ".py",
   "mimetype": "text/x-python",
   "name": "python",
   "nbconvert_exporter": "python",
   "pygments_lexer": "ipython3",
   "version": "3.10.4"
  },
  "orig_nbformat": 4,
  "vscode": {
   "interpreter": {
    "hash": "6aeea6fe202f5c7201d5940e4573c0a76b23e4e16f0e3784ac81597546f2b3b3"
   }
  }
 },
 "nbformat": 4,
 "nbformat_minor": 2
}
