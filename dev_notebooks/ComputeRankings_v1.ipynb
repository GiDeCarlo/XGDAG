{
 "cells": [
  {
   "cell_type": "code",
   "execution_count": 13,
   "metadata": {},
   "outputs": [],
   "source": [
    "from GNNTrain import predict_from_saved_model\n",
    "from CreateDatasetv2 import get_dataset_from_graph\n",
    "from Paths import PATH_TO_GRAPHS, PATH_TO_RANKINGS\n",
    "from GDARanking import predict_candidate_genes\n",
    "from GraphSageModel import GNN7L_Sage\n",
    "\n",
    "from dig.xgraph.method import SubgraphX"
   ]
  },
  {
   "cell_type": "markdown",
   "metadata": {},
   "source": [
    "## Get rankings\n",
    "Change the following parameters to get the final ranking:\n",
    "- disease_id $\\in$ ['C0006142','C0009402','C0023893','C0036341','C0376358']\n",
    "- modality $\\in$ ['binary', 'multiclass']\n",
    "- exp_method $\\in$ ['GNNExplainer', 'GraphSVX', 'SubgraphX']"
   ]
  },
  {
   "cell_type": "code",
   "execution_count": 14,
   "metadata": {},
   "outputs": [
    {
     "name": "stdout",
     "output_type": "stream",
     "text": [
      "[+] Performing GDA prioritization on disease C0006142 with multiclass classificaiton, using GNNExplainer as explainability method.\n"
     ]
    }
   ],
   "source": [
    "disease_Id  = 'C0006142'\n",
    "modality    = 'multiclass'\n",
    "exp_method  = 'GraphSVX'\n",
    "\n",
    "print('[+] Performing GDA prioritization on disease', disease_Id, 'with', modality, 'classificaiton, using', exp_method, 'as explainability method.' )"
   ]
  },
  {
   "cell_type": "code",
   "execution_count": 15,
   "metadata": {},
   "outputs": [
    {
     "name": "stdout",
     "output_type": "stream",
     "text": [
      "[+] Loading dataset from graph: Graphs/grafo_nedbit_C0006142.gml\n",
      "[+] Reading graph...ok\n",
      "[+] Creating dataset...ok\n",
      "[i] Elapsed time: 19.551\n",
      "\n",
      "[+] Metrics report of saved model: GraphSAGE_C0006142_new_rankings_40000_0_0005\n",
      "              precision    recall  f1-score   support\n",
      "\n",
      "           0       0.97      1.00      0.98       154\n",
      "           1       0.93      0.96      0.95       739\n",
      "           2       0.90      0.89      0.90       739\n",
      "           3       0.93      0.84      0.88       739\n",
      "           4       0.89      0.97      0.93       593\n",
      "\n",
      "    accuracy                           0.92      2964\n",
      "   macro avg       0.92      0.93      0.93      2964\n",
      "weighted avg       0.92      0.92      0.92      2964\n",
      "\n"
     ]
    }
   ],
   "source": [
    "classes     = []\n",
    "model_name  = 'GraphSAGE_' + disease_Id + '_new_rankings'\n",
    "\n",
    "if modality == 'binary':\n",
    "    classes = ['P', 'U']\n",
    "    # If using binary classification method change exp_method and model_name\n",
    "    exp_method += '_only'\n",
    "    model_name += 'binary'\n",
    "elif modality == 'multiclass':\n",
    "    classes     = ['P', 'LP', 'WN', 'LN', 'RN']\n",
    "else:\n",
    "    print('[ERR] Wrong modality!', modality, 'not in [binary, multiclass].')\n",
    "\n",
    "# Specify wich model to use, based on training epochs and weight decay rate\n",
    "model_name += '_40000_0_0005'\n",
    "\n",
    "##################################\n",
    "# Get Pytorch dataset from graph #\n",
    "##################################\n",
    "graph_path  = PATH_TO_GRAPHS + 'grafo_nedbit_' + disease_Id + '.gml'\n",
    "\n",
    "print('[+] Loading dataset from graph:', graph_path)\n",
    "dataset, G = get_dataset_from_graph(graph_path, disease_Id, quartile=False)\n",
    "\n",
    "####################################\n",
    "# Get predictions from saved model #\n",
    "####################################\n",
    "print()\n",
    "print('[+] Metrics report of saved model:', model_name)\n",
    "preds, probs, model = predict_from_saved_model(model_name, dataset, classes, save_to_file=False)\n",
    "\n"
   ]
  },
  {
   "cell_type": "code",
   "execution_count": null,
   "metadata": {},
   "outputs": [],
   "source": [
    "ranking = predict_candidate_genes(model,\n",
    "                                  dataset,\n",
    "                                  preds,\n",
    "                                  disease_Id,\n",
    "                                  exp_method,\n",
    "                                  explanation_nodes_ratio=1,\n",
    "                                  masks_for_seed=5,\n",
    "                                  num_hops=1,\n",
    "                                  G=G,\n",
    "                                  num_pos='all',\n",
    "                                  threshold = True)\n",
    "\n",
    "########################\n",
    "# Save ranking to file #\n",
    "########################\n",
    "ranking_path = PATH_TO_RANKINGS + \\\n",
    "               disease_Id + \\\n",
    "               '_all_positives_new_ranking_' + \\\n",
    "               exp_method.lower().replace(\"_only\", \"\") + \\\n",
    "               '.txt'\n",
    "\n",
    "with open(ranking_path, 'w') as f:\n",
    "     for line in ranking:\n",
    "        f.write(line + '\\n')"
   ]
  }
 ],
 "metadata": {
  "kernelspec": {
   "display_name": "Python 3.9.10 ('base')",
   "language": "python",
   "name": "python3"
  },
  "language_info": {
   "codemirror_mode": {
    "name": "ipython",
    "version": 3
   },
   "file_extension": ".py",
   "mimetype": "text/x-python",
   "name": "python",
   "nbconvert_exporter": "python",
   "pygments_lexer": "ipython3",
   "version": "3.9.10"
  },
  "orig_nbformat": 4,
  "vscode": {
   "interpreter": {
    "hash": "6be87094300d2fd0b14f70b1fe8798b4c48d70f4967b41c52e40ae094b87f126"
   }
  }
 },
 "nbformat": 4,
 "nbformat_minor": 2
}
