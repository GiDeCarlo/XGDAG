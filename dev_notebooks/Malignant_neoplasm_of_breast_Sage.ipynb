{
 "cells": [
  {
   "cell_type": "markdown",
   "metadata": {},
   "source": [
    "## Packets"
   ]
  },
  {
   "cell_type": "code",
   "execution_count": 1,
   "metadata": {},
   "outputs": [
    {
     "name": "stdout",
     "output_type": "stream",
     "text": [
      "1.11.0\n",
      "2.0.4\n",
      "cuda\n"
     ]
    }
   ],
   "source": [
    "import random\n",
    "import numpy as np\n",
    "import pandas as pd\n",
    "import seaborn as sn\n",
    "import networkx as nx\n",
    "from tqdm.notebook import tqdm\n",
    "import matplotlib.pyplot as plt\n",
    "\n",
    "import torch\n",
    "import torch.nn as nn\n",
    "import torch.nn.functional as F\n",
    "import torch_geometric\n",
    "from torch_geometric.nn.conv import SAGEConv\n",
    "from torch_geometric.utils import from_networkx\n",
    "from torch_geometric.data import InMemoryDataset\n",
    "\n",
    "from sklearn.metrics import confusion_matrix\n",
    "from sklearn.metrics import classification_report\n",
    "from sklearn.model_selection import train_test_split\n",
    "\n",
    "random.seed(42)\n",
    "np.random.seed(42)\n",
    "torch.manual_seed(42)\n",
    "\n",
    "device = 'cuda' if torch.cuda.is_available() else 'cpu'\n",
    "print(torch.__version__)\n",
    "print(torch_geometric.__version__)\n",
    "print(device)"
   ]
  },
  {
   "cell_type": "markdown",
   "metadata": {},
   "source": [
    "## GNNs"
   ]
  },
  {
   "cell_type": "code",
   "execution_count": 2,
   "metadata": {},
   "outputs": [],
   "source": [
    "class GNN7L_SAGEConv (nn.Module):\n",
    "    def __init__(self, data):\n",
    "        super().__init__()\n",
    "        self.conv1 = SAGEConv(data.num_features, 16, aggr='max')\n",
    "        self.conv2 = SAGEConv(16, 16, aggr='max')\n",
    "        self.conv3 = SAGEConv(16, 16, aggr='max')\n",
    "        self.conv4 = SAGEConv(16, 16, aggr='max')\n",
    "        self.conv5 = SAGEConv(16, 16, aggr='max')\n",
    "        self.conv6 = SAGEConv(16, 16, aggr='max')\n",
    "        self.conv7 = SAGEConv(16, int(data.num_classes), aggr='max')\n",
    "\n",
    "    def forward(self, data):\n",
    "        x, edge_index = data.x, data.edge_index\n",
    "\n",
    "        x = F.relu(self.conv1(x, edge_index))\n",
    "        x = F.relu(self.conv2(x, edge_index))\n",
    "        x = F.relu(self.conv3(x, edge_index))\n",
    "        x = F.relu(self.conv4(x, edge_index))\n",
    "        x = F.relu(self.conv5(x, edge_index))\n",
    "        x = F.relu(self.conv6(x, edge_index))\n",
    "        x = F.dropout(x, training=self.training)\n",
    "        x = self.conv7(x, edge_index)\n",
    "\n",
    "        return F.log_softmax(x, dim=1)"
   ]
  },
  {
   "cell_type": "markdown",
   "metadata": {},
   "source": [
    "## Dataset loader"
   ]
  },
  {
   "cell_type": "code",
   "execution_count": 3,
   "metadata": {},
   "outputs": [],
   "source": [
    "# Dataset class: it allows to translate a vector (Graph, Attributes, Labels)\n",
    "# into a dataset compatible with the PyTorch models.\n",
    "# \n",
    "# Parameters:\n",
    "# - G: NetworkX graph\n",
    "# - Labels: of the nodes used for classification\n",
    "# - attributes: List of the nodes' attributes\n",
    "\n",
    "class MyDataset(InMemoryDataset):\n",
    "  def __init__(self, G, labels, attributes, num_classes=2):\n",
    "    super(MyDataset, self).__init__('.', None, None, None)\n",
    "\n",
    "    # import data from the networkx graph with the attributes of the nodes\n",
    "    data = from_networkx(G, attributes)\n",
    "      \n",
    "    y = torch.from_numpy(labels).type(torch.long)\n",
    "\n",
    "    data.x = data.x.float()\n",
    "    data.y = y.clone().detach()\n",
    "    data.num_classes = num_classes\n",
    "\n",
    "    # Using train_test_split function from sklearn to stratify train/test/val sets\n",
    "    indices = range(G.number_of_nodes())\n",
    "    # Stratified split of train/test/val sets. Returned indices are used to create the masks\n",
    "    X_train, X_test, y_train, y_test, train_idx, test_idx = train_test_split(data.x, data.y, indices, test_size=0.3, stratify=labels, random_state=42)\n",
    "    # To create validation set, test set is splitted in half\n",
    "    X_test, X_val, y_test, y_val, test_idx, val_idx = train_test_split(X_test, y_test, test_idx, test_size=0.5, stratify=y_test, random_state=42)\n",
    "\n",
    "    n_nodes = G.number_of_nodes()\n",
    "    train_mask  = torch.zeros(n_nodes, dtype=torch.bool)\n",
    "    test_mask   = torch.zeros(n_nodes, dtype=torch.bool)\n",
    "    val_mask    = torch.zeros(n_nodes, dtype=torch.bool)\n",
    "    \n",
    "    for idx in train_idx:\n",
    "      train_mask[idx] = True\n",
    "\n",
    "    for idx in test_idx:\n",
    "      test_mask[idx] = True\n",
    "    \n",
    "    for idx in val_idx:\n",
    "      val_mask[idx] = True\n",
    "\n",
    "    data['train_mask']  = train_mask\n",
    "    data['test_mask']   = test_mask\n",
    "    data['val_mask']    = val_mask\n",
    "\n",
    "    self.data, self.slices = self.collate([data])"
   ]
  },
  {
   "cell_type": "markdown",
   "metadata": {},
   "source": [
    "## Training Function"
   ]
  },
  {
   "cell_type": "code",
   "execution_count": 10,
   "metadata": {},
   "outputs": [],
   "source": [
    "def train(model, data, epochs = 200, classes = ['0','1'], lr = 0.001, weight_decay=0, cm_title = 'GNN'):\n",
    "    title = cm_title + '_' + str(epochs) + '_' + str(weight_decay).replace('.', '_')\n",
    "\n",
    "    model_path  = '../Models/' + title\n",
    "    image_path  = 'Images/' + title\n",
    "    report_path = 'Reports/' + title + '.csv'\n",
    "\n",
    "    optimizer = torch.optim.Adam(model.parameters(), lr=lr, weight_decay=weight_decay)\n",
    "\n",
    "    train_mask  = data['train_mask']\n",
    "    test_mask   = data['test_mask']\n",
    "    val_mask    = data['val_mask']\n",
    "\n",
    "    labels    = data.y\n",
    "    output = ''\n",
    "\n",
    "    # list to plot the train accuracy\n",
    "    train_acc_curve = []\n",
    "    train_lss_curve = []\n",
    "\n",
    "    best_train_acc  = 0\n",
    "    best_val_acc    = 0\n",
    "    # best_test_acc   = 0\n",
    "    best_train_lss  = 999\n",
    "\n",
    "    for e in tqdm(range(epochs+1)):\n",
    "        model.train()\n",
    "        optimizer.zero_grad()\n",
    "        logits      = model(data)\n",
    "        output      = logits.argmax(1)\n",
    "        # train_loss  = F.cross_entropy(logits[train_mask], labels[train_mask])\n",
    "        train_loss  = F.nll_loss(logits[train_mask], labels[train_mask])\n",
    "        train_acc   = (output[train_mask] == labels[train_mask]).float().mean()\n",
    "        train_loss.backward()\n",
    "        optimizer.step()\n",
    "\n",
    "        # Append train acc. to plot curve later\n",
    "        train_acc_curve.append(train_acc.item())\n",
    "        train_lss_curve.append(train_loss.item())\n",
    "\n",
    "        if train_acc > best_train_acc:\n",
    "            best_train_acc = train_acc\n",
    "\n",
    "        # Evaluation and test\n",
    "        model.eval()\n",
    "        logits      = model(data)\n",
    "        output      = logits.argmax(1)\n",
    "        # val_loss    = F.cross_entropy(logits[val_mask], labels[val_mask])\n",
    "        val_loss    = F.nll_loss(logits[val_mask], labels[val_mask])\n",
    "        val_acc     = (output[val_mask] == labels[val_mask]).float().mean()\n",
    "        # test_acc    = (output[test_mask] == labels[test_mask]).float().mean()\n",
    "\n",
    "        # Update best test/val acc.\n",
    "        if val_acc > best_val_acc:\n",
    "            best_val_acc = val_acc\n",
    "        \n",
    "        # if test_acc > best_test_acc:\n",
    "        #     best_test_acc = test_acc\n",
    "        \n",
    "        # Save model with best train loss\n",
    "        if train_loss < best_train_lss:\n",
    "            best_train_lss = train_loss\n",
    "            torch.save(model.state_dict(), model_path)\n",
    "\n",
    "        if e % 20 == 0 or e == epochs:\n",
    "            print('[Epoch: {:04d}]'.format(e),\n",
    "            'train loss: {:.4f},'.format(train_loss.item()),\n",
    "            'train acc: {:.4f},'.format(train_acc.item()),\n",
    "            'val loss: {:.4f},'.format(val_loss.item()),\n",
    "            'val acc: {:.4f} '.format(val_acc.item()),\n",
    "            '(best train acc: {:.4f},'.format(best_train_acc.item()),\n",
    "            'best val acc: {:.4f},'.format(best_val_acc.item()),\n",
    "            'best train loss: {:.4f})'.format(best_train_lss))\n",
    "    \n",
    "    # Plot training accuracy curve\n",
    "    plt.figure(figsize = (12,7))\n",
    "    plt.plot(train_acc_curve)\n",
    "    plt.xlabel('Epoch')\n",
    "    plt.ylabel('Train Accuracy')\n",
    "    plt.show()\n",
    "\n",
    "    plt.figure(figsize = (12,7))\n",
    "    plt.plot(train_lss_curve)\n",
    "    plt.xlabel('Epoch')\n",
    "    plt.ylabel('Train Loss')\n",
    "    plt.show()\n",
    "\n",
    "    # Load best model\n",
    "    loaded_model = GNN7L_SAGEConv(data).to(device)\n",
    "    loaded_model.load_state_dict(torch.load(model_path))\n",
    "    loaded_model.eval()\n",
    "    logits = loaded_model(data)\n",
    "    output = logits.argmax(1)\n",
    "\n",
    "    print(classification_report(labels[test_mask].to('cpu'), output[test_mask].to('cpu')))\n",
    "\n",
    "    class_report = classification_report(labels[test_mask].to('cpu'), output[test_mask].to('cpu'), output_dict=True)\n",
    "    classification_report_dataframe = pd.DataFrame(class_report)\n",
    "    #classification_report_dataframe.to_csv(report_path)\n",
    "\n",
    "    #Confusion Matrix\n",
    "    norms = [None, \"true\"]\n",
    "    for norm in norms:\n",
    "        cm = confusion_matrix(labels[test_mask].to('cpu'), output[test_mask].to('cpu'), normalize=norm)\n",
    "\n",
    "        plt.figure(figsize=(7,7))\n",
    "        \n",
    "        if norm == \"true\":\n",
    "            sn.heatmap(cm, annot=True, fmt=\".3f\", linewidths=.5, square = True, cmap = 'BuPu', xticklabels = ['U', 'P'], yticklabels = ['U', 'P'])\n",
    "        else:\n",
    "            sn.heatmap(cm, annot=True, fmt=\".0f\", linewidths=.5, square = True, cmap = 'BuPu', xticklabels = ['U', 'P'], yticklabels = ['U', 'P'])\n",
    "        plt.title(cm_title)\n",
    "        plt.ylabel('Actual label')\n",
    "        plt.xlabel('Predicted label')\n",
    "\n",
    "        #if norm == None:\n",
    "        #    plt.savefig(image_path + '_notNorm.png')\n",
    "        #else:\n",
    "        #    plt.savefig(image_path + '_Norm.png')\n",
    "\n",
    "    return output"
   ]
  },
  {
   "cell_type": "markdown",
   "metadata": {},
   "source": [
    "## NeDBIT Binary"
   ]
  },
  {
   "cell_type": "code",
   "execution_count": 5,
   "metadata": {},
   "outputs": [],
   "source": [
    "G = nx.read_gml('../Graphs/grafo_nedbit_C0006142.gml')\n",
    "\n",
    "# Take the labels from the class column of the features' file\n",
    "labels_df = pd.read_csv('../Datasets/C0006142_features.csv')\n",
    "labels_df = dict(zip(labels_df['name'], labels_df['class']))\n",
    "\n",
    "labels = []\n",
    "\n",
    "for node in G:\n",
    "    labels.append(labels_df[node])\n",
    "\n",
    "labels = np.asarray(labels)"
   ]
  },
  {
   "cell_type": "code",
   "execution_count": 6,
   "metadata": {},
   "outputs": [
    {
     "name": "stdout",
     "output_type": "stream",
     "text": [
      "19761\n"
     ]
    },
    {
     "data": {
      "image/png": "[encoded data removed]",
      "text/plain": [
       "<Figure size 432x288 with 1 Axes>"
      ]
     },
     "metadata": {
      "needs_background": "light"
     },
     "output_type": "display_data"
    }
   ],
   "source": [
    "print(len(labels))\n",
    "plt.hist(labels)\n",
    "plt.show()"
   ]
  },
  {
   "cell_type": "code",
   "execution_count": 7,
   "metadata": {},
   "outputs": [
    {
     "data": {
      "image/png": "[encoded data removed]",
      "text/plain": [
       "<Figure size 432x288 with 1 Axes>"
      ]
     },
     "metadata": {
      "needs_background": "light"
     },
     "output_type": "display_data"
    }
   ],
   "source": [
    "attributes = ['degree', 'ring', 'NetRank', 'NetShort', 'HeatDiff', 'InfoDiff']\n",
    "\n",
    "dataset_with_nedbit = MyDataset(G, labels, attributes, num_classes=2)\n",
    "data_with_nedbit = dataset_with_nedbit[0]\n",
    "\n",
    "plt.hist(labels)\n",
    "plt.show()"
   ]
  },
  {
   "cell_type": "markdown",
   "metadata": {},
   "source": [
    "### 7 Layers"
   ]
  },
  {
   "cell_type": "code",
   "execution_count": 15,
   "metadata": {},
   "outputs": [
    {
     "data": {
      "application/vnd.jupyter.widget-view+json": {
       "model_id": "b7556361ccef44ba954612eb65a1066e",
       "version_major": 2,
       "version_minor": 0
      },
      "text/plain": [
       "  0%|          | 0/3001 [00:00<?, ?it/s]"
      ]
     },
     "metadata": {},
     "output_type": "display_data"
    },
    {
     "name": "stdout",
     "output_type": "stream",
     "text": [
      "[Epoch: 0000] train loss: 242.1046, train acc: 0.0749, val loss: 77.0094, val acc: 0.0519  (best train acc: 0.0749, best val acc: 0.0519, best train loss: 242.1046)\n",
      "[Epoch: 0020] train loss: 17.2797, train acc: 0.9104, val loss: 7.5560, val acc: 0.9481  (best train acc: 0.9401, best val acc: 0.9481, best train loss: 15.5535)\n",
      "[Epoch: 0040] train loss: 10.8166, train acc: 0.9091, val loss: 4.7596, val acc: 0.9481  (best train acc: 0.9401, best val acc: 0.9481, best train loss: 10.6983)\n",
      "[Epoch: 0060] train loss: 5.3696, train acc: 0.8829, val loss: 1.9584, val acc: 0.9481  (best train acc: 0.9401, best val acc: 0.9481, best train loss: 5.3696)\n",
      "[Epoch: 0080] train loss: 2.6429, train acc: 0.8814, val loss: 0.8550, val acc: 0.9481  (best train acc: 0.9401, best val acc: 0.9481, best train loss: 2.5593)\n",
      "[Epoch: 0100] train loss: 0.8402, train acc: 0.8964, val loss: 0.2193, val acc: 0.9312  (best train acc: 0.9401, best val acc: 0.9481, best train loss: 0.8402)\n",
      "[Epoch: 0120] train loss: 0.2536, train acc: 0.9294, val loss: 0.2677, val acc: 0.9447  (best train acc: 0.9401, best val acc: 0.9481, best train loss: 0.2536)\n",
      "[Epoch: 0140] train loss: 0.2376, train acc: 0.9369, val loss: 0.2637, val acc: 0.9447  (best train acc: 0.9401, best val acc: 0.9481, best train loss: 0.2363)\n",
      "[Epoch: 0160] train loss: 0.2273, train acc: 0.9406, val loss: 0.2604, val acc: 0.9454  (best train acc: 0.9409, best val acc: 0.9481, best train loss: 0.2273)\n",
      "[Epoch: 0180] train loss: 0.2277, train acc: 0.9420, val loss: 0.2488, val acc: 0.9464  (best train acc: 0.9435, best val acc: 0.9481, best train loss: 0.2187)\n",
      "[Epoch: 0200] train loss: 0.2186, train acc: 0.9421, val loss: 0.2419, val acc: 0.9457  (best train acc: 0.9438, best val acc: 0.9481, best train loss: 0.2167)\n",
      "[Epoch: 0220] train loss: 0.2174, train acc: 0.9435, val loss: 0.2381, val acc: 0.9470  (best train acc: 0.9448, best val acc: 0.9481, best train loss: 0.2118)\n",
      "[Epoch: 0240] train loss: 0.2011, train acc: 0.9453, val loss: 0.2359, val acc: 0.9467  (best train acc: 0.9453, best val acc: 0.9481, best train loss: 0.2011)\n",
      "[Epoch: 0260] train loss: 0.2020, train acc: 0.9459, val loss: 0.2312, val acc: 0.9474  (best train acc: 0.9469, best val acc: 0.9481, best train loss: 0.2010)\n",
      "[Epoch: 0280] train loss: 0.1978, train acc: 0.9470, val loss: 0.2330, val acc: 0.9477  (best train acc: 0.9472, best val acc: 0.9481, best train loss: 0.1978)\n",
      "[Epoch: 0300] train loss: 0.1955, train acc: 0.9473, val loss: 0.2283, val acc: 0.9491  (best train acc: 0.9476, best val acc: 0.9491, best train loss: 0.1905)\n",
      "[Epoch: 0320] train loss: 0.1920, train acc: 0.9472, val loss: 0.2235, val acc: 0.9484  (best train acc: 0.9477, best val acc: 0.9491, best train loss: 0.1905)\n",
      "[Epoch: 0340] train loss: 0.1939, train acc: 0.9481, val loss: 0.2195, val acc: 0.9494  (best train acc: 0.9482, best val acc: 0.9494, best train loss: 0.1900)\n",
      "[Epoch: 0360] train loss: 0.1887, train acc: 0.9477, val loss: 0.2081, val acc: 0.9477  (best train acc: 0.9484, best val acc: 0.9494, best train loss: 0.1874)\n",
      "[Epoch: 0380] train loss: 0.1878, train acc: 0.9485, val loss: 0.2059, val acc: 0.9491  (best train acc: 0.9493, best val acc: 0.9501, best train loss: 0.1857)\n",
      "[Epoch: 0400] train loss: 0.1764, train acc: 0.9491, val loss: 0.2049, val acc: 0.9508  (best train acc: 0.9500, best val acc: 0.9511, best train loss: 0.1764)\n",
      "[Epoch: 0420] train loss: 0.1704, train acc: 0.9505, val loss: 0.1752, val acc: 0.9528  (best train acc: 0.9508, best val acc: 0.9528, best train loss: 0.1696)\n",
      "[Epoch: 0440] train loss: 0.1638, train acc: 0.9511, val loss: 0.1567, val acc: 0.9535  (best train acc: 0.9520, best val acc: 0.9535, best train loss: 0.1632)\n",
      "[Epoch: 0460] train loss: 0.1613, train acc: 0.9519, val loss: 0.1508, val acc: 0.9528  (best train acc: 0.9521, best val acc: 0.9535, best train loss: 0.1598)\n",
      "[Epoch: 0480] train loss: 0.1595, train acc: 0.9518, val loss: 0.1500, val acc: 0.9541  (best train acc: 0.9524, best val acc: 0.9541, best train loss: 0.1589)\n",
      "[Epoch: 0500] train loss: 0.1619, train acc: 0.9511, val loss: 0.1435, val acc: 0.9531  (best train acc: 0.9524, best val acc: 0.9541, best train loss: 0.1589)\n",
      "[Epoch: 0520] train loss: 0.1598, train acc: 0.9507, val loss: 0.1401, val acc: 0.9535  (best train acc: 0.9526, best val acc: 0.9541, best train loss: 0.1558)\n",
      "[Epoch: 0540] train loss: 0.1555, train acc: 0.9518, val loss: 0.1394, val acc: 0.9541  (best train acc: 0.9526, best val acc: 0.9548, best train loss: 0.1536)\n",
      "[Epoch: 0560] train loss: 0.1515, train acc: 0.9526, val loss: 0.1406, val acc: 0.9568  (best train acc: 0.9532, best val acc: 0.9575, best train loss: 0.1505)\n",
      "[Epoch: 0580] train loss: 0.1489, train acc: 0.9523, val loss: 0.1336, val acc: 0.9555  (best train acc: 0.9542, best val acc: 0.9575, best train loss: 0.1464)\n",
      "[Epoch: 0600] train loss: 0.1462, train acc: 0.9532, val loss: 0.1306, val acc: 0.9551  (best train acc: 0.9542, best val acc: 0.9575, best train loss: 0.1434)\n",
      "[Epoch: 0620] train loss: 0.1453, train acc: 0.9542, val loss: 0.1299, val acc: 0.9562  (best train acc: 0.9542, best val acc: 0.9575, best train loss: 0.1423)\n",
      "[Epoch: 0640] train loss: 0.1434, train acc: 0.9524, val loss: 0.1291, val acc: 0.9585  (best train acc: 0.9545, best val acc: 0.9585, best train loss: 0.1418)\n",
      "[Epoch: 0660] train loss: 0.1430, train acc: 0.9532, val loss: 0.1269, val acc: 0.9562  (best train acc: 0.9548, best val acc: 0.9589, best train loss: 0.1403)\n",
      "[Epoch: 0680] train loss: 0.1435, train acc: 0.9536, val loss: 0.1255, val acc: 0.9558  (best train acc: 0.9548, best val acc: 0.9595, best train loss: 0.1403)\n",
      "[Epoch: 0700] train loss: 0.1451, train acc: 0.9532, val loss: 0.1251, val acc: 0.9558  (best train acc: 0.9548, best val acc: 0.9595, best train loss: 0.1395)\n",
      "[Epoch: 0720] train loss: 0.1414, train acc: 0.9536, val loss: 0.1248, val acc: 0.9565  (best train acc: 0.9555, best val acc: 0.9595, best train loss: 0.1384)\n",
      "[Epoch: 0740] train loss: 0.1409, train acc: 0.9546, val loss: 0.1238, val acc: 0.9558  (best train acc: 0.9559, best val acc: 0.9595, best train loss: 0.1378)\n",
      "[Epoch: 0760] train loss: 0.1379, train acc: 0.9539, val loss: 0.1243, val acc: 0.9572  (best train acc: 0.9559, best val acc: 0.9595, best train loss: 0.1370)\n",
      "[Epoch: 0780] train loss: 0.1390, train acc: 0.9550, val loss: 0.1229, val acc: 0.9572  (best train acc: 0.9559, best val acc: 0.9595, best train loss: 0.1358)\n",
      "[Epoch: 0800] train loss: 0.1393, train acc: 0.9542, val loss: 0.1227, val acc: 0.9565  (best train acc: 0.9559, best val acc: 0.9595, best train loss: 0.1358)\n",
      "[Epoch: 0820] train loss: 0.1370, train acc: 0.9543, val loss: 0.1215, val acc: 0.9575  (best train acc: 0.9559, best val acc: 0.9595, best train loss: 0.1355)\n",
      "[Epoch: 0840] train loss: 0.1363, train acc: 0.9552, val loss: 0.1221, val acc: 0.9582  (best train acc: 0.9561, best val acc: 0.9595, best train loss: 0.1336)\n",
      "[Epoch: 0860] train loss: 0.1346, train acc: 0.9555, val loss: 0.1210, val acc: 0.9585  (best train acc: 0.9564, best val acc: 0.9595, best train loss: 0.1329)\n",
      "[Epoch: 0880] train loss: 0.1363, train acc: 0.9542, val loss: 0.1189, val acc: 0.9568  (best train acc: 0.9564, best val acc: 0.9595, best train loss: 0.1320)\n",
      "[Epoch: 0900] train loss: 0.1330, train acc: 0.9558, val loss: 0.1176, val acc: 0.9575  (best train acc: 0.9569, best val acc: 0.9595, best train loss: 0.1298)\n",
      "[Epoch: 0920] train loss: 0.1329, train acc: 0.9556, val loss: 0.1168, val acc: 0.9578  (best train acc: 0.9572, best val acc: 0.9595, best train loss: 0.1298)\n",
      "[Epoch: 0940] train loss: 0.1330, train acc: 0.9548, val loss: 0.1159, val acc: 0.9589  (best train acc: 0.9572, best val acc: 0.9595, best train loss: 0.1298)\n",
      "[Epoch: 0960] train loss: 0.1312, train acc: 0.9561, val loss: 0.1157, val acc: 0.9589  (best train acc: 0.9573, best val acc: 0.9595, best train loss: 0.1289)\n",
      "[Epoch: 0980] train loss: 0.1302, train acc: 0.9559, val loss: 0.1136, val acc: 0.9592  (best train acc: 0.9579, best val acc: 0.9602, best train loss: 0.1269)\n",
      "[Epoch: 1000] train loss: 0.1293, train acc: 0.9563, val loss: 0.1123, val acc: 0.9595  (best train acc: 0.9579, best val acc: 0.9619, best train loss: 0.1265)\n",
      "[Epoch: 1020] train loss: 0.1281, train acc: 0.9564, val loss: 0.1111, val acc: 0.9605  (best train acc: 0.9581, best val acc: 0.9619, best train loss: 0.1246)\n",
      "[Epoch: 1040] train loss: 0.1251, train acc: 0.9577, val loss: 0.1101, val acc: 0.9602  (best train acc: 0.9593, best val acc: 0.9619, best train loss: 0.1229)\n",
      "[Epoch: 1060] train loss: 0.1251, train acc: 0.9584, val loss: 0.1073, val acc: 0.9612  (best train acc: 0.9594, best val acc: 0.9626, best train loss: 0.1215)\n",
      "[Epoch: 1080] train loss: 0.1217, train acc: 0.9582, val loss: 0.0999, val acc: 0.9632  (best train acc: 0.9594, best val acc: 0.9632, best train loss: 0.1201)\n",
      "[Epoch: 1100] train loss: 0.1138, train acc: 0.9602, val loss: 0.0887, val acc: 0.9653  (best train acc: 0.9610, best val acc: 0.9653, best train loss: 0.1138)\n",
      "[Epoch: 1120] train loss: 0.1129, train acc: 0.9598, val loss: 0.0839, val acc: 0.9646  (best train acc: 0.9612, best val acc: 0.9663, best train loss: 0.1086)\n",
      "[Epoch: 1140] train loss: 0.1092, train acc: 0.9589, val loss: 0.0820, val acc: 0.9649  (best train acc: 0.9624, best val acc: 0.9663, best train loss: 0.1060)\n",
      "[Epoch: 1160] train loss: 0.1086, train acc: 0.9600, val loss: 0.0803, val acc: 0.9653  (best train acc: 0.9624, best val acc: 0.9663, best train loss: 0.1046)\n",
      "[Epoch: 1180] train loss: 0.1039, train acc: 0.9615, val loss: 0.0792, val acc: 0.9669  (best train acc: 0.9624, best val acc: 0.9669, best train loss: 0.1033)\n",
      "[Epoch: 1200] train loss: 0.1030, train acc: 0.9610, val loss: 0.0750, val acc: 0.9656  (best train acc: 0.9626, best val acc: 0.9669, best train loss: 0.1013)\n",
      "[Epoch: 1220] train loss: 0.1045, train acc: 0.9609, val loss: 0.0732, val acc: 0.9656  (best train acc: 0.9635, best val acc: 0.9669, best train loss: 0.1003)\n",
      "[Epoch: 1240] train loss: 0.1012, train acc: 0.9633, val loss: 0.0723, val acc: 0.9659  (best train acc: 0.9635, best val acc: 0.9669, best train loss: 0.0971)\n",
      "[Epoch: 1260] train loss: 0.1001, train acc: 0.9629, val loss: 0.0712, val acc: 0.9653  (best train acc: 0.9639, best val acc: 0.9669, best train loss: 0.0970)\n",
      "[Epoch: 1280] train loss: 0.0953, train acc: 0.9639, val loss: 0.0707, val acc: 0.9666  (best train acc: 0.9639, best val acc: 0.9680, best train loss: 0.0953)\n",
      "[Epoch: 1300] train loss: 0.0968, train acc: 0.9623, val loss: 0.0679, val acc: 0.9659  (best train acc: 0.9640, best val acc: 0.9683, best train loss: 0.0945)\n",
      "[Epoch: 1320] train loss: 0.0922, train acc: 0.9640, val loss: 0.0655, val acc: 0.9673  (best train acc: 0.9644, best val acc: 0.9683, best train loss: 0.0922)\n",
      "[Epoch: 1340] train loss: 0.0882, train acc: 0.9657, val loss: 0.0616, val acc: 0.9680  (best train acc: 0.9675, best val acc: 0.9700, best train loss: 0.0872)\n",
      "[Epoch: 1360] train loss: 0.0855, train acc: 0.9641, val loss: 0.0542, val acc: 0.9727  (best train acc: 0.9686, best val acc: 0.9737, best train loss: 0.0821)\n",
      "[Epoch: 1380] train loss: 0.0814, train acc: 0.9676, val loss: 0.0514, val acc: 0.9730  (best train acc: 0.9686, best val acc: 0.9774, best train loss: 0.0792)\n",
      "[Epoch: 1400] train loss: 0.0741, train acc: 0.9674, val loss: 0.0478, val acc: 0.9781  (best train acc: 0.9686, best val acc: 0.9794, best train loss: 0.0741)\n",
      "[Epoch: 1420] train loss: 0.0764, train acc: 0.9675, val loss: 0.0471, val acc: 0.9784  (best train acc: 0.9706, best val acc: 0.9804, best train loss: 0.0723)\n",
      "[Epoch: 1440] train loss: 0.0713, train acc: 0.9699, val loss: 0.0445, val acc: 0.9794  (best train acc: 0.9706, best val acc: 0.9828, best train loss: 0.0713)\n",
      "[Epoch: 1460] train loss: 0.0721, train acc: 0.9692, val loss: 0.0449, val acc: 0.9791  (best train acc: 0.9717, best val acc: 0.9831, best train loss: 0.0701)\n",
      "[Epoch: 1480] train loss: 0.0677, train acc: 0.9679, val loss: 0.0419, val acc: 0.9811  (best train acc: 0.9717, best val acc: 0.9835, best train loss: 0.0675)\n",
      "[Epoch: 1500] train loss: 0.0698, train acc: 0.9685, val loss: 0.0440, val acc: 0.9734  (best train acc: 0.9717, best val acc: 0.9862, best train loss: 0.0675)\n",
      "[Epoch: 1520] train loss: 0.0686, train acc: 0.9688, val loss: 0.0402, val acc: 0.9804  (best train acc: 0.9730, best val acc: 0.9862, best train loss: 0.0653)\n",
      "[Epoch: 1540] train loss: 0.0677, train acc: 0.9700, val loss: 0.0396, val acc: 0.9801  (best train acc: 0.9730, best val acc: 0.9862, best train loss: 0.0653)\n",
      "[Epoch: 1560] train loss: 0.0567, train acc: 0.9782, val loss: 0.0374, val acc: 0.9875  (best train acc: 0.9782, best val acc: 0.9889, best train loss: 0.0560)\n",
      "[Epoch: 1580] train loss: 0.0543, train acc: 0.9782, val loss: 0.0368, val acc: 0.9892  (best train acc: 0.9803, best val acc: 0.9912, best train loss: 0.0531)\n",
      "[Epoch: 1600] train loss: 0.0520, train acc: 0.9795, val loss: 0.0348, val acc: 0.9885  (best train acc: 0.9808, best val acc: 0.9926, best train loss: 0.0500)\n",
      "[Epoch: 1620] train loss: 0.0512, train acc: 0.9793, val loss: 0.0332, val acc: 0.9892  (best train acc: 0.9812, best val acc: 0.9933, best train loss: 0.0486)\n",
      "[Epoch: 1640] train loss: 0.0497, train acc: 0.9797, val loss: 0.0320, val acc: 0.9899  (best train acc: 0.9821, best val acc: 0.9936, best train loss: 0.0473)\n",
      "[Epoch: 1660] train loss: 0.0452, train acc: 0.9811, val loss: 0.0295, val acc: 0.9909  (best train acc: 0.9832, best val acc: 0.9936, best train loss: 0.0452)\n",
      "[Epoch: 1680] train loss: 0.0461, train acc: 0.9825, val loss: 0.0285, val acc: 0.9933  (best train acc: 0.9832, best val acc: 0.9936, best train loss: 0.0452)\n",
      "[Epoch: 1700] train loss: 0.0478, train acc: 0.9811, val loss: 0.0280, val acc: 0.9933  (best train acc: 0.9837, best val acc: 0.9939, best train loss: 0.0443)\n",
      "[Epoch: 1720] train loss: 0.0450, train acc: 0.9823, val loss: 0.0260, val acc: 0.9936  (best train acc: 0.9837, best val acc: 0.9939, best train loss: 0.0431)\n",
      "[Epoch: 1740] train loss: 0.0461, train acc: 0.9807, val loss: 0.0290, val acc: 0.9906  (best train acc: 0.9840, best val acc: 0.9939, best train loss: 0.0421)\n",
      "[Epoch: 1760] train loss: 0.0465, train acc: 0.9813, val loss: 0.0283, val acc: 0.9933  (best train acc: 0.9845, best val acc: 0.9939, best train loss: 0.0412)\n",
      "[Epoch: 1780] train loss: 0.0436, train acc: 0.9824, val loss: 0.0295, val acc: 0.9902  (best train acc: 0.9848, best val acc: 0.9943, best train loss: 0.0399)\n",
      "[Epoch: 1800] train loss: 0.0483, train acc: 0.9800, val loss: 0.0276, val acc: 0.9933  (best train acc: 0.9848, best val acc: 0.9943, best train loss: 0.0399)\n",
      "[Epoch: 1820] train loss: 0.0437, train acc: 0.9821, val loss: 0.0252, val acc: 0.9936  (best train acc: 0.9848, best val acc: 0.9943, best train loss: 0.0399)\n",
      "[Epoch: 1840] train loss: 0.0425, train acc: 0.9833, val loss: 0.0256, val acc: 0.9929  (best train acc: 0.9848, best val acc: 0.9943, best train loss: 0.0399)\n",
      "[Epoch: 1860] train loss: 0.0405, train acc: 0.9838, val loss: 0.0256, val acc: 0.9926  (best train acc: 0.9848, best val acc: 0.9943, best train loss: 0.0399)\n",
      "[Epoch: 1880] train loss: 0.0461, train acc: 0.9816, val loss: 0.0275, val acc: 0.9906  (best train acc: 0.9848, best val acc: 0.9943, best train loss: 0.0399)\n",
      "[Epoch: 1900] train loss: 0.0436, train acc: 0.9818, val loss: 0.0263, val acc: 0.9926  (best train acc: 0.9848, best val acc: 0.9943, best train loss: 0.0396)\n",
      "[Epoch: 1920] train loss: 0.0427, train acc: 0.9817, val loss: 0.0253, val acc: 0.9936  (best train acc: 0.9848, best val acc: 0.9943, best train loss: 0.0388)\n",
      "[Epoch: 1940] train loss: 0.0407, train acc: 0.9835, val loss: 0.0234, val acc: 0.9943  (best train acc: 0.9849, best val acc: 0.9943, best train loss: 0.0387)\n",
      "[Epoch: 1960] train loss: 0.0421, train acc: 0.9820, val loss: 0.0249, val acc: 0.9929  (best train acc: 0.9849, best val acc: 0.9943, best train loss: 0.0387)\n",
      "[Epoch: 1980] train loss: 0.0407, train acc: 0.9838, val loss: 0.0241, val acc: 0.9939  (best train acc: 0.9849, best val acc: 0.9943, best train loss: 0.0375)\n",
      "[Epoch: 2000] train loss: 0.0404, train acc: 0.9837, val loss: 0.0255, val acc: 0.9926  (best train acc: 0.9853, best val acc: 0.9943, best train loss: 0.0375)\n",
      "[Epoch: 2020] train loss: 0.0420, train acc: 0.9822, val loss: 0.0275, val acc: 0.9919  (best train acc: 0.9853, best val acc: 0.9943, best train loss: 0.0371)\n",
      "[Epoch: 2040] train loss: 0.0401, train acc: 0.9836, val loss: 0.0235, val acc: 0.9939  (best train acc: 0.9860, best val acc: 0.9946, best train loss: 0.0371)\n",
      "[Epoch: 2060] train loss: 0.0388, train acc: 0.9837, val loss: 0.0265, val acc: 0.9916  (best train acc: 0.9860, best val acc: 0.9946, best train loss: 0.0371)\n",
      "[Epoch: 2080] train loss: 0.0382, train acc: 0.9849, val loss: 0.0246, val acc: 0.9933  (best train acc: 0.9860, best val acc: 0.9946, best train loss: 0.0371)\n",
      "[Epoch: 2100] train loss: 0.0410, train acc: 0.9827, val loss: 0.0239, val acc: 0.9936  (best train acc: 0.9860, best val acc: 0.9946, best train loss: 0.0371)\n",
      "[Epoch: 2120] train loss: 0.0383, train acc: 0.9847, val loss: 0.0256, val acc: 0.9933  (best train acc: 0.9860, best val acc: 0.9946, best train loss: 0.0366)\n",
      "[Epoch: 2140] train loss: 0.0397, train acc: 0.9844, val loss: 0.0238, val acc: 0.9946  (best train acc: 0.9860, best val acc: 0.9946, best train loss: 0.0354)\n",
      "[Epoch: 2160] train loss: 0.0391, train acc: 0.9842, val loss: 0.0247, val acc: 0.9933  (best train acc: 0.9860, best val acc: 0.9946, best train loss: 0.0354)\n",
      "[Epoch: 2180] train loss: 0.0367, train acc: 0.9847, val loss: 0.0243, val acc: 0.9933  (best train acc: 0.9862, best val acc: 0.9946, best train loss: 0.0353)\n",
      "[Epoch: 2200] train loss: 0.0380, train acc: 0.9850, val loss: 0.0247, val acc: 0.9933  (best train acc: 0.9863, best val acc: 0.9946, best train loss: 0.0349)\n",
      "[Epoch: 2220] train loss: 0.0377, train acc: 0.9841, val loss: 0.0240, val acc: 0.9946  (best train acc: 0.9863, best val acc: 0.9949, best train loss: 0.0349)\n",
      "[Epoch: 2240] train loss: 0.0399, train acc: 0.9840, val loss: 0.0239, val acc: 0.9943  (best train acc: 0.9869, best val acc: 0.9949, best train loss: 0.0340)\n",
      "[Epoch: 2260] train loss: 0.0362, train acc: 0.9842, val loss: 0.0244, val acc: 0.9933  (best train acc: 0.9869, best val acc: 0.9949, best train loss: 0.0340)\n",
      "[Epoch: 2280] train loss: 0.0349, train acc: 0.9861, val loss: 0.0231, val acc: 0.9943  (best train acc: 0.9869, best val acc: 0.9949, best train loss: 0.0340)\n",
      "[Epoch: 2300] train loss: 0.0379, train acc: 0.9843, val loss: 0.0234, val acc: 0.9943  (best train acc: 0.9872, best val acc: 0.9949, best train loss: 0.0331)\n",
      "[Epoch: 2320] train loss: 0.0367, train acc: 0.9851, val loss: 0.0239, val acc: 0.9936  (best train acc: 0.9872, best val acc: 0.9949, best train loss: 0.0331)\n",
      "[Epoch: 2340] train loss: 0.0377, train acc: 0.9838, val loss: 0.0218, val acc: 0.9949  (best train acc: 0.9872, best val acc: 0.9949, best train loss: 0.0331)\n",
      "[Epoch: 2360] train loss: 0.0368, train acc: 0.9839, val loss: 0.0233, val acc: 0.9949  (best train acc: 0.9872, best val acc: 0.9949, best train loss: 0.0331)\n",
      "[Epoch: 2380] train loss: 0.0381, train acc: 0.9838, val loss: 0.0244, val acc: 0.9943  (best train acc: 0.9872, best val acc: 0.9949, best train loss: 0.0331)\n",
      "[Epoch: 2400] train loss: 0.0364, train acc: 0.9852, val loss: 0.0232, val acc: 0.9946  (best train acc: 0.9872, best val acc: 0.9949, best train loss: 0.0331)\n",
      "[Epoch: 2420] train loss: 0.0373, train acc: 0.9845, val loss: 0.0238, val acc: 0.9946  (best train acc: 0.9872, best val acc: 0.9949, best train loss: 0.0331)\n",
      "[Epoch: 2440] train loss: 0.0364, train acc: 0.9846, val loss: 0.0226, val acc: 0.9946  (best train acc: 0.9872, best val acc: 0.9949, best train loss: 0.0331)\n",
      "[Epoch: 2460] train loss: 0.0377, train acc: 0.9834, val loss: 0.0236, val acc: 0.9946  (best train acc: 0.9872, best val acc: 0.9953, best train loss: 0.0331)\n",
      "[Epoch: 2480] train loss: 0.0350, train acc: 0.9860, val loss: 0.0224, val acc: 0.9946  (best train acc: 0.9872, best val acc: 0.9953, best train loss: 0.0331)\n",
      "[Epoch: 2500] train loss: 0.0388, train acc: 0.9826, val loss: 0.0237, val acc: 0.9949  (best train acc: 0.9872, best val acc: 0.9953, best train loss: 0.0331)\n",
      "[Epoch: 2520] train loss: 0.0353, train acc: 0.9857, val loss: 0.0227, val acc: 0.9949  (best train acc: 0.9872, best val acc: 0.9953, best train loss: 0.0330)\n",
      "[Epoch: 2540] train loss: 0.0374, train acc: 0.9851, val loss: 0.0226, val acc: 0.9953  (best train acc: 0.9875, best val acc: 0.9953, best train loss: 0.0330)\n",
      "[Epoch: 2560] train loss: 0.0376, train acc: 0.9844, val loss: 0.0254, val acc: 0.9929  (best train acc: 0.9876, best val acc: 0.9956, best train loss: 0.0323)\n",
      "[Epoch: 2580] train loss: 0.0353, train acc: 0.9857, val loss: 0.0232, val acc: 0.9943  (best train acc: 0.9876, best val acc: 0.9956, best train loss: 0.0323)\n",
      "[Epoch: 2600] train loss: 0.0354, train acc: 0.9856, val loss: 0.0213, val acc: 0.9949  (best train acc: 0.9876, best val acc: 0.9956, best train loss: 0.0323)\n",
      "[Epoch: 2620] train loss: 0.0351, train acc: 0.9853, val loss: 0.0239, val acc: 0.9946  (best train acc: 0.9876, best val acc: 0.9960, best train loss: 0.0323)\n",
      "[Epoch: 2640] train loss: 0.0363, train acc: 0.9852, val loss: 0.0222, val acc: 0.9946  (best train acc: 0.9876, best val acc: 0.9960, best train loss: 0.0311)\n",
      "[Epoch: 2660] train loss: 0.0371, train acc: 0.9840, val loss: 0.0225, val acc: 0.9949  (best train acc: 0.9879, best val acc: 0.9960, best train loss: 0.0311)\n",
      "[Epoch: 2680] train loss: 0.0340, train acc: 0.9860, val loss: 0.0227, val acc: 0.9949  (best train acc: 0.9879, best val acc: 0.9960, best train loss: 0.0311)\n",
      "[Epoch: 2700] train loss: 0.0343, train acc: 0.9856, val loss: 0.0209, val acc: 0.9956  (best train acc: 0.9879, best val acc: 0.9960, best train loss: 0.0311)\n",
      "[Epoch: 2720] train loss: 0.0357, train acc: 0.9853, val loss: 0.0214, val acc: 0.9956  (best train acc: 0.9879, best val acc: 0.9970, best train loss: 0.0311)\n",
      "[Epoch: 2740] train loss: 0.0341, train acc: 0.9855, val loss: 0.0234, val acc: 0.9943  (best train acc: 0.9879, best val acc: 0.9970, best train loss: 0.0311)\n",
      "[Epoch: 2760] train loss: 0.0348, train acc: 0.9858, val loss: 0.0213, val acc: 0.9963  (best train acc: 0.9885, best val acc: 0.9970, best train loss: 0.0306)\n",
      "[Epoch: 2780] train loss: 0.0348, train acc: 0.9851, val loss: 0.0218, val acc: 0.9949  (best train acc: 0.9885, best val acc: 0.9970, best train loss: 0.0306)\n",
      "[Epoch: 2800] train loss: 0.0355, train acc: 0.9855, val loss: 0.0217, val acc: 0.9949  (best train acc: 0.9885, best val acc: 0.9970, best train loss: 0.0306)\n",
      "[Epoch: 2820] train loss: 0.0333, train acc: 0.9861, val loss: 0.0214, val acc: 0.9949  (best train acc: 0.9885, best val acc: 0.9970, best train loss: 0.0306)\n",
      "[Epoch: 2840] train loss: 0.0345, train acc: 0.9853, val loss: 0.0223, val acc: 0.9956  (best train acc: 0.9885, best val acc: 0.9970, best train loss: 0.0306)\n",
      "[Epoch: 2860] train loss: 0.0329, train acc: 0.9861, val loss: 0.0199, val acc: 0.9956  (best train acc: 0.9885, best val acc: 0.9970, best train loss: 0.0306)\n",
      "[Epoch: 2880] train loss: 0.0332, train acc: 0.9861, val loss: 0.0208, val acc: 0.9956  (best train acc: 0.9885, best val acc: 0.9970, best train loss: 0.0306)\n",
      "[Epoch: 2900] train loss: 0.0327, train acc: 0.9874, val loss: 0.0216, val acc: 0.9949  (best train acc: 0.9885, best val acc: 0.9970, best train loss: 0.0306)\n",
      "[Epoch: 2920] train loss: 0.0345, train acc: 0.9861, val loss: 0.0223, val acc: 0.9949  (best train acc: 0.9885, best val acc: 0.9976, best train loss: 0.0306)\n",
      "[Epoch: 2940] train loss: 0.0343, train acc: 0.9858, val loss: 0.0212, val acc: 0.9956  (best train acc: 0.9885, best val acc: 0.9976, best train loss: 0.0306)\n",
      "[Epoch: 2960] train loss: 0.0350, train acc: 0.9847, val loss: 0.0217, val acc: 0.9949  (best train acc: 0.9885, best val acc: 0.9976, best train loss: 0.0306)\n",
      "[Epoch: 2980] train loss: 0.0343, train acc: 0.9851, val loss: 0.0228, val acc: 0.9953  (best train acc: 0.9885, best val acc: 0.9976, best train loss: 0.0304)\n",
      "[Epoch: 3000] train loss: 0.0346, train acc: 0.9855, val loss: 0.0194, val acc: 0.9963  (best train acc: 0.9885, best val acc: 0.9976, best train loss: 0.0304)\n"
     ]
    },
    {
     "data": {
      "image/png": "[encoded data removed]",
      "text/plain": [
       "<Figure size 864x504 with 1 Axes>"
      ]
     },
     "metadata": {
      "needs_background": "light"
     },
     "output_type": "display_data"
    },
    {
     "data": {
      "image/png": "[encoded data removed]",
      "text/plain": [
       "<Figure size 864x504 with 1 Axes>"
      ]
     },
     "metadata": {
      "needs_background": "light"
     },
     "output_type": "display_data"
    },
    {
     "name": "stdout",
     "output_type": "stream",
     "text": [
      "              precision    recall  f1-score   support\n",
      "\n",
      "           0       1.00      1.00      1.00      2810\n",
      "           1       1.00      0.95      0.97       154\n",
      "\n",
      "    accuracy                           1.00      2964\n",
      "   macro avg       1.00      0.97      0.99      2964\n",
      "weighted avg       1.00      1.00      1.00      2964\n",
      "\n"
     ]
    },
    {
     "data": {
      "image/png": "[encoded data removed]",
      "text/plain": [
       "<Figure size 504x504 with 2 Axes>"
      ]
     },
     "metadata": {
      "needs_background": "light"
     },
     "output_type": "display_data"
    },
    {
     "data": {
      "image/png": "[encoded data removed]",
      "text/plain": [
       "<Figure size 504x504 with 2 Axes>"
      ]
     },
     "metadata": {
      "needs_background": "light"
     },
     "output_type": "display_data"
    }
   ],
   "source": [
    "gnn_conv = GNN7L_SAGEConv(data_with_nedbit).to(device)\n",
    "pred = train(gnn_conv, data_with_nedbit.to(device), 3000, cm_title='SAGE7L_binary_16HC_v2', classes=['0','1'], weight_decay=0.005)"
   ]
  }
 ],
 "metadata": {
  "kernelspec": {
   "display_name": "Python 3.10.4 ('pytorch')",
   "language": "python",
   "name": "python3"
  },
  "language_info": {
   "codemirror_mode": {
    "name": "ipython",
    "version": 3
   },
   "file_extension": ".py",
   "mimetype": "text/x-python",
   "name": "python",
   "nbconvert_exporter": "python",
   "pygments_lexer": "ipython3",
   "version": "3.10.4"
  },
  "orig_nbformat": 4,
  "vscode": {
   "interpreter": {
    "hash": "6aeea6fe202f5c7201d5940e4573c0a76b23e4e16f0e3784ac81597546f2b3b3"
   }
  }
 },
 "nbformat": 4,
 "nbformat_minor": 2
}
