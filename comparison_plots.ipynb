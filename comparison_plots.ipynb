{
 "cells": [
  {
   "cell_type": "code",
   "execution_count": 1,
   "metadata": {},
   "outputs": [],
   "source": [
    "import pandas as pd\n",
    "import plotly.io as pio\n",
    "import plotly.express as px\n",
    "from tqdm.notebook import tqdm\n",
    "from sklearn.metrics import auc"
   ]
  },
  {
   "cell_type": "code",
   "execution_count": 2,
   "metadata": {},
   "outputs": [
    {
     "name": "stdout",
     "output_type": "stream",
     "text": [
      "Total disease used: 10\n",
      "Total methods used: 9\n"
     ]
    }
   ],
   "source": [
    "DISEASE_NAMES_OLD = [\"C0006142_Malignant_neoplasm_of_breast\",  \"C0009402_Colorectal_Carcinoma\", \\\n",
    "                     \"C0023893_Liver_Cirrhosis_Experimental\",\"C0376358_Malignant_neoplasm_of_prostate\", \\\n",
    "                     \"C0036341_Schizophrenia\"]\n",
    "\n",
    "DISEASE_NAMES_NEW = [\"C0001973_Alcoholic_Intoxication_Chronic\", \"C0011581_Depressive_disorder\", \\\n",
    "                     \"C0860207_Drug_Induced_Liver_Disease\", \"C3714756_Intellectual_Disability\", \\\n",
    "                     \"C0005586_Bipolar_Disorder\"]\n",
    "\n",
    "DISEASE_NAMES =  DISEASE_NAMES_OLD + DISEASE_NAMES_NEW\n",
    "\n",
    "DISEASE_CODES = {\"C0006142_Malignant_neoplasm_of_breast\": \"C0006142\", \"C0009402_Colorectal_Carcinoma\": \"C0009402\", \\\n",
    "                 \"C0023893_Liver_Cirrhosis_Experimental\": \"C0023893\", \"C0036341_Schizophrenia\": \"C0036341\", \\\n",
    "                 \"C0376358_Malignant_neoplasm_of_prostate\": \"C0376358\", \"C0001973_Alcoholic_Intoxication_Chronic\": \"C0001973\", \\\n",
    "                 \"C0011581_Depressive_disorder\": \"C0011581\", \"C0860207_Drug_Induced_Liver_Disease\": \"C0860207\", \\\n",
    "                 \"C3714756_Intellectual_Disability\": \"C3714756\", \"C0005586_Bipolar_Disorder\": \"C0005586\"}\n",
    "\n",
    "GUILD_METHODS   = [\"fFlow\", \"NetScore\", \"NetZcore\", \"NetShort\",\"NetCombo\", \"NetRank\"]\n",
    "COMPARE_METHODS = [\"XGDAG - GNNExplainer\",  \"XGDAG - GraphSVX\", \"NIAPU\", \"DIAMOnD\", \"MCL\", \"RWR\", \"fFlow\", \"NetCombo\", \"NetRank\"]\n",
    "XAI_METHODS     = [\"GNNExplainer\", \"XGDAG - GNNExplainer\", \"GraphSVX\", \"XGDAG - GraphSVX\", \"SubgraphX\", \"XGDAG - SubgraphX\"]\n",
    "\n",
    "\n",
    "print('Total disease used:', len(DISEASE_NAMES))\n",
    "print('Total methods used:', len(COMPARE_METHODS))"
   ]
  },
  {
   "cell_type": "code",
   "execution_count": 3,
   "metadata": {},
   "outputs": [],
   "source": [
    "ratios_to_validate = [25, 50, 100, 200, 500, 750, 1000, 1500, 2000, 2500, 3000]"
   ]
  },
  {
   "cell_type": "code",
   "execution_count": 4,
   "metadata": {},
   "outputs": [],
   "source": [
    "# Dictionary to store, the metric achieved by each method for each disease:\n",
    "# - disease_method_metric_d = {disease: {method: {metric: value}}}\n",
    "\n",
    "disease_method_metric_d = {}\n",
    "\n",
    "# Inizialization\n",
    "for disease in DISEASE_NAMES:\n",
    "    disease_method_metric_d[disease] = {}\n",
    "    for method in COMPARE_METHODS:\n",
    "        disease_method_metric_d[disease][method] = {}\n",
    "        for metric in ['P', 'R', 'F1', 'AUC']:\n",
    "            disease_method_metric_d[disease][method][metric] = 0"
   ]
  },
  {
   "cell_type": "code",
   "execution_count": 5,
   "metadata": {},
   "outputs": [
    {
     "data": {
      "application/json": {
       "ascii": false,
       "bar_format": null,
       "colour": null,
       "elapsed": 0.023001909255981445,
       "initial": 0,
       "n": 0,
       "ncols": null,
       "nrows": null,
       "postfix": null,
       "prefix": "",
       "rate": null,
       "total": 10,
       "unit": "it",
       "unit_divisor": 1000,
       "unit_scale": false
      },
      "application/vnd.jupyter.widget-view+json": {
       "model_id": "9b60d4e779504182b78998030500160f",
       "version_major": 2,
       "version_minor": 0
      },
      "text/plain": [
       "  0%|          | 0/10 [00:00<?, ?it/s]"
      ]
     },
     "metadata": {},
     "output_type": "display_data"
    }
   ],
   "source": [
    "auc_scores = {}\n",
    "for METHOD in COMPARE_METHODS:\n",
    "    auc_scores[METHOD] = []\n",
    "    \n",
    "for DISEASE_NAME in tqdm(DISEASE_NAMES):\n",
    "    recall_folds = []\n",
    "    precision_folds = []\n",
    "    F1_folds = []\n",
    "\n",
    "    recall_folds_compare_methods = {}\n",
    "    precision_folds_compare_methods = {}\n",
    "    F1_folds_compare_methods = {}\n",
    "    \n",
    "    for METHOD in COMPARE_METHODS:\n",
    "        recall_folds_compare_methods[METHOD] = []\n",
    "        precision_folds_compare_methods[METHOD] = []\n",
    "        F1_folds_compare_methods[METHOD] = []\n",
    "\n",
    "    for ratio_to_validate in ratios_to_validate:\n",
    "        GENE_APU_SCORES_PATH = \"Rankings/other_methods/NIAPU/\" + DISEASE_NAME + \"/\" + DISEASE_NAME + \"_ranking\"\n",
    "        TRAIN_SEEDS_PATH = \"Datasets_v2/\" + DISEASE_CODES[DISEASE_NAME] + \"_seed_genes.txt\"\n",
    "\n",
    "        APU_scores_df = pd.read_csv(GENE_APU_SCORES_PATH, header = None, sep = \" \")\n",
    "        APU_scores_df.columns = [\"name\", \"score\", \"label\"]\n",
    "        APU_ranking_df = APU_scores_df.sort_values(by = \"score\", ascending= False)\n",
    "        \n",
    "\n",
    "        # seed genes used for diffusion that we consider as P class in this scenario \n",
    "        # (20% or seed genes were removed to check for robustness)\n",
    "        train_seeds_df = pd.read_csv(TRAIN_SEEDS_PATH, header = None, sep = \" \")\n",
    "        train_seeds_df.columns = [\"name\", \"GDA Score\"]\n",
    "        train_seeds_list = train_seeds_df[\"name\"].values.tolist()\n",
    "\n",
    "        APU_ranking_df_not_seeds = APU_ranking_df[~APU_ranking_df['name'].isin(train_seeds_list)]\n",
    "\n",
    "        APU_ranking_candidate_genes = APU_ranking_df_not_seeds[\"name\"].values.tolist()\n",
    "        \n",
    "        N = None\n",
    "        \n",
    "        FILE_NAME_ALL_SEEDS = \"Datasets_v2/all_seed_genes/\" + DISEASE_NAME + \"_all_seed_genes.txt\"\n",
    "        all_seed_genes_df = pd.read_csv(FILE_NAME_ALL_SEEDS, sep = \" \", header = None)\n",
    "        all_seed_genes = all_seed_genes_df[0].values\n",
    "        test_seeds = list(set(all_seed_genes).difference(set(train_seeds_list)))\n",
    "        \n",
    "        N = len(all_seed_genes.tolist())\n",
    "        \n",
    "        APU_ranking_candidate_genes = APU_ranking_candidate_genes[:round(ratio_to_validate)]\n",
    "        TP = 0\n",
    "        FP = 0\n",
    "        P = len(test_seeds) #TP+FP\n",
    "\n",
    "        for gene in APU_ranking_candidate_genes:\n",
    "            \n",
    "            if gene in test_seeds:\n",
    "                TP += 1\n",
    "                \n",
    "            else:\n",
    "                FP += 1\n",
    "        \n",
    "        recall = TP / P\n",
    "        precision = TP / (TP + FP)\n",
    "\n",
    "        F1_score = 0\n",
    "        if (precision + recall) != 0:\n",
    "            F1_score = 2*(precision*recall)/(precision+recall)\n",
    "\n",
    "        recall_folds.append(recall)\n",
    "        precision_folds.append(precision)\n",
    "        F1_folds.append(F1_score)\n",
    "\n",
    "        recall_folds_compare_methods[\"NIAPU\"].append(recall)\n",
    "        precision_folds_compare_methods[\"NIAPU\"].append(precision)\n",
    "        F1_folds_compare_methods[\"NIAPU\"].append(F1_score)\n",
    "        \n",
    "        for METHOD in COMPARE_METHODS:\n",
    "            if METHOD != \"NIAPU\":\n",
    "                ranking_method = []\n",
    "\n",
    "                if METHOD in XAI_METHODS:\n",
    "                    with open(\"Rankings/\" + DISEASE_CODES[DISEASE_NAME] + \"_all_positives_new_ranking_\" + METHOD.lower().replace(\"-\", \"_\").replace(\" \", \"\") + \".txt\", \"r\", encoding=\"utf-8\") as rankingFile:\n",
    "                        for line in rankingFile:\n",
    "                            ranking_method.append(line.strip(\"\\n\"))\n",
    "\n",
    "                elif METHOD in GUILD_METHODS:        \n",
    "                    GUILD_METHOD_PATH = \"Rankings/other_methods/GUILD/\" + METHOD + \"/\" + DISEASE_NAME + \"_\" + METHOD + \".txt\"\n",
    "\n",
    "                    GUILD_scores_df = pd.read_csv(GUILD_METHOD_PATH, header = None, sep = \"\\t\")\n",
    "                    GUILD_scores_df.columns = [\"name\", \"score\"]\n",
    "                    GUILD_scores_df = GUILD_scores_df.sort_values(by = \"score\", ascending= False)\n",
    "\n",
    "                    ranking_method_df_not_seeds = GUILD_scores_df[~GUILD_scores_df['name'].isin(train_seeds_list)]\n",
    "                    ranking_method = ranking_method_df_not_seeds[\"name\"].values.tolist()\n",
    "                \n",
    "                else:\n",
    "                    with open(\"Rankings/other_methods/\" + METHOD + \"/\" + METHOD.lower() + \"_output_\" + DISEASE_NAME + \".txt\", \"r\", encoding=\"utf-8\") as rankingFile:\n",
    "                            for line in rankingFile:\n",
    "                                ranking_method.append(line.strip(\"\\n\"))\n",
    "                    \n",
    "\n",
    "                ranking_method = ranking_method[:round(ratio_to_validate)]\n",
    "                TP = 0\n",
    "                FP = 0\n",
    "                P = len(test_seeds) #TP+FP\n",
    "\n",
    "                for gene in ranking_method:\n",
    "                    \n",
    "                    if gene in test_seeds:\n",
    "                        TP += 1\n",
    "                        \n",
    "                    else:\n",
    "                        FP += 1\n",
    "\n",
    "                recall = TP / P\n",
    "                precision = TP / (TP + FP)\n",
    "                \n",
    "                F1_score = 0\n",
    "                if (precision + recall) != 0:\n",
    "                    F1_score = 2*(precision*recall)/(precision+recall)\n",
    "\n",
    "                recall_folds_compare_methods[METHOD].append(recall)\n",
    "                precision_folds_compare_methods[METHOD].append(precision)\n",
    "                F1_folds_compare_methods[METHOD].append(F1_score)\n",
    "        \n",
    "    #compute area under the precision-recall curve (AUC)\n",
    "    for METHOD in COMPARE_METHODS:\n",
    "        auc_score = auc(recall_folds_compare_methods[METHOD], precision_folds_compare_methods[METHOD])\n",
    "        auc_scores[METHOD].append(auc_score)\n",
    "\n",
    "        disease_method_metric_d[DISEASE_NAME][METHOD]['P']      = precision_folds_compare_methods[METHOD]\n",
    "        disease_method_metric_d[DISEASE_NAME][METHOD]['R']      = recall_folds_compare_methods[METHOD]\n",
    "        disease_method_metric_d[DISEASE_NAME][METHOD]['F1']     = F1_folds_compare_methods[METHOD]\n",
    "        disease_method_metric_d[DISEASE_NAME][METHOD]['AUC']    = auc_score\n",
    "\n"
   ]
  },
  {
   "cell_type": "code",
   "execution_count": 21,
   "metadata": {},
   "outputs": [
    {
     "data": {
      "text/plain": [
       "0.16377256944444443"
      ]
     },
     "execution_count": 21,
     "metadata": {},
     "output_type": "execute_result"
    }
   ],
   "source": [
    "disease_method_metric_d[\"C0006142_Malignant_neoplasm_of_breast\"]['XGDAG - GNNExplainer']['AUC']"
   ]
  },
  {
   "cell_type": "code",
   "execution_count": 12,
   "metadata": {},
   "outputs": [
    {
     "name": "stdout",
     "output_type": "stream",
     "text": [
      "C0006142_Malignant_neoplasm_of_breast\n",
      "C0009402_Colorectal_Carcinoma\n",
      "C0023893_Liver_Cirrhosis_Experimental\n",
      "C0376358_Malignant_neoplasm_of_prostate\n",
      "C0036341_Schizophrenia\n",
      "C0001973_Alcoholic_Intoxication_Chronic\n",
      "C0011581_Depressive_disorder\n",
      "C0860207_Drug_Induced_Liver_Disease\n",
      "C3714756_Intellectual_Disability\n",
      "C0005586_Bipolar_Disorder\n"
     ]
    }
   ],
   "source": [
    "for DISEASE_NAME in DISEASE_NAMES:\n",
    "    data = []\n",
    "    print(DISEASE_NAME)\n",
    "\n",
    "    for METHOD in COMPARE_METHODS:\n",
    "        data.append(disease_method_metric_d[DISEASE_NAME][METHOD]['F1'])\n",
    "        \n",
    "    fig = px.imshow(data,\n",
    "            labels=dict(x='Top K Genes', y='Methods', color='F1 Score'),\n",
    "            x = ratios_to_validate,\n",
    "            y = COMPARE_METHODS)\n",
    "    \n",
    "    # fig.show()\n",
    "    pio.write_image(fig, 'Images/PDF/'+DISEASE_NAME+'.pdf', scale=1)"
   ]
  }
 ],
 "metadata": {
  "kernelspec": {
   "display_name": "base",
   "language": "python",
   "name": "python3"
  },
  "language_info": {
   "codemirror_mode": {
    "name": "ipython",
    "version": 3
   },
   "file_extension": ".py",
   "mimetype": "text/x-python",
   "name": "python",
   "nbconvert_exporter": "python",
   "pygments_lexer": "ipython3",
   "version": "3.9.10"
  },
  "orig_nbformat": 4,
  "vscode": {
   "interpreter": {
    "hash": "6be87094300d2fd0b14f70b1fe8798b4c48d70f4967b41c52e40ae094b87f126"
   }
  }
 },
 "nbformat": 4,
 "nbformat_minor": 2
}
